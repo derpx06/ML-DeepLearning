{
 "cells": [
  {
   "cell_type": "code",
   "execution_count": 1,
   "id": "5ec2ba6d",
   "metadata": {},
   "outputs": [],
   "source": [
    "#!pip install torch --no-cache-dir --retries 10 --timeout 100\n"
   ]
  },
  {
   "cell_type": "code",
   "execution_count": 2,
   "id": "8077f149",
   "metadata": {},
   "outputs": [],
   "source": [
    "import tiktoken\n",
    "import torch\n",
    "from torch.utils.data import Dataset, DataLoader\n",
    "\n",
    "class GPTDatasetV1(Dataset):\n",
    "    def __init__(self, txt, tokenizer, max_length, stride):\n",
    "        self.input_ids = []\n",
    "        self.target_ids = []\n",
    "\n",
    "        token_ids = tokenizer.encode(txt)\n",
    "\n",
    "        for i in range(0, len(token_ids) - max_length, stride):\n",
    "            input_chunk = token_ids[i : i + max_length]\n",
    "            target_chunk = token_ids[i + 1 : i + max_length + 1]  # fixed here\n",
    "            self.input_ids.append(torch.tensor(input_chunk))\n",
    "            self.target_ids.append(torch.tensor(target_chunk))\n",
    "\n",
    "    def __len__(self):\n",
    "        return len(self.input_ids)\n",
    "\n",
    "    def __getitem__(self, idx):  # fixed name\n",
    "        return self.input_ids[idx], self.target_ids[idx]"
   ]
  },
  {
   "cell_type": "code",
   "execution_count": 3,
   "id": "b850d100",
   "metadata": {},
   "outputs": [],
   "source": [
    "def create_dataloader_v1(txt,batch_size = 4,max_length = 256,stride = 128,shuffle = True,drop_last= True,num_workers = 0):\n",
    "    tokenizer = tiktoken.get_encoding(\"gpt2\")\n",
    "    dataset = GPTDatasetV1(txt, tokenizer, max_length, stride)\n",
    "    dataLoader = DataLoader(dataset,\n",
    "                           batch_size = batch_size,\n",
    "                           shuffle = shuffle,\n",
    "                           drop_last = drop_last,\n",
    "                           num_workers = num_workers\n",
    "                           )\n",
    "    return dataLoader\n",
    "    "
   ]
  },
  {
   "cell_type": "code",
   "execution_count": 4,
   "id": "c7f18da3-5a53-4390-82fd-4a0282a3b522",
   "metadata": {},
   "outputs": [
    {
     "name": "stdout",
     "output_type": "stream",
     "text": [
      "[tensor([[  40,  367, 2885, 1464]]), tensor([[ 367, 2885, 1464, 1807]])]\n"
     ]
    }
   ],
   "source": [
    "with open(\"the-verdict.txt\", \"r\", encoding=\"utf-8\") as f:\n",
    "    raw_text = f.read()\n",
    "dataLoader = create_dataloader_v1(raw_text,batch_size = 1,max_length = 4,stride= 1,shuffle = False)\n",
    "data_iter = iter(dataLoader)\n",
    "first_batch = next(data_iter)\n",
    "print(first_batch)"
   ]
  },
  {
   "cell_type": "markdown",
   "id": "21e08827-86e8-4341-be59-791fc489a6e7",
   "metadata": {},
   "source": [
    "# 🧠 LLM Training: Sliding Window Sampling with PyTorch DataLoader\n",
    "\n",
    "To train a Language Model (LLM) like GPT, we need to:\n",
    "1. Convert raw text into token IDs using a tokenizer (e.g. BPE).\n",
    "2. Split the tokenized sequence into smaller fixed-length chunks.\n",
    "3. Create **input–target pairs** where:\n",
    "   - `input = [A, B, C]`\n",
    "   - `target = [B, C, D]` (i.e., the model learns to predict the next token)\n",
    "4. Batch these pairs using a PyTorch `DataLoader`.\n",
    "\n",
    "---\n",
    "\n",
    "## 🔁 Why Sliding Window?\n",
    "\n",
    "We can't train on the entire sequence at once (e.g. 100,000 tokens). Instead, we use a **sliding window** over the tokenized text to generate multiple training examples:\n",
    "\n",
    "- `max_length`: how many tokens per sequence\n",
    "- `stride`: how far the window slides each time\n",
    "\n",
    "This helps the model learn **context** and **predict the next token** efficiently.\n",
    "\n",
    "---\n",
    "\n",
    "## 🧱 Dataset and DataLoader Setup\n",
    "\n",
    "Here's how a simple dataset generator works using a sliding window approach:\n",
    "\n",
    "```python\n",
    "import torch\n",
    "from torch.utils.data import Dataset, DataLoader\n",
    "\n",
    "class GPTDatasetV1(Dataset):\n",
    "    def __init__(self, text, tokenizer, max_length=4, stride=3):\n",
    "        self.input_ids = []\n",
    "        self.target_ids = []\n",
    "\n",
    "        token_ids = tokenizer.encode(text).ids  # Convert to token IDs\n",
    "\n",
    "        for i in range(0, len(token_ids) - max_length, stride):\n",
    "            input_chunk = token_ids[i:i + max_length]\n",
    "            target_chunk = token_ids[i + 1: i + max_length + 1]\n",
    "\n",
    "            self.input_ids.append(torch.tensor(input_chunk))\n",
    "            self.target_ids.append(torch.tensor(target_chunk))\n",
    "\n",
    "    def __len__(self):\n",
    "        return len(self.input_ids)\n",
    "\n",
    "    def __getitem__(self, idx):\n",
    "        return self.input_ids[idx], self.target_ids[idx]\n",
    "\n",
    "print(second_batch)"
   ]
  },
  {
   "cell_type": "markdown",
   "id": "54daa410-4c6b-41f0-957e-99407379ddb3",
   "metadata": {},
   "source": []
  },
  {
   "cell_type": "code",
   "execution_count": 7,
   "id": "fcce45fa-3e87-4bf8-9547-21fad1915866",
   "metadata": {},
   "outputs": [
    {
     "name": "stdout",
     "output_type": "stream",
     "text": [
      "Inputs:\n",
      " tensor([[   40,   367,  2885,  1464],\n",
      "        [ 1464,  1807,  3619,   402],\n",
      "        [  402,   271, 10899,  2138],\n",
      "        [ 2138,   257,  7026, 15632],\n",
      "        [15632,   438,  2016,   257],\n",
      "        [  257,   922,  5891,  1576],\n",
      "        [ 1576,   438,   568,   340],\n",
      "        [  340,   373,   645,  1049]])\n",
      "\n",
      "Targets:\n",
      " tensor([[  367,  2885,  1464,  1807],\n",
      "        [ 1807,  3619,   402,   271],\n",
      "        [  271, 10899,  2138,   257],\n",
      "        [  257,  7026, 15632,   438],\n",
      "        [  438,  2016,   257,   922],\n",
      "        [  922,  5891,  1576,   438],\n",
      "        [  438,   568,   340,   373],\n",
      "        [  373,   645,  1049,  5975]])\n"
     ]
    }
   ],
   "source": [
    "dataloader = create_dataloader_v1(\n",
    "raw_text, batch_size=8, max_length=4, stride=3,\n",
    "shuffle=False\n",
    ")\n",
    "data_iter = iter(dataloader)\n",
    "inputs, targets = next(data_iter)\n",
    "print(\"Inputs:\\n\", inputs)\n",
    "print(\"\\nTargets:\\n\", targets)"
   ]
  },
  {
   "cell_type": "code",
   "execution_count": null,
   "id": "8f51d9e6-5141-4c6a-96d8-bee2cef3f783",
   "metadata": {},
   "outputs": [],
   "source": [
    "input_ids = torch.tensors([2,3,5])\n"
   ]
  }
 ],
 "metadata": {
  "kernelspec": {
   "display_name": "Python 3 (ipykernel)",
   "language": "python",
   "name": "python3"
  },
  "language_info": {
   "codemirror_mode": {
    "name": "ipython",
    "version": 3
   },
   "file_extension": ".py",
   "mimetype": "text/x-python",
   "name": "python",
   "nbconvert_exporter": "python",
   "pygments_lexer": "ipython3",
   "version": "3.13.5"
  }
 },
 "nbformat": 4,
 "nbformat_minor": 5
}
