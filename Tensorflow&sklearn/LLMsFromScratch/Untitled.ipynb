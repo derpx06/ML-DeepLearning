{
 "cells": [
  {
   "cell_type": "code",
   "execution_count": 12,
   "id": "e11b64b8-e6b7-4f03-9dea-7c35b67c1e14",
   "metadata": {},
   "outputs": [],
   "source": [
    "from tensorflow import keras\n",
    "shakespeare_url = \"https://homl.info/shakespeare\" # shortcut URL\n",
    "filepath = keras.utils.get_file(\"shakespeare.txt\", shakespeare_url)\n",
    "with open(filepath) as f:\n",
    "    shakespeare_text = f.read()"
   ]
  },
  {
   "cell_type": "code",
   "execution_count": 13,
   "id": "7c06e37b",
   "metadata": {},
   "outputs": [],
   "source": [
    "tokenizer = keras.preprocessing.text.Tokenizer(char_level=True)\n",
    "tokenizer.fit_on_texts(shakespeare_text)"
   ]
  },
  {
   "cell_type": "code",
   "execution_count": 14,
   "id": "66f0eff5",
   "metadata": {},
   "outputs": [
    {
     "data": {
      "text/plain": [
       "['  e t o a']"
      ]
     },
     "execution_count": 14,
     "metadata": {},
     "output_type": "execute_result"
    }
   ],
   "source": [
    "tokenizer.texts_to_sequences(\"hi\")\n",
    "tokenizer.sequences_to_texts([[1, 2, 3, 4, 5]])"
   ]
  },
  {
   "cell_type": "code",
   "execution_count": 15,
   "id": "a976e929",
   "metadata": {},
   "outputs": [
    {
     "data": {
      "text/plain": [
       "39"
      ]
     },
     "execution_count": 15,
     "metadata": {},
     "output_type": "execute_result"
    }
   ],
   "source": [
    "max_ids = len(tokenizer.word_index)\n",
    "max_ids"
   ]
  },
  {
   "cell_type": "code",
   "execution_count": 16,
   "id": "145a21c5",
   "metadata": {},
   "outputs": [
    {
     "data": {
      "text/plain": [
       "1115394"
      ]
     },
     "execution_count": 16,
     "metadata": {},
     "output_type": "execute_result"
    }
   ],
   "source": [
    "dataset_size = tokenizer.document_count\n",
    "dataset_size"
   ]
  },
  {
   "cell_type": "code",
   "execution_count": 17,
   "id": "f08e920d",
   "metadata": {},
   "outputs": [],
   "source": [
    "import numpy as np\n",
    "[encoded] = np.array(tokenizer.texts_to_sequences([shakespeare_text])) - 1"
   ]
  },
  {
   "cell_type": "code",
   "execution_count": 18,
   "id": "678e59fe",
   "metadata": {},
   "outputs": [],
   "source": [
    "import tensorflow as tf\n",
    "\n",
    "train_size = dataset_size * 90 // 100\n",
    "dataset = tf.data.Dataset.from_tensor_slices(encoded[:train_size])"
   ]
  },
  {
   "cell_type": "code",
   "execution_count": 19,
   "id": "33a3244b",
   "metadata": {},
   "outputs": [],
   "source": [
    "n_steps = 150\n",
    "window_length = n_steps + 1 # target = input shifted 1 character ahead\n",
    "dataset = dataset.window(window_length, shift=1, drop_remainder=True)"
   ]
  },
  {
   "cell_type": "code",
   "execution_count": 20,
   "id": "c61bb1dc",
   "metadata": {},
   "outputs": [],
   "source": [
    "dataset = dataset.flat_map(lambda window:window.batch(window_length))"
   ]
  },
  {
   "cell_type": "code",
   "execution_count": 21,
   "id": "57d6eb69",
   "metadata": {},
   "outputs": [],
   "source": [
    "dataset = dataset.shuffle(10000)\n",
    "dataset = dataset.map(lambda window: (window[:-1], window[1:]), num_parallel_calls=tf.data.AUTOTUNE)\n",
    "dataset = dataset.batch(32).prefetch(tf.data.AUTOTUNE)\n"
   ]
  },
  {
   "cell_type": "code",
   "execution_count": null,
   "id": "e1f59374",
   "metadata": {},
   "outputs": [
    {
     "name": "stdout",
     "output_type": "stream",
     "text": [
      "Epoch 1/20\n",
      "    525/Unknown \u001b[1m304s\u001b[0m 568ms/step - accuracy: 0.8667 - loss: 0.5050"
     ]
    }
   ],
   "source": [
    "model = keras.models.Sequential([\n",
    "    Embedding(input_dim=max_ids, output_dim=128),\n",
    "    Bidirectional(GRU(256, return_sequences=True, dropout=0.2, recurrent_dropout=0.2)),\n",
    "    LayerNormalization(),\n",
    "    Bidirectional(GRU(256, return_sequences=True, dropout=0.2, recurrent_dropout=0.2)),\n",
    "    LayerNormalization(),\n",
    "    # Adding one more dense layer before the output can sometimes help capture more complex relationships\n",
    "    Dense(128, activation=\"relu\"),\n",
    "    Dropout(0.3),\n",
    "    TimeDistributed(Dense(max_ids, activation=\"softmax\"))\n",
    "])\n",
    "\n",
    "# --- 2. Learning Rate Scheduler and Optimizer ---\n",
    "# Define a learning rate schedule for gradual decay\n",
    "initial_learning_rate = 5e-4\n",
    "lr_schedule = keras.optimizers.schedules.ExponentialDecay(\n",
    "    initial_learning_rate,\n",
    "    decay_steps=5000,\n",
    "    decay_rate=0.9,\n",
    "    staircase=True)\n",
    "\n",
    "# Use the Adam optimizer with the defined learning rate schedule\n",
    "optimizer = keras.optimizers.Adam(learning_rate=lr_schedule)\n",
    "\n",
    "# --- 3. Compile the Model ---\n",
    "model.compile(loss=\"sparse_categorical_crossentropy\", optimizer=optimizer, metrics=[\"accuracy\"])\n",
    "\n",
    "# --- 4. Refined Callbacks ---\n",
    "# Monitor 'val_loss' to save the model that performs best on unseen data\n",
    "model_checkpoint = keras.callbacks.ModelCheckpoint(\n",
    "    filepath=\"best_shakespeare_model.keras\",\n",
    "    save_best_only=True,\n",
    "    monitor=\"val_loss\", # Crucial change: monitor validation loss\n",
    "    verbose=1\n",
    ")\n",
    "\n",
    "# EarlyStopping should also monitor 'val_loss'\n",
    "early_stop = keras.callbacks.EarlyStopping(patience=5, monitor=\"val_loss\", restore_best_weights=True)\n",
    "\n",
    "# --- 5. Train the Model ---\n",
    "# Make sure to include your validation dataset here\n",
    "history = model.fit(dataset,\n",
    "                    epochs=20, # You can train for more epochs with early stopping\n",
    "                    callbacks=[early_stop, model_checkpoint])\n"
   ]
  }
 ],
 "metadata": {
  "kernelspec": {
   "display_name": "Python 3",
   "language": "python",
   "name": "python3"
  },
  "language_info": {
   "codemirror_mode": {
    "name": "ipython",
    "version": 3
   },
   "file_extension": ".py",
   "mimetype": "text/x-python",
   "name": "python",
   "nbconvert_exporter": "python",
   "pygments_lexer": "ipython3",
   "version": "3.12.11"
  }
 },
 "nbformat": 4,
 "nbformat_minor": 5
}
