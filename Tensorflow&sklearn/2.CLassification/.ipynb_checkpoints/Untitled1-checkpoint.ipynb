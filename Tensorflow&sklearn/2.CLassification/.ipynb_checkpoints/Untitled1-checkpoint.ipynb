{
 "cells": [
  {
   "cell_type": "code",
   "execution_count": 30,
   "id": "50c34385-5a56-4dd5-9f49-779a99cf00bc",
   "metadata": {},
   "outputs": [
    {
     "name": "stderr",
     "output_type": "stream",
     "text": [
      "/tmp/ipykernel_5747/1514786103.py:14: DeprecationWarning: Python 3.14 will, by default, filter extracted tar archives and reject files or modify their metadata. Use the filter argument to control this behavior.\n",
      "  t.extractall(SPAM_PATH)\n"
     ]
    }
   ],
   "source": [
    "import os, tarfile, urllib.request\n",
    "\n",
    "DOWNLOAD_ROOT = \"http://spamassassin.apache.org/old/publiccorpus/\"\n",
    "HAM_URL = DOWNLOAD_ROOT + \"20030228_easy_ham.tar.bz2\"\n",
    "SPAM_URL = DOWNLOAD_ROOT + \"20030228_spam.tar.bz2\"\n",
    "SPAM_PATH = os.path.join(\"datasets\", \"spam\")\n",
    "\n",
    "def fetch_spam_data():\n",
    "    os.makedirs(SPAM_PATH, exist_ok=True)\n",
    "    for filename, url in ((\"ham.tar.bz2\", HAM_URL), (\"spam.tar.bz2\", SPAM_URL)):\n",
    "        path = os.path.join(SPAM_PATH, filename)\n",
    "        urllib.request.urlretrieve(url, path)\n",
    "        with tarfile.open(path) as t:\n",
    "            t.extractall(SPAM_PATH)\n",
    "\n",
    "fetch_spam_data()\n"
   ]
  },
  {
   "cell_type": "code",
   "execution_count": 31,
   "id": "79408e66-b9f0-4488-b31b-4b77180d1bcf",
   "metadata": {},
   "outputs": [],
   "source": [
    "import email, email.policy\n",
    "\n",
    "def load_email(is_spam, filename, base=SPAM_PATH):\n",
    "    folder = \"spam\" if is_spam else \"easy_ham\"\n",
    "    path = os.path.join(base, folder, filename)\n",
    "    with open(path, \"rb\") as f:\n",
    "        return email.parser.BytesParser(policy=email.policy.default).parse(f)\n",
    "\n",
    "ham_files = os.listdir(os.path.join(SPAM_PATH, \"easy_ham\"))\n",
    "spam_files = os.listdir(os.path.join(SPAM_PATH, \"spam\"))\n",
    "\n",
    "ham_emails = [load_email(False, fn) for fn in ham_files if len(fn) > 20]\n",
    "spam_emails = [load_email(True, fn) for fn in spam_files if len(fn) > 20]\n"
   ]
  },
  {
   "cell_type": "code",
   "execution_count": 32,
   "id": "8873413c-dbdd-4c06-84fb-d2946df85fd7",
   "metadata": {},
   "outputs": [
    {
     "ename": "LookupError",
     "evalue": "unknown encoding: unknown-8bit",
     "output_type": "error",
     "traceback": [
      "\u001b[31m---------------------------------------------------------------------------\u001b[39m",
      "\u001b[31mLookupError\u001b[39m                               Traceback (most recent call last)",
      "\u001b[36mCell\u001b[39m\u001b[36m \u001b[39m\u001b[32mIn[32]\u001b[39m\u001b[32m, line 9\u001b[39m\n\u001b[32m      6\u001b[39m     \u001b[38;5;28;01mreturn\u001b[39;00m \u001b[33m\"\u001b[39m\u001b[33m\"\u001b[39m\n\u001b[32m      8\u001b[39m ham_texts = [get_body(msg) \u001b[38;5;28;01mfor\u001b[39;00m msg \u001b[38;5;129;01min\u001b[39;00m ham_emails]\n\u001b[32m----> \u001b[39m\u001b[32m9\u001b[39m spam_texts = [\u001b[43mget_body\u001b[49m\u001b[43m(\u001b[49m\u001b[43mmsg\u001b[49m\u001b[43m)\u001b[49m \u001b[38;5;28;01mfor\u001b[39;00m msg \u001b[38;5;129;01min\u001b[39;00m spam_emails]\n",
      "\u001b[36mCell\u001b[39m\u001b[36m \u001b[39m\u001b[32mIn[32]\u001b[39m\u001b[32m, line 5\u001b[39m, in \u001b[36mget_body\u001b[39m\u001b[34m(msg)\u001b[39m\n\u001b[32m      3\u001b[39m \u001b[38;5;28;01mfor\u001b[39;00m part \u001b[38;5;129;01min\u001b[39;00m parts:\n\u001b[32m      4\u001b[39m     \u001b[38;5;28;01mif\u001b[39;00m part.get_content_type() == \u001b[33m'\u001b[39m\u001b[33mtext/plain\u001b[39m\u001b[33m'\u001b[39m:\n\u001b[32m----> \u001b[39m\u001b[32m5\u001b[39m         \u001b[38;5;28;01mreturn\u001b[39;00m \u001b[43mpart\u001b[49m\u001b[43m.\u001b[49m\u001b[43mget_content\u001b[49m\u001b[43m(\u001b[49m\u001b[43m)\u001b[49m.strip()\n\u001b[32m      6\u001b[39m \u001b[38;5;28;01mreturn\u001b[39;00m \u001b[33m\"\u001b[39m\u001b[33m\"\u001b[39m\n",
      "\u001b[36mFile \u001b[39m\u001b[32m/usr/lib/python3.13/email/message.py:1132\u001b[39m, in \u001b[36mMIMEPart.get_content\u001b[39m\u001b[34m(self, content_manager, *args, **kw)\u001b[39m\n\u001b[32m   1130\u001b[39m \u001b[38;5;28;01mif\u001b[39;00m content_manager \u001b[38;5;129;01mis\u001b[39;00m \u001b[38;5;28;01mNone\u001b[39;00m:\n\u001b[32m   1131\u001b[39m     content_manager = \u001b[38;5;28mself\u001b[39m.policy.content_manager\n\u001b[32m-> \u001b[39m\u001b[32m1132\u001b[39m \u001b[38;5;28;01mreturn\u001b[39;00m \u001b[43mcontent_manager\u001b[49m\u001b[43m.\u001b[49m\u001b[43mget_content\u001b[49m\u001b[43m(\u001b[49m\u001b[38;5;28;43mself\u001b[39;49m\u001b[43m,\u001b[49m\u001b[43m \u001b[49m\u001b[43m*\u001b[49m\u001b[43margs\u001b[49m\u001b[43m,\u001b[49m\u001b[43m \u001b[49m\u001b[43m*\u001b[49m\u001b[43m*\u001b[49m\u001b[43mkw\u001b[49m\u001b[43m)\u001b[49m\n",
      "\u001b[36mFile \u001b[39m\u001b[32m/usr/lib/python3.13/email/contentmanager.py:22\u001b[39m, in \u001b[36mContentManager.get_content\u001b[39m\u001b[34m(self, msg, *args, **kw)\u001b[39m\n\u001b[32m     20\u001b[39m maintype = msg.get_content_maintype()\n\u001b[32m     21\u001b[39m \u001b[38;5;28;01mif\u001b[39;00m maintype \u001b[38;5;129;01min\u001b[39;00m \u001b[38;5;28mself\u001b[39m.get_handlers:\n\u001b[32m---> \u001b[39m\u001b[32m22\u001b[39m     \u001b[38;5;28;01mreturn\u001b[39;00m \u001b[38;5;28;43mself\u001b[39;49m\u001b[43m.\u001b[49m\u001b[43mget_handlers\u001b[49m\u001b[43m[\u001b[49m\u001b[43mmaintype\u001b[49m\u001b[43m]\u001b[49m\u001b[43m(\u001b[49m\u001b[43mmsg\u001b[49m\u001b[43m,\u001b[49m\u001b[43m \u001b[49m\u001b[43m*\u001b[49m\u001b[43margs\u001b[49m\u001b[43m,\u001b[49m\u001b[43m \u001b[49m\u001b[43m*\u001b[49m\u001b[43m*\u001b[49m\u001b[43mkw\u001b[49m\u001b[43m)\u001b[49m\n\u001b[32m     23\u001b[39m \u001b[38;5;28;01mif\u001b[39;00m \u001b[33m'\u001b[39m\u001b[33m'\u001b[39m \u001b[38;5;129;01min\u001b[39;00m \u001b[38;5;28mself\u001b[39m.get_handlers:\n\u001b[32m     24\u001b[39m     \u001b[38;5;28;01mreturn\u001b[39;00m \u001b[38;5;28mself\u001b[39m.get_handlers[\u001b[33m'\u001b[39m\u001b[33m'\u001b[39m](msg, *args, **kw)\n",
      "\u001b[36mFile \u001b[39m\u001b[32m/usr/lib/python3.13/email/contentmanager.py:67\u001b[39m, in \u001b[36mget_text_content\u001b[39m\u001b[34m(msg, errors)\u001b[39m\n\u001b[32m     65\u001b[39m content = msg.get_payload(decode=\u001b[38;5;28;01mTrue\u001b[39;00m)\n\u001b[32m     66\u001b[39m charset = msg.get_param(\u001b[33m'\u001b[39m\u001b[33mcharset\u001b[39m\u001b[33m'\u001b[39m, \u001b[33m'\u001b[39m\u001b[33mASCII\u001b[39m\u001b[33m'\u001b[39m)\n\u001b[32m---> \u001b[39m\u001b[32m67\u001b[39m \u001b[38;5;28;01mreturn\u001b[39;00m \u001b[43mcontent\u001b[49m\u001b[43m.\u001b[49m\u001b[43mdecode\u001b[49m\u001b[43m(\u001b[49m\u001b[43mcharset\u001b[49m\u001b[43m,\u001b[49m\u001b[43m \u001b[49m\u001b[43merrors\u001b[49m\u001b[43m=\u001b[49m\u001b[43merrors\u001b[49m\u001b[43m)\u001b[49m\n",
      "\u001b[31mLookupError\u001b[39m: unknown encoding: unknown-8bit"
     ]
    }
   ],
   "source": [
    "def get_body(msg):\n",
    "    parts = [msg] if msg.get_content_type() == 'text/plain' else msg.walk()\n",
    "    for part in parts:\n",
    "        if part.get_content_type() == 'text/plain':\n",
    "            return part.get_content().strip()\n",
    "    return \"\"\n",
    "    \n",
    "ham_texts = [get_body(msg) for msg in ham_emails]\n",
    "spam_texts = [get_body(msg) for msg in spam_emails]\n"
   ]
  },
  {
   "cell_type": "code",
   "execution_count": null,
   "id": "ae1864b7-c780-4399-a4aa-06339df46e2c",
   "metadata": {},
   "outputs": [],
   "source": []
  }
 ],
 "metadata": {
  "kernelspec": {
   "display_name": "Python 3 (ipykernel)",
   "language": "python",
   "name": "python3"
  },
  "language_info": {
   "codemirror_mode": {
    "name": "ipython",
    "version": 3
   },
   "file_extension": ".py",
   "mimetype": "text/x-python",
   "name": "python",
   "nbconvert_exporter": "python",
   "pygments_lexer": "ipython3",
   "version": "3.13.3"
  }
 },
 "nbformat": 4,
 "nbformat_minor": 5
}
