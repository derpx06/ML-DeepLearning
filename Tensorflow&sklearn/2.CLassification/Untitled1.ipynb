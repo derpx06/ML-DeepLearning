{
 "cells": [
  {
   "cell_type": "code",
   "execution_count": 30,
   "id": "50c34385-5a56-4dd5-9f49-779a99cf00bc",
   "metadata": {},
   "outputs": [
    {
     "name": "stderr",
     "output_type": "stream",
     "text": [
      "/tmp/ipykernel_5747/1514786103.py:14: DeprecationWarning: Python 3.14 will, by default, filter extracted tar archives and reject files or modify their metadata. Use the filter argument to control this behavior.\n",
      "  t.extractall(SPAM_PATH)\n"
     ]
    }
   ],
   "source": [
    "import os, tarfile, urllib.request\n",
    "\n",
    "DOWNLOAD_ROOT = \"http://spamassassin.apache.org/old/publiccorpus/\"\n",
    "HAM_URL = DOWNLOAD_ROOT + \"20030228_easy_ham.tar.bz2\"\n",
    "SPAM_URL = DOWNLOAD_ROOT + \"20030228_spam.tar.bz2\"\n",
    "SPAM_PATH = os.path.join(\"datasets\", \"spam\")\n",
    "\n",
    "def fetch_spam_data():\n",
    "    os.makedirs(SPAM_PATH, exist_ok=True)\n",
    "    for filename, url in ((\"ham.tar.bz2\", HAM_URL), (\"spam.tar.bz2\", SPAM_URL)):\n",
    "        path = os.path.join(SPAM_PATH, filename)\n",
    "        urllib.request.urlretrieve(url, path)\n",
    "        with tarfile.open(path) as t:\n",
    "            t.extractall(SPAM_PATH)\n",
    "\n",
    "fetch_spam_data()\n"
   ]
  },
  {
   "cell_type": "code",
   "execution_count": 31,
   "id": "79408e66-b9f0-4488-b31b-4b77180d1bcf",
   "metadata": {},
   "outputs": [],
   "source": [
    "import email, email.policy\n",
    "\n",
    "def load_email(is_spam, filename, base=SPAM_PATH):\n",
    "    folder = \"spam\" if is_spam else \"easy_ham\"\n",
    "    path = os.path.join(base, folder, filename)\n",
    "    with open(path, \"rb\") as f:\n",
    "        return email.parser.BytesParser(policy=email.policy.default).parse(f)\n",
    "\n",
    "ham_files = os.listdir(os.path.join(SPAM_PATH, \"easy_ham\"))\n",
    "spam_files = os.listdir(os.path.join(SPAM_PATH, \"spam\"))\n",
    "\n",
    "ham_emails = [load_email(False, fn) for fn in ham_files if len(fn) > 20]\n",
    "spam_emails = [load_email(True, fn) for fn in spam_files if len(fn) > 20]\n"
   ]
  },
  {
   "cell_type": "code",
   "execution_count": 33,
   "id": "8873413c-dbdd-4c06-84fb-d2946df85fd7",
   "metadata": {},
   "outputs": [],
   "source": [
    "def get_body(msg):\n",
    "    parts = [msg] if msg.get_content_type() == 'text/plain' else msg.walk()\n",
    "    for part in parts:\n",
    "        if part.get_content_type() == 'text/plain':\n",
    "            try:\n",
    "                payload = part.get_payload(decode=True)\n",
    "                charset = part.get_content_charset()\n",
    "                if charset:\n",
    "                    return payload.decode(charset, errors='replace').strip()\n",
    "                else:\n",
    "                    return payload.decode('utf-8', errors='replace').strip()\n",
    "            except:\n",
    "                return \"\"  # fallback in case decoding fails\n",
    "    return \"\"\n"
   ]
  },
  {
   "cell_type": "code",
   "execution_count": 34,
   "id": "ae1864b7-c780-4399-a4aa-06339df46e2c",
   "metadata": {},
   "outputs": [
    {
     "ename": "NameError",
     "evalue": "name 'string' is not defined",
     "output_type": "error",
     "traceback": [
      "\u001b[31m---------------------------------------------------------------------------\u001b[39m",
      "\u001b[31mNameError\u001b[39m                                 Traceback (most recent call last)",
      "\u001b[36mCell\u001b[39m\u001b[36m \u001b[39m\u001b[32mIn[34]\u001b[39m\u001b[32m, line 7\u001b[39m\n\u001b[32m      4\u001b[39m     text = re.sub(\u001b[33mr\u001b[39m\u001b[33m\"\u001b[39m\u001b[33m\\\u001b[39m\u001b[33md+\u001b[39m\u001b[33m\"\u001b[39m, \u001b[33m\"\u001b[39m\u001b[33mnumber\u001b[39m\u001b[33m\"\u001b[39m, text)\n\u001b[32m      5\u001b[39m     \u001b[38;5;28;01mreturn\u001b[39;00m text.translate(\u001b[38;5;28mstr\u001b[39m.maketrans(\u001b[33m\"\u001b[39m\u001b[33m\"\u001b[39m, \u001b[33m\"\u001b[39m\u001b[33m\"\u001b[39m, string.punctuation))\n\u001b[32m----> \u001b[39m\u001b[32m7\u001b[39m data = [(\u001b[43mclean\u001b[49m\u001b[43m(\u001b[49m\u001b[43mtext\u001b[49m\u001b[43m)\u001b[49m, \u001b[32m0\u001b[39m) \u001b[38;5;28;01mfor\u001b[39;00m text \u001b[38;5;129;01min\u001b[39;00m ham_texts] + [(clean(text), \u001b[32m1\u001b[39m) \u001b[38;5;28;01mfor\u001b[39;00m text \u001b[38;5;129;01min\u001b[39;00m spam_texts]\n\u001b[32m      8\u001b[39m df = pd.DataFrame(data, columns=[\u001b[33m\"\u001b[39m\u001b[33mtext\u001b[39m\u001b[33m\"\u001b[39m, \u001b[33m\"\u001b[39m\u001b[33mlabel\u001b[39m\u001b[33m\"\u001b[39m]).sample(frac=\u001b[32m1\u001b[39m, random_state=\u001b[32m42\u001b[39m)\n",
      "\u001b[36mCell\u001b[39m\u001b[36m \u001b[39m\u001b[32mIn[34]\u001b[39m\u001b[32m, line 5\u001b[39m, in \u001b[36mclean\u001b[39m\u001b[34m(text)\u001b[39m\n\u001b[32m      3\u001b[39m text = re.sub(\u001b[33mr\u001b[39m\u001b[33m\"\u001b[39m\u001b[33mhttp\u001b[39m\u001b[33m\\\u001b[39m\u001b[33mS+\u001b[39m\u001b[33m\"\u001b[39m, \u001b[33m\"\u001b[39m\u001b[33murl\u001b[39m\u001b[33m\"\u001b[39m, text)\n\u001b[32m      4\u001b[39m text = re.sub(\u001b[33mr\u001b[39m\u001b[33m\"\u001b[39m\u001b[33m\\\u001b[39m\u001b[33md+\u001b[39m\u001b[33m\"\u001b[39m, \u001b[33m\"\u001b[39m\u001b[33mnumber\u001b[39m\u001b[33m\"\u001b[39m, text)\n\u001b[32m----> \u001b[39m\u001b[32m5\u001b[39m \u001b[38;5;28;01mreturn\u001b[39;00m text.translate(\u001b[38;5;28mstr\u001b[39m.maketrans(\u001b[33m\"\u001b[39m\u001b[33m\"\u001b[39m, \u001b[33m\"\u001b[39m\u001b[33m\"\u001b[39m, \u001b[43mstring\u001b[49m.punctuation))\n",
      "\u001b[31mNameError\u001b[39m: name 'string' is not defined"
     ]
    }
   ],
   "source": []
  },
  {
   "cell_type": "code",
   "execution_count": null,
   "id": "67ea4f42-e5b4-4477-b618-f9e07c4c7a76",
   "metadata": {},
   "outputs": [],
   "source": []
  }
 ],
 "metadata": {
  "kernelspec": {
   "display_name": "Python 3 (ipykernel)",
   "language": "python",
   "name": "python3"
  },
  "language_info": {
   "codemirror_mode": {
    "name": "ipython",
    "version": 3
   },
   "file_extension": ".py",
   "mimetype": "text/x-python",
   "name": "python",
   "nbconvert_exporter": "python",
   "pygments_lexer": "ipython3",
   "version": "3.13.3"
  }
 },
 "nbformat": 4,
 "nbformat_minor": 5
}
