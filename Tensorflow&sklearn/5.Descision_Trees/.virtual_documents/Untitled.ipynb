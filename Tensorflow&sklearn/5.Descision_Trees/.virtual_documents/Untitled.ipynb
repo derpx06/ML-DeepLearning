from sklearn.datasets import load_iris
from sklearn.tree import DecisionTreeClassifier
iris = load_iris()
X = iris.data[:, 2:] # petal length and width
y = iris.target
tree_clf = DecisionTreeClassifier(max_depth=2)
tree_clf.fit(X, y)


import os
# Define path to save the dot file
def image_path(filename):
    return os.path.join( filename)

# Make sure the directory exists

# Export the tree
export_graphviz(
    tree_clf,
    out_file=image_path("iris_tree.dot"),
    feature_names=iris.feature_names[2:],  # petal length & width
    class_names=iris.target_names,
    rounded=True,
    filled=True
)


dot -Tpng iris_tree.dot -o iris_tree.png






