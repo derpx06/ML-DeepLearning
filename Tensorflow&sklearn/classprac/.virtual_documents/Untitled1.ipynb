from sklearn.datasets import fetch_openml
mnist = fetch_openml('mnist_784', as_frame=False)


X,y = mnist["data"],mnist["target"]
print(X.shape)
print(y.shape)


X, y = mnist.data, mnist.target
X


import matplotlib.pyplot as plt

def plot_digit(image_data):
    image = image_data.reshape(28, 28)
    plt.imshow(image, cmap="binary")
    plt.axis("off")

some_digit = X[0]
plot_digit(some_digit)
plt.show()


import numpy as np
y = y.astype(np.uint8)


X_train, X_test, y_train, y_test = X[:60000], X[60000:], y[:60000], y[60000:]
y_train_5 = (y_train == 5) # True for all 5s, False for all other digits
y_test_5 = (y_test == 5)


plt.figure(figsize=(10,10))
for idx, image_data in enumerate(X[:100]):
    plt.subplot(10, 10, idx + 1)
    plot_digit(image_data)
plt.subplots_adjust(wspace=0, hspace=0)
plt.show()


from sklearn.linear_model import SGDClassifier
sgd_clf = SGDClassifier(random_state=42)
sgd_clf.fit(X_train, y_train_5)


sgd_clf.predict([some_digit])


from sklearn.model_selection import StratifiedKFold
from sklearn.base import clone
skfold = StratifiedKFold(n_splits = 3)
for train_index,test_index in skfold.split(X_train,y_train_5):
    clone_clf = clone(sgd_clf)
    X_train_folds = X_train[train_index]
    y_train_folds = y_train_5[train_index]
    X_test_folds = X_train[test_index]
    y_test_folds = y_train_5[test_index]

    clone_clf.fit(X_train_folds,y_train_folds)
    y_pred = clone_clf.predict(X_test_folds)
    n_correct = sum(y_pred == y_test_folds)
    print(n_correct / len(y_pred)) 
    


from sklearn.model_selection import cross_val_predict

y_train_pred = cross_val_predict(sgd_clf, X_train, y_train_5, cv=3)
y_train_pred


from sklearn.metrics import confusion_matrix

cm = confusion_matrix(y_train_5, y_train_pred)
cm


from sklearn.metrics import precision_score, recall_score

precision_score(y_train_5, y_train_pred) 


recall_score(y_train_5, y_train_pred) 


from sklearn.metrics import f1_score
f1_score(y_train_5,y_train_pred)


y_scores = cross_val_predict(sgd_clf, X_train, y_train_5, cv=3,
method="decision_function")
from sklearn.metrics import precision_recall_curve
precisions, recalls, thresholds = precision_recall_curve(y_train_5, y_scores)


def plot_precision_recall_vs_threshold(precisions, recalls, thresholds):
    plt.plot(thresholds, precisions[:-1], "b--", label="Precision")
    plt.plot(thresholds, recalls[:-1], "g-", label="Recall")
    [...] # highlight the threshold and add the legend, axis label, and grid
plot_precision_recall_vs_threshold(precisions, recalls, thresholds)
plt.show()


plt.plot(recalls[:-1], precisions[:-1], label="Precision-Recall Curve", color="blue")

# Add axis labels and title
plt.xlabel("Precision")
plt.ylabel("Recall")
plt.title("Precision-Recall Curve")

# Show legend
plt.legend()

# Show the plot
plt.show()



from sklearn.metrics import roc_curve
fpr,tpr,thresholds = roc_curve(y_train_5,y_scores)



plt.plot(fpr,tpr,label = "roc_curve")
plt.xlabel("FPR")
plt.ylabel("TPR")
plt.legend()
plt.title("ROC curve")


from sklearn.metrics import roc_auc_score
roc_auc_score(y_train_5,y_scores)


from sklearn.ensemble import RandomForestClassifier
forest_clf = RandomForestClassifier(random_state=42)
y_probas_forest = cross_val_predict(forest_clf, X_train, y_train_5, cv=3,
method="predict_proba")


y_scores_forest = y_probas_forest[:, 1]
# score = proba of positive class
fpr_forest, tpr_forest, thresholds_forest = roc_curve(y_train_5,y_scores_forest)


import matplotlib.pyplot as plt

# Assume these are already computed:
# fpr, tpr          → from SGDClassifier
# fpr_forest, tpr_forest → from Random Forest

# Plot ROC curve for SGD
plt.plot(fpr, tpr, "b:", label="SGD Classifier")

# Plot ROC curve for Random Forest
plt.plot(fpr_forest, tpr_forest, label="Random Forest Classifier", color="green")

# Plot settings
plt.xlabel("False Positive Rate")
plt.ylabel("True Positive Rate")
plt.title("ROC Curve")
plt.legend(loc="lower right")
plt.grid(True)

plt.show()



roc_auc_score(y_train_5,y_scores_forest)


from sklearn.svm import SVC
svc_clf = SVC()
svc_clf.fit(X_train,y_train)
svc_clf.predict([some_digit])


some_descision_scores = svc_clf.decision_function([some_digit])
some_descision_scores


print("hi")


from sklearn.preprocessing import StandardScaler
from sklearn.model_selection import cross_val_score
scaler =  StandardScaler()
X_train_scaled = scaler.fit_transform(X_train.astype(np.float64))
y_train_pred = cross_val_predict(sgd_clf, X_train_scaled, y_train, cv=3)


conf_mx = confusion_matrix(y_train, y_train_pred)
conf_mx


plt.matshow(conf_mx, cmap=plt.cm.gray)
plt.show()


row_sums = conf_mx.sum(axis=1, keepdims=True)
norm_conf_mx = conf_mx / row_sums


np.fill_diagonal(norm_conf_mx, 0)
plt.matshow(norm_conf_mx, cmap=plt.cm.gray)
plt.show()


print(y_train_pred)



cl_a, cl_b = 3, 5
X_aa = X_train[(y_train == cl_a) & (y_train_pred == cl_a)]
X_ab = X_train[(y_train == cl_a) & (y_train_pred == cl_b)]
X_ba = X_train[(y_train == cl_b) & (y_train_pred == cl_a)]
X_bb = X_train[(y_train == cl_b) & (y_train_pred == cl_b)]
# Plotting helper function
def plot_digits(instances, images_per_row=5):
    size = 28  # MNIST image size; adjust if different
    images_per_row = min(len(instances), images_per_row)
    n_rows = (len(instances) - 1) // images_per_row + 1
    n_empty = n_rows * images_per_row - len(instances)
    padded = np.concatenate([instances, np.zeros((n_empty, size * size))], axis=0)
    image_grid = padded.reshape((n_rows, images_per_row, size, size))
    big_image = image_grid.swapaxes(1, 2).reshape((n_rows * size, images_per_row * size))
    plt.imshow(big_image, cmap="binary")
    plt.axis("off")

plt.figure(figsize=(8,8))
plt.subplot(221); plot_digits(X_aa[:25], images_per_row=5)
plt.subplot(222); plot_digits(X_ab[:25], images_per_row=5)
plt.subplot(223); plot_digits(X_ba[:25], images_per_row=5)
plt.subplot(224); plot_digits(X_bb[:25], images_per_row=5)
plt.show()


from sklearn.metrics import accuracy_score
y_test_pred = sgd_clf.predict(X_test)
accuracy_score(y_test, y_test_pred)


scaler = StandardScaler()
X_train_scaled = scaler.fit_transform(X_train)
X_test_scaled = scaler.transform(X_test)







