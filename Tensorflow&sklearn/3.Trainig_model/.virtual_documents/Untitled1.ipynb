import pandas as pd

# Load dataset
url = "https://raw.githubusercontent.com/justmarkham/pycon-2016-tutorial/master/data/sms.tsv"
df = pd.read_csv(url, sep='\t', header=None, names=['label', 'message'])

df.head()



import pandas as pd
import numpy as np
import matplotlib.pyplot as plt
import seaborn as sns

from sklearn.model_selection import train_test_split
from sklearn.feature_extraction.text import TfidfVectorizer
from sklearn.preprocessing import LabelEncoder
from sklearn.linear_model import LogisticRegression, SGDClassifier
from sklearn.metrics import classification_report, confusion_matrix, accuracy_score



# Count plot
sns.countplot(data=df, x='label', palette='Set2')
plt.title("Number of Spam vs Ham Messages")
plt.show()



le = LabelEncoder()
df['label'] = le.fit_transform(df['label'])
df.head()


X_train, X_test, y_train, y_test = train_test_split(
    df['message'], df['label'], test_size=0.2, random_state=42, stratify=df['label']
)



vectorizer = TfidfVectorizer(stop_words='english', max_df=0.95)
X_train_vec = vectorizer.fit_transform(X_train)
X_test_vec = vectorizer.transform(X_test)



def plot_top_words(vectorizer, class_label, top_n=20):
    tfidf = vectorizer.transform(df[df['label'] == class_label]['message'])
    mean_tfidf = tfidf.mean(axis=0).A1
    feature_names = np.array(vectorizer.get_feature_names_out())
    
    sorted_idx = np.argsort(mean_tfidf)[-top_n:]
    plt.figure(figsize=(10,5))
    plt.barh(feature_names[sorted_idx], mean_tfidf[sorted_idx], color='teal')
    label_name = "Ham" if class_label == 0 else "Spam"
    plt.title(f"Top {top_n} TF-IDF Words for {label_name}")
    plt.xlabel("TF-IDF Score")
    plt.show()

plot_top_words(vectorizer, class_label=0,top_n=30)  # Ham
plot_top_words(vectorizer, class_label=1,top_n=30)  # Spam



log_clf = LogisticRegression()
log_clf.fit(X_train_vec,y_train)


y_pred_log = log_clf.predict(X_test_vec)


y_pred_log


log_clf.predict(X_test_vec[2])


print(X_test[2])


sgd_clf = SGDClassifier()
sgd_clf.fit(X_train_vec, y_train)
y_pred_sgd = sgd_clf.predict(X_test_vec)



def evaluate(y_true, y_pred, model_name="Model"):
    print(f"--- {model_name} ---")
    print("Accuracy:", accuracy_score(y_true, y_pred))
    print("Confusion Matrix:\n", confusion_matrix(y_true, y_pred))
    print("Classification Report:\n", classification_report(y_true, y_pred))

evaluate(y_test, y_pred_log, "Logistic Regression")
evaluate(y_test, y_pred_sgd, "SGD Classifier")

if 'y_pred_df' in locals():
    evaluate(y_test, y_pred_df, "Deep Forest")



import joblib
joblib.dump(log_clf, "spam_logistic_model.pkl")
joblib.dump(vectorizer, "tfidf_vectorizer.pkl")

# To load later
# model = joblib.load("spam_logistic_model.pkl")
# vect = joblib.load("tfidf_vectorizer.pkl")



model = joblib.load("spam_logistic_model.pkl")
vect = joblib.load("tfidf_vectorizer.pkl")


# Local custom messages
messages = [
    "Congratulations! You've won a $500 Walmart gift card. Click here to claim.",
    "Hey bro, are you free to play tonight?",
    "Your Netflix account has been suspended. Log in to verify your details.",
    "Don't forget to submit your assignment by 6 PM.",
    "Hey fuck you",
    "Do you want a choclate click this link",
    "Get free choclate here"
]



# Vectorize input messages
X_local = vectorizer.transform(messages)

# Predict
predictions = model.predict(X_local)

# Decode and print result
for msg, pred in zip(messages, predictions):
    label = "Spam" if pred == 1 else "Ham"
    print(f"> {msg} \n→ Prediction: {label}\n")




