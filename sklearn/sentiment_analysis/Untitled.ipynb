{
 "cells": [
  {
   "cell_type": "code",
   "execution_count": 1,
   "id": "f6b444a8-f330-49dc-b089-f1640a29baca",
   "metadata": {},
   "outputs": [],
   "source": [
    "# Import libraries\n",
    "import os  # For reading files\n",
    "import re  # For text cleaning\n",
    "import pandas as pd  # For data handling (optional, for exploration)\n",
    "import matplotlib.pyplot as plt  # For plotting\n"
   ]
  },
  {
   "cell_type": "code",
   "execution_count": 2,
   "id": "015a1b40-ac84-4de4-9ce0-d444ed88643c",
   "metadata": {},
   "outputs": [],
   "source": [
    "# Function to load lexicons from the dataset\n",
    "def load_lexicons(dataset_path):\n",
    "    lexicons = {}\n",
    "    # Define folders for positive and negative words\n",
    "    pos_folder = os.path.join(dataset_path, 'positive_words')\n",
    "    neg_folder = os.path.join(dataset_path, 'negative_words')\n",
    "    \n",
    "    # Languages to load (English, Spanish, French)\n",
    "    languages = ['en', 'es', 'fr']\n",
    "    \n",
    "    for lang in languages:\n",
    "        lexicons[lang] = {'positive': [], 'negative': []}\n",
    "        \n",
    "        # Load positive words\n",
    "        pos_file = os.path.join(pos_folder, f'positive_words_{lang}.txt')\n",
    "        if os.path.exists(pos_file):\n",
    "            with open(pos_file, 'r', encoding='utf-8') as f:\n",
    "                words = [line.strip().lower() for line in f if line.strip()]\n",
    "                lexicons[lang]['positive'] = words\n",
    "        \n",
    "        # Load negative words\n",
    "        neg_file = os.path.join(neg_folder, f'negative_words_{lang}.txt')\n",
    "        if os.path.exists(neg_file):\n",
    "            with open(neg_file, 'r', encoding='utf-8') as f:\n",
    "                words = [line.strip().lower() for line in f if line.strip()]\n",
    "                lexicons[lang]['negative'] = words\n",
    "    \n",
    "    return lexicons"
   ]
  },
  {
   "cell_type": "code",
   "execution_count": 3,
   "id": "cadc0330-59a4-4df9-994b-f186fcdf1df6",
   "metadata": {},
   "outputs": [
    {
     "name": "stdout",
     "output_type": "stream",
     "text": [
      "en: 0 positive words, 0 negative words\n",
      "es: 0 positive words, 0 negative words\n",
      "fr: 0 positive words, 0 negative words\n"
     ]
    }
   ],
   "source": [
    "# Load the lexicons\n",
    "dataset_path = './sentiment_lexicons'  # Update this if your folder is elsewhere\n",
    "lexicons = load_lexicons(dataset_path)\n",
    "\n",
    "# Print lexicon sizes to verify\n",
    "for lang in lexicons:\n",
    "    print(f\"{lang}: {len(lexicons[lang]['positive'])} positive words, {len(lexicons[lang]['negative'])} negative words\")"
   ]
  },
  {
   "cell_type": "code",
   "execution_count": null,
   "id": "e05b6b7d-fa72-4278-8433-a31e268db5b7",
   "metadata": {},
   "outputs": [],
   "source": []
  }
 ],
 "metadata": {
  "kernelspec": {
   "display_name": "Python 3 (ipykernel)",
   "language": "python",
   "name": "python3"
  },
  "language_info": {
   "codemirror_mode": {
    "name": "ipython",
    "version": 3
   },
   "file_extension": ".py",
   "mimetype": "text/x-python",
   "name": "python",
   "nbconvert_exporter": "python",
   "pygments_lexer": "ipython3",
   "version": "3.13.3"
  }
 },
 "nbformat": 4,
 "nbformat_minor": 5
}
