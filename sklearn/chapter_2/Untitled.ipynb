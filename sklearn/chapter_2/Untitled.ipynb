{
 "cells": [
  {
   "cell_type": "code",
   "execution_count": 2,
   "id": "1f48b6cc-2d4c-43f3-983e-df89402a14cb",
   "metadata": {},
   "outputs": [],
   "source": [
    "from sklearn.datasets import fetch_openml"
   ]
  },
  {
   "cell_type": "code",
   "execution_count": 3,
   "id": "5c414b67-481f-4b8e-befc-d41fb5c30d6f",
   "metadata": {},
   "outputs": [],
   "source": [
    "mnist = fetch_openml('mnist_784', version=1)"
   ]
  },
  {
   "cell_type": "code",
   "execution_count": 4,
   "id": "b909924a-7315-46c5-a355-92624fd73d5c",
   "metadata": {},
   "outputs": [
    {
     "data": {
      "text/plain": [
       "dict_keys(['data', 'target', 'frame', 'categories', 'feature_names', 'target_names', 'DESCR', 'details', 'url'])"
      ]
     },
     "execution_count": 4,
     "metadata": {},
     "output_type": "execute_result"
    }
   ],
   "source": [
    "mnist.keys()"
   ]
  },
  {
   "cell_type": "code",
   "execution_count": 13,
   "id": "4fa49d70-1355-4d68-9021-cb3bc87d5b24",
   "metadata": {},
   "outputs": [
    {
     "name": "stdout",
     "output_type": "stream",
     "text": [
      "(70000, 784)\n",
      "(70000,)\n"
     ]
    }
   ],
   "source": [
    "# There are 70,000 images, each with 784 features (28x28 pixels)\n",
    "X, y = mnist[\"data\"], mnist[\"target\"]\n",
    "\n",
    "\n",
    "\n",
    "print(X.shape)  # should print (70000, 784)\n",
    "print(y.shape)  # should print (70000,)\n"
   ]
  },
  {
   "cell_type": "code",
   "execution_count": 27,
   "id": "b261232f-86cb-488b-9734-273e2a969dd3",
   "metadata": {},
   "outputs": [
    {
     "data": {
      "image/png": "[encoded data removed]",
      "text/plain": [
       "<Figure size 640x480 with 1 Axes>"
      ]
     },
     "metadata": {},
     "output_type": "display_data"
    },
    {
     "data": {
      "text/plain": [
       "'5'"
      ]
     },
     "execution_count": 27,
     "metadata": {},
     "output_type": "execute_result"
    }
   ],
   "source": [
    "#Let’s take a peek at one digit from the dataset. All you need to do is grab an instance’s feature vector, \n",
    "#reshape it to a 28 × 28 array, and display it using Matplotlib’s imshow() function:\n",
    "import matplotlib as mpl\n",
    "import matplotlib.pyplot as plt\n",
    "index = 0\n",
    "# Get the first image (row) using iloc\n",
    "some_digit = X.iloc[index]  # ✅ fix here\n",
    "some_digit_image = some_digit.to_numpy().reshape(28, 28)  # reshape to 2D image\n",
    "plt.imshow(some_digit_image)\n",
    "plt.show()\n",
    "#now lets just verify it \n",
    "y[index]"
   ]
  },
  {
   "cell_type": "code",
   "execution_count": 31,
   "id": "05a40d72-8f41-4734-b2ff-a09aa28aa490",
   "metadata": {},
   "outputs": [
    {
     "data": {
      "text/plain": [
       "np.uint8(5)"
      ]
     },
     "execution_count": 31,
     "metadata": {},
     "output_type": "execute_result"
    }
   ],
   "source": [
    "#note that the output of y is a string it should be a number so lets just cast it to integer\n",
    "import numpy as np\n",
    "y = y.astype(np.uint8)\n",
    "y[0]"
   ]
  },
  {
   "cell_type": "code",
   "execution_count": 32,
   "id": "21ac2a8c-f128-43ab-a88f-a5c462fc421b",
   "metadata": {},
   "outputs": [],
   "source": [
    "#lets create the test examples and the train examples\n",
    "X_train, X_test, y_train, y_test = X[:60000], X[60000:], y[:60000], y[60000:]"
   ]
  },
  {
   "cell_type": "code",
   "execution_count": 34,
   "id": "5c01b892-d430-4171-bc03-14b4df117847",
   "metadata": {},
   "outputs": [
    {
     "data": {
      "text/plain": [
       "np.False_"
      ]
     },
     "execution_count": 34,
     "metadata": {},
     "output_type": "execute_result"
    }
   ],
   "source": [
    "#now just simplicity just add the training data for 5\n",
    "y_train_5 = (y_train == 5) # True for all 5s, False for all other digits\n",
    "y_test_5 = (y_test == 5)\n",
    "y_train_5[2]"
   ]
  },
  {
   "cell_type": "code",
   "execution_count": 35,
   "id": "d54897d6-a09c-4319-a714-3122ce4f5ba2",
   "metadata": {},
   "outputs": [
    {
     "data": {
      "text/html": [
       "<style>#sk-container-id-1 {\n",
       "  /* Definition of color scheme common for light and dark mode */\n",
       "  --sklearn-color-text: #000;\n",
       "  --sklearn-color-text-muted: #666;\n",
       "  --sklearn-color-line: gray;\n",
       "  /* Definition of color scheme for unfitted estimators */\n",
       "  --sklearn-color-unfitted-level-0: #fff5e6;\n",
       "  --sklearn-color-unfitted-level-1: #f6e4d2;\n",
       "  --sklearn-color-unfitted-level-2: #ffe0b3;\n",
       "  --sklearn-color-unfitted-level-3: chocolate;\n",
       "  /* Definition of color scheme for fitted estimators */\n",
       "  --sklearn-color-fitted-level-0: #f0f8ff;\n",
       "  --sklearn-color-fitted-level-1: #d4ebff;\n",
       "  --sklearn-color-fitted-level-2: #b3dbfd;\n",
       "  --sklearn-color-fitted-level-3: cornflowerblue;\n",
       "\n",
       "  /* Specific color for light theme */\n",
       "  --sklearn-color-text-on-default-background: var(--sg-text-color, var(--theme-code-foreground, var(--jp-content-font-color1, black)));\n",
       "  --sklearn-color-background: var(--sg-background-color, var(--theme-background, var(--jp-layout-color0, white)));\n",
       "  --sklearn-color-border-box: var(--sg-text-color, var(--theme-code-foreground, var(--jp-content-font-color1, black)));\n",
       "  --sklearn-color-icon: #696969;\n",
       "\n",
       "  @media (prefers-color-scheme: dark) {\n",
       "    /* Redefinition of color scheme for dark theme */\n",
       "    --sklearn-color-text-on-default-background: var(--sg-text-color, var(--theme-code-foreground, var(--jp-content-font-color1, white)));\n",
       "    --sklearn-color-background: var(--sg-background-color, var(--theme-background, var(--jp-layout-color0, #111)));\n",
       "    --sklearn-color-border-box: var(--sg-text-color, var(--theme-code-foreground, var(--jp-content-font-color1, white)));\n",
       "    --sklearn-color-icon: #878787;\n",
       "  }\n",
       "}\n",
       "\n",
       "#sk-container-id-1 {\n",
       "  color: var(--sklearn-color-text);\n",
       "}\n",
       "\n",
       "#sk-container-id-1 pre {\n",
       "  padding: 0;\n",
       "}\n",
       "\n",
       "#sk-container-id-1 input.sk-hidden--visually {\n",
       "  border: 0;\n",
       "  clip: rect(1px 1px 1px 1px);\n",
       "  clip: rect(1px, 1px, 1px, 1px);\n",
       "  height: 1px;\n",
       "  margin: -1px;\n",
       "  overflow: hidden;\n",
       "  padding: 0;\n",
       "  position: absolute;\n",
       "  width: 1px;\n",
       "}\n",
       "\n",
       "#sk-container-id-1 div.sk-dashed-wrapped {\n",
       "  border: 1px dashed var(--sklearn-color-line);\n",
       "  margin: 0 0.4em 0.5em 0.4em;\n",
       "  box-sizing: border-box;\n",
       "  padding-bottom: 0.4em;\n",
       "  background-color: var(--sklearn-color-background);\n",
       "}\n",
       "\n",
       "#sk-container-id-1 div.sk-container {\n",
       "  /* jupyter's `normalize.less` sets `[hidden] { display: none; }`\n",
       "     but bootstrap.min.css set `[hidden] { display: none !important; }`\n",
       "     so we also need the `!important` here to be able to override the\n",
       "     default hidden behavior on the sphinx rendered scikit-learn.org.\n",
       "     See: https://github.com/scikit-learn/scikit-learn/issues/21755 */\n",
       "  display: inline-block !important;\n",
       "  position: relative;\n",
       "}\n",
       "\n",
       "#sk-container-id-1 div.sk-text-repr-fallback {\n",
       "  display: none;\n",
       "}\n",
       "\n",
       "div.sk-parallel-item,\n",
       "div.sk-serial,\n",
       "div.sk-item {\n",
       "  /* draw centered vertical line to link estimators */\n",
       "  background-image: linear-gradient(var(--sklearn-color-text-on-default-background), var(--sklearn-color-text-on-default-background));\n",
       "  background-size: 2px 100%;\n",
       "  background-repeat: no-repeat;\n",
       "  background-position: center center;\n",
       "}\n",
       "\n",
       "/* Parallel-specific style estimator block */\n",
       "\n",
       "#sk-container-id-1 div.sk-parallel-item::after {\n",
       "  content: \"\";\n",
       "  width: 100%;\n",
       "  border-bottom: 2px solid var(--sklearn-color-text-on-default-background);\n",
       "  flex-grow: 1;\n",
       "}\n",
       "\n",
       "#sk-container-id-1 div.sk-parallel {\n",
       "  display: flex;\n",
       "  align-items: stretch;\n",
       "  justify-content: center;\n",
       "  background-color: var(--sklearn-color-background);\n",
       "  position: relative;\n",
       "}\n",
       "\n",
       "#sk-container-id-1 div.sk-parallel-item {\n",
       "  display: flex;\n",
       "  flex-direction: column;\n",
       "}\n",
       "\n",
       "#sk-container-id-1 div.sk-parallel-item:first-child::after {\n",
       "  align-self: flex-end;\n",
       "  width: 50%;\n",
       "}\n",
       "\n",
       "#sk-container-id-1 div.sk-parallel-item:last-child::after {\n",
       "  align-self: flex-start;\n",
       "  width: 50%;\n",
       "}\n",
       "\n",
       "#sk-container-id-1 div.sk-parallel-item:only-child::after {\n",
       "  width: 0;\n",
       "}\n",
       "\n",
       "/* Serial-specific style estimator block */\n",
       "\n",
       "#sk-container-id-1 div.sk-serial {\n",
       "  display: flex;\n",
       "  flex-direction: column;\n",
       "  align-items: center;\n",
       "  background-color: var(--sklearn-color-background);\n",
       "  padding-right: 1em;\n",
       "  padding-left: 1em;\n",
       "}\n",
       "\n",
       "\n",
       "/* Toggleable style: style used for estimator/Pipeline/ColumnTransformer box that is\n",
       "clickable and can be expanded/collapsed.\n",
       "- Pipeline and ColumnTransformer use this feature and define the default style\n",
       "- Estimators will overwrite some part of the style using the `sk-estimator` class\n",
       "*/\n",
       "\n",
       "/* Pipeline and ColumnTransformer style (default) */\n",
       "\n",
       "#sk-container-id-1 div.sk-toggleable {\n",
       "  /* Default theme specific background. It is overwritten whether we have a\n",
       "  specific estimator or a Pipeline/ColumnTransformer */\n",
       "  background-color: var(--sklearn-color-background);\n",
       "}\n",
       "\n",
       "/* Toggleable label */\n",
       "#sk-container-id-1 label.sk-toggleable__label {\n",
       "  cursor: pointer;\n",
       "  display: flex;\n",
       "  width: 100%;\n",
       "  margin-bottom: 0;\n",
       "  padding: 0.5em;\n",
       "  box-sizing: border-box;\n",
       "  text-align: center;\n",
       "  align-items: start;\n",
       "  justify-content: space-between;\n",
       "  gap: 0.5em;\n",
       "}\n",
       "\n",
       "#sk-container-id-1 label.sk-toggleable__label .caption {\n",
       "  font-size: 0.6rem;\n",
       "  font-weight: lighter;\n",
       "  color: var(--sklearn-color-text-muted);\n",
       "}\n",
       "\n",
       "#sk-container-id-1 label.sk-toggleable__label-arrow:before {\n",
       "  /* Arrow on the left of the label */\n",
       "  content: \"▸\";\n",
       "  float: left;\n",
       "  margin-right: 0.25em;\n",
       "  color: var(--sklearn-color-icon);\n",
       "}\n",
       "\n",
       "#sk-container-id-1 label.sk-toggleable__label-arrow:hover:before {\n",
       "  color: var(--sklearn-color-text);\n",
       "}\n",
       "\n",
       "/* Toggleable content - dropdown */\n",
       "\n",
       "#sk-container-id-1 div.sk-toggleable__content {\n",
       "  max-height: 0;\n",
       "  max-width: 0;\n",
       "  overflow: hidden;\n",
       "  text-align: left;\n",
       "  /* unfitted */\n",
       "  background-color: var(--sklearn-color-unfitted-level-0);\n",
       "}\n",
       "\n",
       "#sk-container-id-1 div.sk-toggleable__content.fitted {\n",
       "  /* fitted */\n",
       "  background-color: var(--sklearn-color-fitted-level-0);\n",
       "}\n",
       "\n",
       "#sk-container-id-1 div.sk-toggleable__content pre {\n",
       "  margin: 0.2em;\n",
       "  border-radius: 0.25em;\n",
       "  color: var(--sklearn-color-text);\n",
       "  /* unfitted */\n",
       "  background-color: var(--sklearn-color-unfitted-level-0);\n",
       "}\n",
       "\n",
       "#sk-container-id-1 div.sk-toggleable__content.fitted pre {\n",
       "  /* unfitted */\n",
       "  background-color: var(--sklearn-color-fitted-level-0);\n",
       "}\n",
       "\n",
       "#sk-container-id-1 input.sk-toggleable__control:checked~div.sk-toggleable__content {\n",
       "  /* Expand drop-down */\n",
       "  max-height: 200px;\n",
       "  max-width: 100%;\n",
       "  overflow: auto;\n",
       "}\n",
       "\n",
       "#sk-container-id-1 input.sk-toggleable__control:checked~label.sk-toggleable__label-arrow:before {\n",
       "  content: \"▾\";\n",
       "}\n",
       "\n",
       "/* Pipeline/ColumnTransformer-specific style */\n",
       "\n",
       "#sk-container-id-1 div.sk-label input.sk-toggleable__control:checked~label.sk-toggleable__label {\n",
       "  color: var(--sklearn-color-text);\n",
       "  background-color: var(--sklearn-color-unfitted-level-2);\n",
       "}\n",
       "\n",
       "#sk-container-id-1 div.sk-label.fitted input.sk-toggleable__control:checked~label.sk-toggleable__label {\n",
       "  background-color: var(--sklearn-color-fitted-level-2);\n",
       "}\n",
       "\n",
       "/* Estimator-specific style */\n",
       "\n",
       "/* Colorize estimator box */\n",
       "#sk-container-id-1 div.sk-estimator input.sk-toggleable__control:checked~label.sk-toggleable__label {\n",
       "  /* unfitted */\n",
       "  background-color: var(--sklearn-color-unfitted-level-2);\n",
       "}\n",
       "\n",
       "#sk-container-id-1 div.sk-estimator.fitted input.sk-toggleable__control:checked~label.sk-toggleable__label {\n",
       "  /* fitted */\n",
       "  background-color: var(--sklearn-color-fitted-level-2);\n",
       "}\n",
       "\n",
       "#sk-container-id-1 div.sk-label label.sk-toggleable__label,\n",
       "#sk-container-id-1 div.sk-label label {\n",
       "  /* The background is the default theme color */\n",
       "  color: var(--sklearn-color-text-on-default-background);\n",
       "}\n",
       "\n",
       "/* On hover, darken the color of the background */\n",
       "#sk-container-id-1 div.sk-label:hover label.sk-toggleable__label {\n",
       "  color: var(--sklearn-color-text);\n",
       "  background-color: var(--sklearn-color-unfitted-level-2);\n",
       "}\n",
       "\n",
       "/* Label box, darken color on hover, fitted */\n",
       "#sk-container-id-1 div.sk-label.fitted:hover label.sk-toggleable__label.fitted {\n",
       "  color: var(--sklearn-color-text);\n",
       "  background-color: var(--sklearn-color-fitted-level-2);\n",
       "}\n",
       "\n",
       "/* Estimator label */\n",
       "\n",
       "#sk-container-id-1 div.sk-label label {\n",
       "  font-family: monospace;\n",
       "  font-weight: bold;\n",
       "  display: inline-block;\n",
       "  line-height: 1.2em;\n",
       "}\n",
       "\n",
       "#sk-container-id-1 div.sk-label-container {\n",
       "  text-align: center;\n",
       "}\n",
       "\n",
       "/* Estimator-specific */\n",
       "#sk-container-id-1 div.sk-estimator {\n",
       "  font-family: monospace;\n",
       "  border: 1px dotted var(--sklearn-color-border-box);\n",
       "  border-radius: 0.25em;\n",
       "  box-sizing: border-box;\n",
       "  margin-bottom: 0.5em;\n",
       "  /* unfitted */\n",
       "  background-color: var(--sklearn-color-unfitted-level-0);\n",
       "}\n",
       "\n",
       "#sk-container-id-1 div.sk-estimator.fitted {\n",
       "  /* fitted */\n",
       "  background-color: var(--sklearn-color-fitted-level-0);\n",
       "}\n",
       "\n",
       "/* on hover */\n",
       "#sk-container-id-1 div.sk-estimator:hover {\n",
       "  /* unfitted */\n",
       "  background-color: var(--sklearn-color-unfitted-level-2);\n",
       "}\n",
       "\n",
       "#sk-container-id-1 div.sk-estimator.fitted:hover {\n",
       "  /* fitted */\n",
       "  background-color: var(--sklearn-color-fitted-level-2);\n",
       "}\n",
       "\n",
       "/* Specification for estimator info (e.g. \"i\" and \"?\") */\n",
       "\n",
       "/* Common style for \"i\" and \"?\" */\n",
       "\n",
       ".sk-estimator-doc-link,\n",
       "a:link.sk-estimator-doc-link,\n",
       "a:visited.sk-estimator-doc-link {\n",
       "  float: right;\n",
       "  font-size: smaller;\n",
       "  line-height: 1em;\n",
       "  font-family: monospace;\n",
       "  background-color: var(--sklearn-color-background);\n",
       "  border-radius: 1em;\n",
       "  height: 1em;\n",
       "  width: 1em;\n",
       "  text-decoration: none !important;\n",
       "  margin-left: 0.5em;\n",
       "  text-align: center;\n",
       "  /* unfitted */\n",
       "  border: var(--sklearn-color-unfitted-level-1) 1pt solid;\n",
       "  color: var(--sklearn-color-unfitted-level-1);\n",
       "}\n",
       "\n",
       ".sk-estimator-doc-link.fitted,\n",
       "a:link.sk-estimator-doc-link.fitted,\n",
       "a:visited.sk-estimator-doc-link.fitted {\n",
       "  /* fitted */\n",
       "  border: var(--sklearn-color-fitted-level-1) 1pt solid;\n",
       "  color: var(--sklearn-color-fitted-level-1);\n",
       "}\n",
       "\n",
       "/* On hover */\n",
       "div.sk-estimator:hover .sk-estimator-doc-link:hover,\n",
       ".sk-estimator-doc-link:hover,\n",
       "div.sk-label-container:hover .sk-estimator-doc-link:hover,\n",
       ".sk-estimator-doc-link:hover {\n",
       "  /* unfitted */\n",
       "  background-color: var(--sklearn-color-unfitted-level-3);\n",
       "  color: var(--sklearn-color-background);\n",
       "  text-decoration: none;\n",
       "}\n",
       "\n",
       "div.sk-estimator.fitted:hover .sk-estimator-doc-link.fitted:hover,\n",
       ".sk-estimator-doc-link.fitted:hover,\n",
       "div.sk-label-container:hover .sk-estimator-doc-link.fitted:hover,\n",
       ".sk-estimator-doc-link.fitted:hover {\n",
       "  /* fitted */\n",
       "  background-color: var(--sklearn-color-fitted-level-3);\n",
       "  color: var(--sklearn-color-background);\n",
       "  text-decoration: none;\n",
       "}\n",
       "\n",
       "/* Span, style for the box shown on hovering the info icon */\n",
       ".sk-estimator-doc-link span {\n",
       "  display: none;\n",
       "  z-index: 9999;\n",
       "  position: relative;\n",
       "  font-weight: normal;\n",
       "  right: .2ex;\n",
       "  padding: .5ex;\n",
       "  margin: .5ex;\n",
       "  width: min-content;\n",
       "  min-width: 20ex;\n",
       "  max-width: 50ex;\n",
       "  color: var(--sklearn-color-text);\n",
       "  box-shadow: 2pt 2pt 4pt #999;\n",
       "  /* unfitted */\n",
       "  background: var(--sklearn-color-unfitted-level-0);\n",
       "  border: .5pt solid var(--sklearn-color-unfitted-level-3);\n",
       "}\n",
       "\n",
       ".sk-estimator-doc-link.fitted span {\n",
       "  /* fitted */\n",
       "  background: var(--sklearn-color-fitted-level-0);\n",
       "  border: var(--sklearn-color-fitted-level-3);\n",
       "}\n",
       "\n",
       ".sk-estimator-doc-link:hover span {\n",
       "  display: block;\n",
       "}\n",
       "\n",
       "/* \"?\"-specific style due to the `<a>` HTML tag */\n",
       "\n",
       "#sk-container-id-1 a.estimator_doc_link {\n",
       "  float: right;\n",
       "  font-size: 1rem;\n",
       "  line-height: 1em;\n",
       "  font-family: monospace;\n",
       "  background-color: var(--sklearn-color-background);\n",
       "  border-radius: 1rem;\n",
       "  height: 1rem;\n",
       "  width: 1rem;\n",
       "  text-decoration: none;\n",
       "  /* unfitted */\n",
       "  color: var(--sklearn-color-unfitted-level-1);\n",
       "  border: var(--sklearn-color-unfitted-level-1) 1pt solid;\n",
       "}\n",
       "\n",
       "#sk-container-id-1 a.estimator_doc_link.fitted {\n",
       "  /* fitted */\n",
       "  border: var(--sklearn-color-fitted-level-1) 1pt solid;\n",
       "  color: var(--sklearn-color-fitted-level-1);\n",
       "}\n",
       "\n",
       "/* On hover */\n",
       "#sk-container-id-1 a.estimator_doc_link:hover {\n",
       "  /* unfitted */\n",
       "  background-color: var(--sklearn-color-unfitted-level-3);\n",
       "  color: var(--sklearn-color-background);\n",
       "  text-decoration: none;\n",
       "}\n",
       "\n",
       "#sk-container-id-1 a.estimator_doc_link.fitted:hover {\n",
       "  /* fitted */\n",
       "  background-color: var(--sklearn-color-fitted-level-3);\n",
       "}\n",
       "</style><div id=\"sk-container-id-1\" class=\"sk-top-container\"><div class=\"sk-text-repr-fallback\"><pre>SGDClassifier(random_state=42)</pre><b>In a Jupyter environment, please rerun this cell to show the HTML representation or trust the notebook. <br />On GitHub, the HTML representation is unable to render, please try loading this page with nbviewer.org.</b></div><div class=\"sk-container\" hidden><div class=\"sk-item\"><div class=\"sk-estimator fitted sk-toggleable\"><input class=\"sk-toggleable__control sk-hidden--visually\" id=\"sk-estimator-id-1\" type=\"checkbox\" checked><label for=\"sk-estimator-id-1\" class=\"sk-toggleable__label fitted sk-toggleable__label-arrow\"><div><div>SGDClassifier</div></div><div><a class=\"sk-estimator-doc-link fitted\" rel=\"noreferrer\" target=\"_blank\" href=\"https://scikit-learn.org/1.6/modules/generated/sklearn.linear_model.SGDClassifier.html\">?<span>Documentation for SGDClassifier</span></a><span class=\"sk-estimator-doc-link fitted\">i<span>Fitted</span></span></div></label><div class=\"sk-toggleable__content fitted\"><pre>SGDClassifier(random_state=42)</pre></div> </div></div></div></div>"
      ],
      "text/plain": [
       "SGDClassifier(random_state=42)"
      ]
     },
     "execution_count": 35,
     "metadata": {},
     "output_type": "execute_result"
    }
   ],
   "source": [
    "# Import the SGDClassifier from scikit-learn's linear_model module\n",
    "from sklearn.linear_model import SGDClassifier\n",
    "\n",
    "# Create an instance of SGDClassifier\n",
    "# - SGD stands for Stochastic Gradient Descent\n",
    "# - It is a linear classifier (like logistic regression or linear SVM) trained using SGD\n",
    "# - It's great for large datasets because it updates the model incrementally, one training instance at a time\n",
    "# - Setting random_state ensures reproducibility (you get the same results every time)\n",
    "sgd_clf = SGDClassifier(random_state=42)\n",
    "\n",
    "# Train the classifier on the training set\n",
    "# - X_train should contain the pixel values of the images (each row is one 28x28 image flattened into 784 features)\n",
    "# - y_train_5 is the binary label array: True if the digit is 5, False otherwise\n",
    "# - This makes it a binary classification problem: \"Is this a 5?\" -> Yes (True) or No (False)\n",
    "# - The fit() function trains the model by adjusting the weights to minimize the classification error\n",
    "sgd_clf.fit(X_train, y_train_5)\n"
   ]
  },
  {
   "cell_type": "code",
   "execution_count": 36,
   "id": "ab9b5b80-ef55-4118-9bef-a360b66357f2",
   "metadata": {},
   "outputs": [
    {
     "name": "stderr",
     "output_type": "stream",
     "text": [
      "/usr/lib/python3.13/site-packages/sklearn/utils/validation.py:2739: UserWarning: X does not have valid feature names, but SGDClassifier was fitted with feature names\n",
      "  warnings.warn(\n"
     ]
    },
    {
     "data": {
      "text/plain": [
       "array([ True])"
      ]
     },
     "execution_count": 36,
     "metadata": {},
     "output_type": "execute_result"
    }
   ],
   "source": [
    "sgd_clf.predict([some_digit])"
   ]
  },
  {
   "cell_type": "code",
   "execution_count": 44,
   "id": "02b41922-bffd-43b3-8eba-cfd651182eb3",
   "metadata": {},
   "outputs": [
    {
     "name": "stdout",
     "output_type": "stream",
     "text": [
      "Accuracy on each fold: [0.95035 0.96035 0.9604 ]\n"
     ]
    }
   ],
   "source": [
    "from sklearn.model_selection import cross_val_score\n",
    "\n",
    "# Evaluate the SGD classifier using cross-validation\n",
    "# cross_val_score() splits the training data into 'cv' number of folds (in this case, 3 folds)\n",
    "# It trains the model on (cv-1) parts and evaluates it on the remaining part, rotating this process\n",
    "# This way, it gives you a more reliable estimate of the model's performance on unseen data\n",
    "\n",
    "# Arguments:\n",
    "# - sgd_clf: the classifier object you've already trained (SGDClassifier in this case)\n",
    "# - X_train: the input features (flattened pixel values of images)\n",
    "# - y_train_5: binary labels (True if digit is 5, else False)\n",
    "# - cv=3: number of folds for cross-validation (3 in this case)\n",
    "# - scoring=\"accuracy\": the performance metric you want to evaluate; here it measures what percentage of predictions were correct\n",
    "\n",
    "accuracy_scores=cross_val_score(sgd_clf, X_train, y_train_5, cv=3, scoring=\"accuracy\")\n",
    "print(\"Accuracy on each fold:\", accuracy_scores)\n"
   ]
  },
  {
   "cell_type": "code",
   "execution_count": 45,
   "id": "f591ff5c-dd6c-4442-b360-4d4058980b50",
   "metadata": {},
   "outputs": [],
   "source": [
    "from sklearn.base import BaseEstimator\n",
    "\n",
    "# Define a custom classifier that inherits from BaseEstimator (a Scikit-learn requirement for compatibility)\n",
    "class Never5Classifier(BaseEstimator):\n",
    "    \n",
    "    # The fit method is required by all estimators in Scikit-learn\n",
    "    # This classifier doesn't learn anything, so it simply returns itself\n",
    "    def fit(self, X, y=None):\n",
    "        return self\n",
    "\n",
    "    # The predict method must return predictions for each input sample\n",
    "    # Here, we are returning an array of 'False' values — meaning \"this is not a 5\"\n",
    "    # This classifier will ALWAYS predict that the input is NOT a 5\n",
    "    def predict(self, X):\n",
    "        return np.zeros((len(X), 1), dtype=bool)\n"
   ]
  },
  {
   "cell_type": "code",
   "execution_count": 46,
   "id": "bf963965-a43b-40ff-95b6-c2150cc14709",
   "metadata": {},
   "outputs": [
    {
     "data": {
      "text/plain": [
       "array([0.91125, 0.90855, 0.90915])"
      ]
     },
     "execution_count": 46,
     "metadata": {},
     "output_type": "execute_result"
    }
   ],
   "source": [
    "# Create an instance of the custom dummy classifier\n",
    "never_5_clf = Never5Classifier()\n",
    "\n",
    "# Evaluate the classifier using cross-validation\n",
    "# This will split the training data into 3 folds\n",
    "# For each fold, it trains the classifier on 2 parts and tests on the remaining part\n",
    "# Since our classifier always predicts \"not 5\", it will perform well on accuracy\n",
    "# — but only because \"5\" is rare in the dataset (class imbalance)\n",
    "cross_val_score(never_5_clf, X_train, y_train_5, cv=3, scoring=\"accuracy\")\n"
   ]
  },
  {
   "cell_type": "code",
   "execution_count": 47,
   "id": "68472800-634b-470f-8963-4a0ca834697c",
   "metadata": {},
   "outputs": [],
   "source": [
    "from sklearn.model_selection import cross_val_predict\n",
    "\n",
    "# This function performs cross-validation just like cross_val_score,\n",
    "# but instead of returning evaluation scores (e.g., accuracy),\n",
    "# it returns the *predicted labels* for each input instance in the training set.\n",
    "# Each prediction is made by a model that was trained *without* seeing that specific instance.\n",
    "# This gives us fair predictions that we can use to evaluate the classifier reliably.\n",
    "y_train_pred = cross_val_predict(sgd_clf, X_train, y_train_5, cv=3)\n"
   ]
  },
  {
   "cell_type": "code",
   "execution_count": 48,
   "id": "6f71263c-f434-4406-a3a8-2141d4de388e",
   "metadata": {},
   "outputs": [
    {
     "name": "stdout",
     "output_type": "stream",
     "text": [
      "[[53892   687]\n",
      " [ 1891  3530]]\n"
     ]
    }
   ],
   "source": [
    "from sklearn.metrics import confusion_matrix\n",
    "\n",
    "# The confusion_matrix() compares the actual labels (y_train_5)\n",
    "# with the predicted labels (y_train_pred) to see how many were classified correctly or incorrectly.\n",
    "# It returns a 2x2 matrix for binary classification:\n",
    "# Rows = actual classes, Columns = predicted classes\n",
    "\n",
    "# Structure of the matrix:\n",
    "#     Predicted Not-5    Predicted 5\n",
    "#     -------------------------------\n",
    "# A:  Actual Not-5  -->  True Negatives (TN)    False Positives (FP)\n",
    "# B:  Actual 5      -->  False Negatives (FN)   True Positives (TP)\n",
    "\n",
    "# So from the matrix:\n",
    "# - TN = correctly predicted not-5\n",
    "# - FP = predicted 5 but actually not-5\n",
    "# - FN = predicted not-5 but actually 5\n",
    "# - TP = correctly predicted 5\n",
    "\n",
    "conf_matrix = confusion_matrix(y_train_5, y_train_pred)\n",
    "print(conf_matrix)\n",
    "\n",
    "# Example output:\n",
    "# array([[53057,  1522],    <- Row 1: Actual Not-5\n",
    "#        [ 1325,  4096]])   <- Row 2: Actual 5\n",
    "\n",
    "# Interpretation:\n",
    "# - 53,057 true negatives: not-5s correctly identified as not-5\n",
    "# - 1,522 false positives: not-5s wrongly predicted as 5\n",
    "# - 1,325 false negatives: 5s wrongly predicted as not-5\n",
    "# - 4,096 true positives: 5s correctly identified as 5\n"
   ]
  },
  {
   "cell_type": "code",
   "execution_count": 50,
   "id": "a2402d15-2381-4acb-ab21-04a6426f4f41",
   "metadata": {},
   "outputs": [
    {
     "name": "stdout",
     "output_type": "stream",
     "text": [
      "0.8370879772350012\n",
      "0.6511713705958311\n"
     ]
    }
   ],
   "source": [
    "#Scikit-Learn provides several functions to compute classifier metrics, including precision and recall:\n",
    "from sklearn.metrics import precision_score, recall_score\n",
    "print(precision_score(y_train_5, y_train_pred)) # == 4096 / (4096 + 1522)\n",
    "print(recall_score(y_train_5, y_train_pred)) # == 4096 / (4096 + 1325)"
   ]
  },
  {
   "cell_type": "code",
   "execution_count": 51,
   "id": "e93c8980-1c9b-4b8e-9475-abad4918ff9e",
   "metadata": {},
   "outputs": [
    {
     "data": {
      "text/plain": [
       "0.7325171197343847"
      ]
     },
     "execution_count": 51,
     "metadata": {},
     "output_type": "execute_result"
    }
   ],
   "source": [
    "#recall =TP/TP + FN\n",
    "#precision =TP/TP + FP\n",
    "from sklearn.metrics import f1_score\n",
    "f1_score(y_train_5, y_train_pred)\n",
    "#f1_score = True precision/tp+((false positive +false_negative)/2)"
   ]
  },
  {
   "cell_type": "code",
   "execution_count": 52,
   "id": "a15ec638-21f5-4d2f-964c-de4b8751b5c1",
   "metadata": {},
   "outputs": [
    {
     "ename": "NotFittedError",
     "evalue": "This SGDClassifier instance is not fitted yet. Call 'fit' with appropriate arguments before using this estimator.",
     "output_type": "error",
     "traceback": [
      "\u001b[31m---------------------------------------------------------------------------\u001b[39m",
      "\u001b[31mNotFittedError\u001b[39m                            Traceback (most recent call last)",
      "\u001b[36mCell\u001b[39m\u001b[36m \u001b[39m\u001b[32mIn[52]\u001b[39m\u001b[32m, line 13\u001b[39m\n\u001b[32m      1\u001b[39m \u001b[38;5;66;03m#                Predicted\u001b[39;00m\n\u001b[32m      2\u001b[39m \u001b[38;5;66;03m#              |   5   |  Not-5 |\u001b[39;00m\n\u001b[32m      3\u001b[39m \u001b[38;5;66;03m#        ------------------------\u001b[39;00m\n\u001b[32m   (...)\u001b[39m\u001b[32m     10\u001b[39m \u001b[38;5;66;03m# Positive scores indicate the model thinks the instance belongs to the positive class (digit 5 in this case)\u001b[39;00m\n\u001b[32m     11\u001b[39m \u001b[38;5;66;03m# Negative scores suggest the instance likely belongs to the negative class (not a 5)\u001b[39;00m\n\u001b[32m---> \u001b[39m\u001b[32m13\u001b[39m y_scores = \u001b[43msgd_clf\u001b[49m\u001b[43m.\u001b[49m\u001b[43mdecision_function\u001b[49m\u001b[43m(\u001b[49m\u001b[43m[\u001b[49m\u001b[43msome_digit\u001b[49m\u001b[43m]\u001b[49m\u001b[43m)\u001b[49m  \u001b[38;5;66;03m# Get the decision score for the input instance\u001b[39;00m\n\u001b[32m     15\u001b[39m \u001b[38;5;66;03m# Example output: array([2412.53175101])\u001b[39;00m\n\u001b[32m     16\u001b[39m \u001b[38;5;66;03m# This means the model is quite confident this is a digit 5 (since the score is high and positive)\u001b[39;00m\n\u001b[32m     18\u001b[39m threshold = \u001b[32m0\u001b[39m  \u001b[38;5;66;03m# Default threshold used internally by SGDClassifier: predicts True if score > 0\u001b[39;00m\n",
      "\u001b[36mFile \u001b[39m\u001b[32m/usr/lib/python3.13/site-packages/sklearn/linear_model/_base.py:348\u001b[39m, in \u001b[36mLinearClassifierMixin.decision_function\u001b[39m\u001b[34m(self, X)\u001b[39m\n\u001b[32m    329\u001b[39m \u001b[38;5;28;01mdef\u001b[39;00m\u001b[38;5;250m \u001b[39m\u001b[34mdecision_function\u001b[39m(\u001b[38;5;28mself\u001b[39m, X):\n\u001b[32m    330\u001b[39m \u001b[38;5;250m    \u001b[39m\u001b[33;03m\"\"\"\u001b[39;00m\n\u001b[32m    331\u001b[39m \u001b[33;03m    Predict confidence scores for samples.\u001b[39;00m\n\u001b[32m    332\u001b[39m \n\u001b[32m   (...)\u001b[39m\u001b[32m    346\u001b[39m \u001b[33;03m        this class would be predicted.\u001b[39;00m\n\u001b[32m    347\u001b[39m \u001b[33;03m    \"\"\"\u001b[39;00m\n\u001b[32m--> \u001b[39m\u001b[32m348\u001b[39m     \u001b[43mcheck_is_fitted\u001b[49m\u001b[43m(\u001b[49m\u001b[38;5;28;43mself\u001b[39;49m\u001b[43m)\u001b[49m\n\u001b[32m    349\u001b[39m     xp, _ = get_namespace(X)\n\u001b[32m    351\u001b[39m     X = validate_data(\u001b[38;5;28mself\u001b[39m, X, accept_sparse=\u001b[33m\"\u001b[39m\u001b[33mcsr\u001b[39m\u001b[33m\"\u001b[39m, reset=\u001b[38;5;28;01mFalse\u001b[39;00m)\n",
      "\u001b[36mFile \u001b[39m\u001b[32m/usr/lib/python3.13/site-packages/sklearn/utils/validation.py:1757\u001b[39m, in \u001b[36mcheck_is_fitted\u001b[39m\u001b[34m(estimator, attributes, msg, all_or_any)\u001b[39m\n\u001b[32m   1754\u001b[39m     \u001b[38;5;28;01mreturn\u001b[39;00m\n\u001b[32m   1756\u001b[39m \u001b[38;5;28;01mif\u001b[39;00m \u001b[38;5;129;01mnot\u001b[39;00m _is_fitted(estimator, attributes, all_or_any):\n\u001b[32m-> \u001b[39m\u001b[32m1757\u001b[39m     \u001b[38;5;28;01mraise\u001b[39;00m NotFittedError(msg % {\u001b[33m\"\u001b[39m\u001b[33mname\u001b[39m\u001b[33m\"\u001b[39m: \u001b[38;5;28mtype\u001b[39m(estimator).\u001b[34m__name__\u001b[39m})\n",
      "\u001b[31mNotFittedError\u001b[39m: This SGDClassifier instance is not fitted yet. Call 'fit' with appropriate arguments before using this estimator."
     ]
    }
   ],
   "source": [
    "#                Predicted\n",
    "#              |   5   |  Not-5 |\n",
    "#        ------------------------\n",
    "#Actual |  5   |  TP   |   FN   |\n",
    "#       | Not-5|  FP   |   TN   |\n",
    "#f1_score is balance between prescision and recall\n",
    "#now lets just set some thresholds for \n",
    "# Use the classifier’s decision_function() instead of predict() to get the raw decision score\n",
    "# This score reflects how confident the model is about the prediction\n",
    "# Positive scores indicate the model thinks the instance belongs to the positive class (digit 5 in this case)\n",
    "# Negative scores suggest the instance likely belongs to the negative class (not a 5)\n",
    "\n",
    "y_scores = sgd_clf.decision_function([some_digit])  # Get the decision score for the input instance\n",
    "\n",
    "# Example output: array([2412.53175101])\n",
    "# This means the model is quite confident this is a digit 5 (since the score is high and positive)\n",
    "\n",
    "threshold = 0  # Default threshold used internally by SGDClassifier: predicts True if score > 0\n",
    "\n",
    "# Manually apply the threshold to make a prediction\n",
    "y_some_digit_pred = (y_scores > threshold)  # Returns True if the score is above the threshold\n",
    "\n",
    "# Output: array([ True])\n",
    "# So the model predicts this digit is a 5 (positive class)\n"
   ]
  },
  {
   "cell_type": "code",
   "execution_count": 53,
   "id": "d13d8b9f-6f27-45e6-ac04-d374ddf36ffd",
   "metadata": {},
   "outputs": [
    {
     "ename": "NameError",
     "evalue": "name 'y_scores' is not defined",
     "output_type": "error",
     "traceback": [
      "\u001b[31m---------------------------------------------------------------------------\u001b[39m",
      "\u001b[31mNameError\u001b[39m                                 Traceback (most recent call last)",
      "\u001b[36mCell\u001b[39m\u001b[36m \u001b[39m\u001b[32mIn[53]\u001b[39m\u001b[32m, line 9\u001b[39m\n\u001b[32m      6\u001b[39m threshold = \u001b[32m8000\u001b[39m  \u001b[38;5;66;03m# Much higher threshold than default\u001b[39;00m\n\u001b[32m      8\u001b[39m \u001b[38;5;66;03m# Apply the new threshold to the previously obtained decision score\u001b[39;00m\n\u001b[32m----> \u001b[39m\u001b[32m9\u001b[39m y_some_digit_pred = (\u001b[43my_scores\u001b[49m > threshold)\n\u001b[32m     11\u001b[39m \u001b[38;5;66;03m# Output: array([False])\u001b[39;00m\n\u001b[32m     12\u001b[39m \u001b[38;5;66;03m# Even though the digit is actually a 5, the classifier now predicts False (not a 5) \u001b[39;00m\n\u001b[32m     13\u001b[39m \u001b[38;5;66;03m# because the score (2412.53) is not high enough to pass this new threshold\u001b[39;00m\n\u001b[32m   (...)\u001b[39m\u001b[32m     16\u001b[39m \u001b[38;5;66;03m# - Increasing the threshold decreases recall (the classifier misses more actual 5s)\u001b[39;00m\n\u001b[32m     17\u001b[39m \u001b[38;5;66;03m# - You're being more cautious, but that comes at the cost of detecting fewer true positives\u001b[39;00m\n",
      "\u001b[31mNameError\u001b[39m: name 'y_scores' is not defined"
     ]
    }
   ],
   "source": [
    "# By default, SGDClassifier uses a threshold of 0 — if the decision score is greater than 0, it predicts True (i.e., \"digit is 5\")\n",
    "\n",
    "# Let's try increasing the threshold to make the classifier more \"strict\"\n",
    "# Now it will only predict True (digit is 5) if the confidence (score) is above 8000\n",
    "\n",
    "threshold = 8000  # Much higher threshold than default\n",
    "\n",
    "# Apply the new threshold to the previously obtained decision score\n",
    "y_some_digit_pred = (y_scores > threshold)\n",
    "\n",
    "# Output: array([False])\n",
    "# Even though the digit is actually a 5, the classifier now predicts False (not a 5) \n",
    "# because the score (2412.53) is not high enough to pass this new threshold\n",
    "\n",
    "# This demonstrates a key tradeoff:\n",
    "# - Increasing the threshold decreases recall (the classifier misses more actual 5s)\n",
    "# - You're being more cautious, but that comes at the cost of detecting fewer true positives\n"
   ]
  },
  {
   "cell_type": "code",
   "execution_count": null,
   "id": "c5656840-f6d4-4bc7-b345-c24498e9a27c",
   "metadata": {},
   "outputs": [],
   "source": []
  }
 ],
 "metadata": {
  "kernelspec": {
   "display_name": "Python 3 (ipykernel)",
   "language": "python",
   "name": "python3"
  },
  "language_info": {
   "codemirror_mode": {
    "name": "ipython",
    "version": 3
   },
   "file_extension": ".py",
   "mimetype": "text/x-python",
   "name": "python",
   "nbconvert_exporter": "python",
   "pygments_lexer": "ipython3",
   "version": "3.13.3"
  }
 },
 "nbformat": 4,
 "nbformat_minor": 5
}
