{
 "cells": [
  {
   "cell_type": "code",
   "execution_count": 1,
   "id": "5015b3a8",
   "metadata": {},
   "outputs": [],
   "source": [
    "from fastai.vision.all import *\n",
    "import os\n",
    "from pathlib import Path"
   ]
  },
  {
   "cell_type": "code",
   "execution_count": 2,
   "id": "73ae79b9",
   "metadata": {},
   "outputs": [
    {
     "data": {
      "text/plain": [
       "(#3) [Path('/home/manas/.fastai/data/mnist_sample/train'),Path('/home/manas/.fastai/data/mnist_sample/valid'),Path('/home/manas/.fastai/data/mnist_sample/labels.csv')]"
      ]
     },
     "execution_count": 2,
     "metadata": {},
     "output_type": "execute_result"
    }
   ],
   "source": [
    "path =untar_data(URLs.MNIST_SAMPLE)\n",
    "path.ls()"
   ]
  },
  {
   "cell_type": "code",
   "execution_count": 3,
   "id": "6c51d420",
   "metadata": {},
   "outputs": [
    {
     "data": {
      "text/plain": [
       "(#2) [Path('/home/manas/.fastai/data/mnist_sample/train/7'),Path('/home/manas/.fastai/data/mnist_sample/train/3')]"
      ]
     },
     "execution_count": 3,
     "metadata": {},
     "output_type": "execute_result"
    }
   ],
   "source": [
    "(path/'train').ls()"
   ]
  },
  {
   "cell_type": "markdown",
   "id": "b1f1e229",
   "metadata": {},
   "source": [
    "now lets take some 3s and 7s from the training datasets"
   ]
  },
  {
   "cell_type": "code",
   "execution_count": 4,
   "id": "119f2b42",
   "metadata": {},
   "outputs": [
    {
     "name": "stdout",
     "output_type": "stream",
     "text": [
      "[Path('/home/manas/.fastai/data/mnist_sample/train/3/10.png'), Path('/home/manas/.fastai/data/mnist_sample/train/3/10000.png'), Path('/home/manas/.fastai/data/mnist_sample/train/3/10011.png')]\n",
      "[Path('/home/manas/.fastai/data/mnist_sample/train/7/10002.png'), Path('/home/manas/.fastai/data/mnist_sample/train/7/1001.png'), Path('/home/manas/.fastai/data/mnist_sample/train/7/10014.png')]\n"
     ]
    }
   ],
   "source": [
    "threes = (path/'train'/'3').ls().sorted()\n",
    "sevens = (path/'train'/'7').ls().sorted()\n",
    "print(threes[:3])\n",
    "print(sevens[:3])"
   ]
  },
  {
   "cell_type": "code",
   "execution_count": 5,
   "id": "f3a7c13a",
   "metadata": {},
   "outputs": [
    {
     "data": {
      "image/jpeg": "[encoded data removed]",
      "image/png": "[encoded data removed]",
      "text/plain": [
       "<PIL.PngImagePlugin.PngImageFile image mode=L size=28x28>"
      ]
     },
     "execution_count": 5,
     "metadata": {},
     "output_type": "execute_result"
    }
   ],
   "source": [
    "#now lets display the images\n",
    "im3_path = threes[3]\n",
    "im3 = Image.open(im3_path)\n",
    "im3"
   ]
  },
  {
   "cell_type": "code",
   "execution_count": 6,
   "id": "1d4806b3",
   "metadata": {},
   "outputs": [
    {
     "data": {
      "image/jpeg": "[encoded data removed]",
      "image/png": "[encoded data removed]",
      "text/plain": [
       "<PIL.PngImagePlugin.PngImageFile image mode=L size=28x28>"
      ]
     },
     "execution_count": 6,
     "metadata": {},
     "output_type": "execute_result"
    }
   ],
   "source": [
    "img7_path = sevens[3]\n",
    "img7 = Image.open(img7_path)\n",
    "img7"
   ]
  },
  {
   "cell_type": "markdown",
   "id": "5d7635f4",
   "metadata": {},
   "source": [
    "In a computer, everything is represented as a number. To view the numbers that make\n",
    "up this image, we have to convert it to a NumPy array or a PyTorch tensor. For\n",
    "instance, here’s what a section of the image looks like converted to a NumPy array:"
   ]
  },
  {
   "cell_type": "code",
   "execution_count": 7,
   "id": "6ef22d47",
   "metadata": {},
   "outputs": [
    {
     "data": {
      "text/plain": [
       "array([[  0,   0,   0,   0,   0,   0],\n",
       "       [  0,   0,   0,   0,   0,   0],\n",
       "       [  0,   0,   0,   0,   0,   0],\n",
       "       [  0,   0,   0,   0,   0,   0],\n",
       "       [  0,   0,   0,   0,   0,  19],\n",
       "       [  0,   0,   0,   0,  13, 144]], dtype=uint8)"
      ]
     },
     "execution_count": 7,
     "metadata": {},
     "output_type": "execute_result"
    }
   ],
   "source": [
    "array(img7)[4:10,4:10]"
   ]
  },
  {
   "cell_type": "code",
   "execution_count": 8,
   "id": "a02cb342",
   "metadata": {},
   "outputs": [
    {
     "data": {
      "text/plain": [
       "tensor([[  0,   0,   0,   0,   0, 104, 253, 253, 253, 255, 253, 253, 253, 218,\n",
       "          32,   0,   0,   0,   0,   0,   0,   0,   0],\n",
       "        [  0,   0,   0,   0, 178, 248, 252, 252, 252, 253, 252, 252, 252, 252,\n",
       "         215,  34,   0,   0,   0,   0,   0,   0,   0],\n",
       "        [  0,   0,   0,   0, 186, 252, 252, 252, 252, 253, 252, 252, 252, 252,\n",
       "         252,  79,   0,   0,   0,   0,   0,   0,   0],\n",
       "        [  0,   0,   0,   0, 186, 252, 243, 172, 172,  39,  39,  39, 219, 252,\n",
       "         252,  79,   0,   0,   0,   0,   0,   0,   0],\n",
       "        [  0,   0,   0,   0,  39,  53,  47,   0,   0,   0,  29, 117, 244, 252,\n",
       "         252,  79,   0,   0,   0,   0,   0,   0,   0],\n",
       "        [  0,   0,   0,   0,   0,   0,   0,   0,   0,  54, 208, 252, 252, 252,\n",
       "         184,  21,   0,   0,   0,   0,   0,   0,   0],\n",
       "        [  0,   0,   0,   0,   0,   0,   0,   3,  41, 253, 252, 252, 252, 206,\n",
       "          21,   0,   0,   0,   0,   0,   0,   0,   0],\n",
       "        [  0,   0,   0,   0,   0,   5,  41, 165, 252, 253, 252, 252, 252, 227,\n",
       "         131,   9,   0,   0,   0,   0,   0,   0,   0],\n",
       "        [  0,   0,   0,   0, 109, 163, 252, 252, 252, 253, 252, 252, 252, 252,\n",
       "         252, 156,   0,   0,   0,   0,   0,   0,   0],\n",
       "        [  0,   0,   0,   0, 186, 252, 252, 252, 252, 253, 252, 252, 139, 224,\n",
       "         252, 233,  49,   0,   0,   0,   0,   0,   0],\n",
       "        [  0,   0,   0,   0, 187, 253, 253, 253, 253, 134,  77,   0,   0, 130,\n",
       "         253, 253,  93,   0,   0,   0,   0,   0,   0],\n",
       "        [  0,   0,   0,   0, 108, 162, 184,  68,  13,   0,   0,   0,  34, 222,\n",
       "         252, 252,  93,   0,   0,   0,   0,   0,   0],\n",
       "        [  0,   0,   0,   0,   0,   5,  10,   0,   0,   0,   0,   0, 200, 252,\n",
       "         252, 166,  10,   0,   0,   0,   0,   0,   0],\n",
       "        [  0,   0,   0,   0,   0,   0,   0,   0,   0,   0,  34, 200, 246, 252,\n",
       "         235,  54,   0,   0,   0,   0,   0,   0,   0],\n",
       "        [  0,   0,   0,   0,   0,   0,   0,   0,   0,   0, 142, 252, 252, 234,\n",
       "          76,   0,   0,   0,   0,   0,   0,   0,   0],\n",
       "        [  0, 168, 128,   0,   0,   0,   0,   3,  54, 187, 249, 252, 235, 146,\n",
       "           0,   0,   0,   0,   0,   0,   0,   0,   0],\n",
       "        [  0, 226, 227, 138,  11,   7,  55, 177, 252, 253, 252, 237,  75,   0,\n",
       "           0,   0,   0,   0,   0,   0,   0,   0,   0],\n",
       "        [  0, 202, 248, 252, 184, 174, 252, 252, 252, 253, 170,  59,   0,   0,\n",
       "           0,   0,   0,   0,   0,   0,   0,   0,   0],\n",
       "        [  0,   0, 131, 249, 252, 252, 252, 251, 238, 107,   6,   0,   0,   0,\n",
       "           0,   0,   0,   0,   0,   0,   0,   0,   0],\n",
       "        [  0,   0,   0,  95, 217, 252, 167, 113,   0,   0,   0,   0,   0,   0,\n",
       "           0,   0,   0,   0,   0,   0,   0,   0,   0],\n",
       "        [  0,   0,   0,   0,   0,   0,   0,   0,   0,   0,   0,   0,   0,   0,\n",
       "           0,   0,   0,   0,   0,   0,   0,   0,   0],\n",
       "        [  0,   0,   0,   0,   0,   0,   0,   0,   0,   0,   0,   0,   0,   0,\n",
       "           0,   0,   0,   0,   0,   0,   0,   0,   0],\n",
       "        [  0,   0,   0,   0,   0,   0,   0,   0,   0,   0,   0,   0,   0,   0,\n",
       "           0,   0,   0,   0,   0,   0,   0,   0,   0]], dtype=torch.uint8)"
      ]
     },
     "execution_count": 8,
     "metadata": {},
     "output_type": "execute_result"
    }
   ],
   "source": [
    "tensor(im3)[5:35,5:35]"
   ]
  },
  {
   "cell_type": "code",
   "execution_count": 9,
   "id": "6b991afc",
   "metadata": {},
   "outputs": [
    {
     "data": {
      "text/html": [
       "<style type=\"text/css\">\n",
       "#T_7898f_row0_col0, #T_7898f_row0_col1, #T_7898f_row0_col2, #T_7898f_row0_col3, #T_7898f_row0_col4, #T_7898f_row0_col5, #T_7898f_row0_col6, #T_7898f_row0_col7, #T_7898f_row0_col8, #T_7898f_row0_col9, #T_7898f_row0_col10, #T_7898f_row0_col11, #T_7898f_row0_col12, #T_7898f_row0_col13, #T_7898f_row0_col14, #T_7898f_row0_col15, #T_7898f_row0_col16, #T_7898f_row0_col17, #T_7898f_row0_col18, #T_7898f_row0_col19, #T_7898f_row0_col20, #T_7898f_row0_col21, #T_7898f_row0_col22, #T_7898f_row0_col23, #T_7898f_row0_col24, #T_7898f_row0_col25, #T_7898f_row0_col26, #T_7898f_row0_col27, #T_7898f_row1_col0, #T_7898f_row1_col1, #T_7898f_row1_col2, #T_7898f_row1_col3, #T_7898f_row1_col4, #T_7898f_row1_col5, #T_7898f_row1_col6, #T_7898f_row1_col7, #T_7898f_row1_col8, #T_7898f_row1_col9, #T_7898f_row1_col10, #T_7898f_row1_col11, #T_7898f_row1_col12, #T_7898f_row1_col13, #T_7898f_row1_col14, #T_7898f_row1_col15, #T_7898f_row1_col16, #T_7898f_row1_col17, #T_7898f_row1_col18, #T_7898f_row1_col19, #T_7898f_row1_col20, #T_7898f_row1_col21, #T_7898f_row1_col22, #T_7898f_row1_col23, #T_7898f_row1_col24, #T_7898f_row1_col25, #T_7898f_row1_col26, #T_7898f_row1_col27, #T_7898f_row2_col0, #T_7898f_row2_col1, #T_7898f_row2_col2, #T_7898f_row2_col3, #T_7898f_row2_col4, #T_7898f_row2_col5, #T_7898f_row2_col6, #T_7898f_row2_col7, #T_7898f_row2_col8, #T_7898f_row2_col9, #T_7898f_row2_col10, #T_7898f_row2_col11, #T_7898f_row2_col12, #T_7898f_row2_col13, #T_7898f_row2_col14, #T_7898f_row2_col15, #T_7898f_row2_col16, #T_7898f_row2_col17, #T_7898f_row2_col18, #T_7898f_row2_col19, #T_7898f_row2_col20, #T_7898f_row2_col21, #T_7898f_row2_col22, #T_7898f_row2_col23, #T_7898f_row2_col24, #T_7898f_row2_col25, #T_7898f_row2_col26, #T_7898f_row2_col27, #T_7898f_row3_col0, #T_7898f_row3_col1, #T_7898f_row3_col2, #T_7898f_row3_col3, #T_7898f_row3_col4, #T_7898f_row3_col5, #T_7898f_row3_col6, #T_7898f_row3_col7, #T_7898f_row3_col8, #T_7898f_row3_col9, #T_7898f_row3_col10, #T_7898f_row3_col11, #T_7898f_row3_col12, #T_7898f_row3_col13, #T_7898f_row3_col14, #T_7898f_row3_col15, #T_7898f_row3_col16, #T_7898f_row3_col17, #T_7898f_row3_col18, #T_7898f_row3_col19, #T_7898f_row3_col20, #T_7898f_row3_col21, #T_7898f_row3_col22, #T_7898f_row3_col23, #T_7898f_row3_col24, #T_7898f_row3_col25, #T_7898f_row3_col26, #T_7898f_row3_col27, #T_7898f_row4_col0, #T_7898f_row4_col1, #T_7898f_row4_col2, #T_7898f_row4_col3, #T_7898f_row4_col4, #T_7898f_row4_col5, #T_7898f_row4_col6, #T_7898f_row4_col7, #T_7898f_row4_col8, #T_7898f_row4_col9, #T_7898f_row4_col10, #T_7898f_row4_col11, #T_7898f_row4_col12, #T_7898f_row4_col13, #T_7898f_row4_col14, #T_7898f_row4_col15, #T_7898f_row4_col16, #T_7898f_row4_col17, #T_7898f_row4_col18, #T_7898f_row4_col19, #T_7898f_row4_col20, #T_7898f_row4_col21, #T_7898f_row4_col22, #T_7898f_row4_col23, #T_7898f_row4_col24, #T_7898f_row4_col25, #T_7898f_row4_col26, #T_7898f_row4_col27, #T_7898f_row5_col0, #T_7898f_row5_col1, #T_7898f_row5_col2, #T_7898f_row5_col3, #T_7898f_row5_col4, #T_7898f_row5_col5, #T_7898f_row5_col6, #T_7898f_row5_col7, #T_7898f_row5_col8, #T_7898f_row5_col9, #T_7898f_row5_col20, #T_7898f_row5_col21, #T_7898f_row5_col22, #T_7898f_row5_col23, #T_7898f_row5_col24, #T_7898f_row5_col25, #T_7898f_row5_col26, #T_7898f_row5_col27, #T_7898f_row6_col0, #T_7898f_row6_col1, #T_7898f_row6_col2, #T_7898f_row6_col3, #T_7898f_row6_col4, #T_7898f_row6_col5, #T_7898f_row6_col6, #T_7898f_row6_col7, #T_7898f_row6_col8, #T_7898f_row6_col21, #T_7898f_row6_col22, #T_7898f_row6_col23, #T_7898f_row6_col24, #T_7898f_row6_col25, #T_7898f_row6_col26, #T_7898f_row6_col27, #T_7898f_row7_col0, #T_7898f_row7_col1, #T_7898f_row7_col2, #T_7898f_row7_col3, #T_7898f_row7_col4, #T_7898f_row7_col5, #T_7898f_row7_col6, #T_7898f_row7_col7, #T_7898f_row7_col8, #T_7898f_row7_col21, #T_7898f_row7_col22, #T_7898f_row7_col23, #T_7898f_row7_col24, #T_7898f_row7_col25, #T_7898f_row7_col26, #T_7898f_row7_col27, #T_7898f_row8_col0, #T_7898f_row8_col1, #T_7898f_row8_col2, #T_7898f_row8_col3, #T_7898f_row8_col4, #T_7898f_row8_col5, #T_7898f_row8_col6, #T_7898f_row8_col7, #T_7898f_row8_col8, #T_7898f_row8_col21, #T_7898f_row8_col22, #T_7898f_row8_col23, #T_7898f_row8_col24, #T_7898f_row8_col25, #T_7898f_row8_col26, #T_7898f_row8_col27, #T_7898f_row9_col0, #T_7898f_row9_col1, #T_7898f_row9_col2, #T_7898f_row9_col3, #T_7898f_row9_col4, #T_7898f_row9_col5, #T_7898f_row9_col6, #T_7898f_row9_col7, #T_7898f_row9_col8, #T_7898f_row9_col12, #T_7898f_row9_col13, #T_7898f_row9_col14, #T_7898f_row9_col21, #T_7898f_row9_col22, #T_7898f_row9_col23, #T_7898f_row9_col24, #T_7898f_row9_col25, #T_7898f_row9_col26, #T_7898f_row9_col27, #T_7898f_row10_col0, #T_7898f_row10_col1, #T_7898f_row10_col2, #T_7898f_row10_col3, #T_7898f_row10_col4, #T_7898f_row10_col5, #T_7898f_row10_col6, #T_7898f_row10_col7, #T_7898f_row10_col8, #T_7898f_row10_col9, #T_7898f_row10_col10, #T_7898f_row10_col11, #T_7898f_row10_col12, #T_7898f_row10_col13, #T_7898f_row10_col21, #T_7898f_row10_col22, #T_7898f_row10_col23, #T_7898f_row10_col24, #T_7898f_row10_col25, #T_7898f_row10_col26, #T_7898f_row10_col27, #T_7898f_row11_col0, #T_7898f_row11_col1, #T_7898f_row11_col2, #T_7898f_row11_col3, #T_7898f_row11_col4, #T_7898f_row11_col5, #T_7898f_row11_col6, #T_7898f_row11_col7, #T_7898f_row11_col8, #T_7898f_row11_col9, #T_7898f_row11_col10, #T_7898f_row11_col11, #T_7898f_row11_col20, #T_7898f_row11_col21, #T_7898f_row11_col22, #T_7898f_row11_col23, #T_7898f_row11_col24, #T_7898f_row11_col25, #T_7898f_row11_col26, #T_7898f_row11_col27, #T_7898f_row12_col0, #T_7898f_row12_col1, #T_7898f_row12_col2, #T_7898f_row12_col3, #T_7898f_row12_col4, #T_7898f_row12_col5, #T_7898f_row12_col6, #T_7898f_row12_col7, #T_7898f_row12_col8, #T_7898f_row12_col9, #T_7898f_row12_col21, #T_7898f_row12_col22, #T_7898f_row12_col23, #T_7898f_row12_col24, #T_7898f_row12_col25, #T_7898f_row12_col26, #T_7898f_row12_col27, #T_7898f_row13_col0, #T_7898f_row13_col1, #T_7898f_row13_col2, #T_7898f_row13_col3, #T_7898f_row13_col4, #T_7898f_row13_col5, #T_7898f_row13_col6, #T_7898f_row13_col7, #T_7898f_row13_col8, #T_7898f_row13_col21, #T_7898f_row13_col22, #T_7898f_row13_col23, #T_7898f_row13_col24, #T_7898f_row13_col25, #T_7898f_row13_col26, #T_7898f_row13_col27, #T_7898f_row14_col0, #T_7898f_row14_col1, #T_7898f_row14_col2, #T_7898f_row14_col3, #T_7898f_row14_col4, #T_7898f_row14_col5, #T_7898f_row14_col6, #T_7898f_row14_col7, #T_7898f_row14_col8, #T_7898f_row14_col22, #T_7898f_row14_col23, #T_7898f_row14_col24, #T_7898f_row14_col25, #T_7898f_row14_col26, #T_7898f_row14_col27, #T_7898f_row15_col0, #T_7898f_row15_col1, #T_7898f_row15_col2, #T_7898f_row15_col3, #T_7898f_row15_col4, #T_7898f_row15_col5, #T_7898f_row15_col6, #T_7898f_row15_col7, #T_7898f_row15_col8, #T_7898f_row15_col16, #T_7898f_row15_col17, #T_7898f_row15_col22, #T_7898f_row15_col23, #T_7898f_row15_col24, #T_7898f_row15_col25, #T_7898f_row15_col26, #T_7898f_row15_col27, #T_7898f_row16_col0, #T_7898f_row16_col1, #T_7898f_row16_col2, #T_7898f_row16_col3, #T_7898f_row16_col4, #T_7898f_row16_col5, #T_7898f_row16_col6, #T_7898f_row16_col7, #T_7898f_row16_col8, #T_7898f_row16_col14, #T_7898f_row16_col15, #T_7898f_row16_col16, #T_7898f_row16_col22, #T_7898f_row16_col23, #T_7898f_row16_col24, #T_7898f_row16_col25, #T_7898f_row16_col26, #T_7898f_row16_col27, #T_7898f_row17_col0, #T_7898f_row17_col1, #T_7898f_row17_col2, #T_7898f_row17_col3, #T_7898f_row17_col4, #T_7898f_row17_col5, #T_7898f_row17_col6, #T_7898f_row17_col7, #T_7898f_row17_col8, #T_7898f_row17_col9, #T_7898f_row17_col12, #T_7898f_row17_col13, #T_7898f_row17_col14, #T_7898f_row17_col15, #T_7898f_row17_col16, #T_7898f_row17_col22, #T_7898f_row17_col23, #T_7898f_row17_col24, #T_7898f_row17_col25, #T_7898f_row17_col26, #T_7898f_row17_col27, #T_7898f_row18_col0, #T_7898f_row18_col1, #T_7898f_row18_col2, #T_7898f_row18_col3, #T_7898f_row18_col4, #T_7898f_row18_col5, #T_7898f_row18_col6, #T_7898f_row18_col7, #T_7898f_row18_col8, #T_7898f_row18_col9, #T_7898f_row18_col10, #T_7898f_row18_col11, #T_7898f_row18_col12, #T_7898f_row18_col13, #T_7898f_row18_col14, #T_7898f_row18_col21, #T_7898f_row18_col22, #T_7898f_row18_col23, #T_7898f_row18_col24, #T_7898f_row18_col25, #T_7898f_row18_col26, #T_7898f_row18_col27, #T_7898f_row19_col0, #T_7898f_row19_col1, #T_7898f_row19_col2, #T_7898f_row19_col3, #T_7898f_row19_col4, #T_7898f_row19_col5, #T_7898f_row19_col6, #T_7898f_row19_col7, #T_7898f_row19_col8, #T_7898f_row19_col9, #T_7898f_row19_col10, #T_7898f_row19_col11, #T_7898f_row19_col12, #T_7898f_row19_col13, #T_7898f_row19_col14, #T_7898f_row19_col20, #T_7898f_row19_col21, #T_7898f_row19_col22, #T_7898f_row19_col23, #T_7898f_row19_col24, #T_7898f_row19_col25, #T_7898f_row19_col26, #T_7898f_row19_col27, #T_7898f_row20_col0, #T_7898f_row20_col1, #T_7898f_row20_col2, #T_7898f_row20_col3, #T_7898f_row20_col4, #T_7898f_row20_col5, #T_7898f_row20_col8, #T_7898f_row20_col9, #T_7898f_row20_col10, #T_7898f_row20_col11, #T_7898f_row20_col19, #T_7898f_row20_col20, #T_7898f_row20_col21, #T_7898f_row20_col22, #T_7898f_row20_col23, #T_7898f_row20_col24, #T_7898f_row20_col25, #T_7898f_row20_col26, #T_7898f_row20_col27, #T_7898f_row21_col0, #T_7898f_row21_col1, #T_7898f_row21_col2, #T_7898f_row21_col3, #T_7898f_row21_col4, #T_7898f_row21_col5, #T_7898f_row21_col18, #T_7898f_row21_col19, #T_7898f_row21_col20, #T_7898f_row21_col21, #T_7898f_row21_col22, #T_7898f_row21_col23, #T_7898f_row21_col24, #T_7898f_row21_col25, #T_7898f_row21_col26, #T_7898f_row21_col27, #T_7898f_row22_col0, #T_7898f_row22_col1, #T_7898f_row22_col2, #T_7898f_row22_col3, #T_7898f_row22_col4, #T_7898f_row22_col5, #T_7898f_row22_col17, #T_7898f_row22_col18, #T_7898f_row22_col19, #T_7898f_row22_col20, #T_7898f_row22_col21, #T_7898f_row22_col22, #T_7898f_row22_col23, #T_7898f_row22_col24, #T_7898f_row22_col25, #T_7898f_row22_col26, #T_7898f_row22_col27, #T_7898f_row23_col0, #T_7898f_row23_col1, #T_7898f_row23_col2, #T_7898f_row23_col3, #T_7898f_row23_col4, #T_7898f_row23_col5, #T_7898f_row23_col6, #T_7898f_row23_col16, #T_7898f_row23_col17, #T_7898f_row23_col18, #T_7898f_row23_col19, #T_7898f_row23_col20, #T_7898f_row23_col21, #T_7898f_row23_col22, #T_7898f_row23_col23, #T_7898f_row23_col24, #T_7898f_row23_col25, #T_7898f_row23_col26, #T_7898f_row23_col27, #T_7898f_row24_col0, #T_7898f_row24_col1, #T_7898f_row24_col2, #T_7898f_row24_col3, #T_7898f_row24_col4, #T_7898f_row24_col5, #T_7898f_row24_col6, #T_7898f_row24_col7, #T_7898f_row24_col13, #T_7898f_row24_col14, #T_7898f_row24_col15, #T_7898f_row24_col16, #T_7898f_row24_col17, #T_7898f_row24_col18, #T_7898f_row24_col19, #T_7898f_row24_col20, #T_7898f_row24_col21, #T_7898f_row24_col22, #T_7898f_row24_col23, #T_7898f_row24_col24, #T_7898f_row24_col25, #T_7898f_row24_col26, #T_7898f_row24_col27, #T_7898f_row25_col0, #T_7898f_row25_col1, #T_7898f_row25_col2, #T_7898f_row25_col3, #T_7898f_row25_col4, #T_7898f_row25_col5, #T_7898f_row25_col6, #T_7898f_row25_col7, #T_7898f_row25_col8, #T_7898f_row25_col9, #T_7898f_row25_col10, #T_7898f_row25_col11, #T_7898f_row25_col12, #T_7898f_row25_col13, #T_7898f_row25_col14, #T_7898f_row25_col15, #T_7898f_row25_col16, #T_7898f_row25_col17, #T_7898f_row25_col18, #T_7898f_row25_col19, #T_7898f_row25_col20, #T_7898f_row25_col21, #T_7898f_row25_col22, #T_7898f_row25_col23, #T_7898f_row25_col24, #T_7898f_row25_col25, #T_7898f_row25_col26, #T_7898f_row25_col27, #T_7898f_row26_col0, #T_7898f_row26_col1, #T_7898f_row26_col2, #T_7898f_row26_col3, #T_7898f_row26_col4, #T_7898f_row26_col5, #T_7898f_row26_col6, #T_7898f_row26_col7, #T_7898f_row26_col8, #T_7898f_row26_col9, #T_7898f_row26_col10, #T_7898f_row26_col11, #T_7898f_row26_col12, #T_7898f_row26_col13, #T_7898f_row26_col14, #T_7898f_row26_col15, #T_7898f_row26_col16, #T_7898f_row26_col17, #T_7898f_row26_col18, #T_7898f_row26_col19, #T_7898f_row26_col20, #T_7898f_row26_col21, #T_7898f_row26_col22, #T_7898f_row26_col23, #T_7898f_row26_col24, #T_7898f_row26_col25, #T_7898f_row26_col26, #T_7898f_row26_col27, #T_7898f_row27_col0, #T_7898f_row27_col1, #T_7898f_row27_col2, #T_7898f_row27_col3, #T_7898f_row27_col4, #T_7898f_row27_col5, #T_7898f_row27_col6, #T_7898f_row27_col7, #T_7898f_row27_col8, #T_7898f_row27_col9, #T_7898f_row27_col10, #T_7898f_row27_col11, #T_7898f_row27_col12, #T_7898f_row27_col13, #T_7898f_row27_col14, #T_7898f_row27_col15, #T_7898f_row27_col16, #T_7898f_row27_col17, #T_7898f_row27_col18, #T_7898f_row27_col19, #T_7898f_row27_col20, #T_7898f_row27_col21, #T_7898f_row27_col22, #T_7898f_row27_col23, #T_7898f_row27_col24, #T_7898f_row27_col25, #T_7898f_row27_col26, #T_7898f_row27_col27 {\n",
       "  background-color: #ffffff;\n",
       "  color: #000000;\n",
       "}\n",
       "#T_7898f_row5_col10 {\n",
       "  background-color: #b2b2b2;\n",
       "  color: #000000;\n",
       "}\n",
       "#T_7898f_row5_col11, #T_7898f_row5_col12, #T_7898f_row5_col13, #T_7898f_row5_col14, #T_7898f_row5_col15, #T_7898f_row5_col16, #T_7898f_row5_col17, #T_7898f_row6_col18, #T_7898f_row7_col18, #T_7898f_row8_col18, #T_7898f_row9_col18, #T_7898f_row10_col18, #T_7898f_row13_col18, #T_7898f_row15_col10, #T_7898f_row15_col11, #T_7898f_row15_col12, #T_7898f_row15_col13, #T_7898f_row15_col19, #T_7898f_row15_col20, #T_7898f_row15_col21, #T_7898f_row16_col21, #T_7898f_row17_col18, #T_7898f_row18_col18, #T_7898f_row21_col6, #T_7898f_row22_col7, #T_7898f_row22_col8, #T_7898f_row23_col9 {\n",
       "  background-color: #000000;\n",
       "  color: #f1f1f1;\n",
       "}\n",
       "#T_7898f_row5_col18, #T_7898f_row8_col17 {\n",
       "  background-color: #282828;\n",
       "  color: #f1f1f1;\n",
       "}\n",
       "#T_7898f_row5_col19 {\n",
       "  background-color: #f0f0f0;\n",
       "  color: #000000;\n",
       "}\n",
       "#T_7898f_row6_col9 {\n",
       "  background-color: #5e5e5e;\n",
       "  color: #f1f1f1;\n",
       "}\n",
       "#T_7898f_row6_col10 {\n",
       "  background-color: #060606;\n",
       "  color: #f1f1f1;\n",
       "}\n",
       "#T_7898f_row6_col11, #T_7898f_row6_col12, #T_7898f_row6_col13, #T_7898f_row6_col15, #T_7898f_row6_col16, #T_7898f_row6_col17, #T_7898f_row7_col10, #T_7898f_row7_col11, #T_7898f_row7_col12, #T_7898f_row7_col13, #T_7898f_row7_col15, #T_7898f_row7_col16, #T_7898f_row7_col17, #T_7898f_row7_col19, #T_7898f_row8_col10, #T_7898f_row8_col19, #T_7898f_row9_col19, #T_7898f_row10_col16, #T_7898f_row10_col17, #T_7898f_row11_col15, #T_7898f_row11_col16, #T_7898f_row11_col17, #T_7898f_row12_col13, #T_7898f_row12_col15, #T_7898f_row12_col16, #T_7898f_row12_col17, #T_7898f_row13_col11, #T_7898f_row13_col12, #T_7898f_row13_col13, #T_7898f_row13_col15, #T_7898f_row13_col16, #T_7898f_row13_col17, #T_7898f_row13_col19, #T_7898f_row14_col10, #T_7898f_row14_col11, #T_7898f_row14_col12, #T_7898f_row14_col13, #T_7898f_row14_col15, #T_7898f_row14_col16, #T_7898f_row14_col19, #T_7898f_row16_col19, #T_7898f_row16_col20, #T_7898f_row17_col19, #T_7898f_row19_col16, #T_7898f_row19_col17, #T_7898f_row20_col16, #T_7898f_row21_col13, #T_7898f_row21_col15, #T_7898f_row22_col11, #T_7898f_row22_col12, #T_7898f_row22_col13, #T_7898f_row23_col10, #T_7898f_row23_col11, #T_7898f_row24_col10 {\n",
       "  background-color: #010101;\n",
       "  color: #f1f1f1;\n",
       "}\n",
       "#T_7898f_row6_col14, #T_7898f_row7_col14, #T_7898f_row11_col14, #T_7898f_row12_col14, #T_7898f_row13_col14, #T_7898f_row14_col14, #T_7898f_row21_col14, #T_7898f_row22_col14, #T_7898f_row23_col12 {\n",
       "  background-color: #020202;\n",
       "  color: #f1f1f1;\n",
       "}\n",
       "#T_7898f_row6_col19 {\n",
       "  background-color: #2e2e2e;\n",
       "  color: #f1f1f1;\n",
       "}\n",
       "#T_7898f_row6_col20, #T_7898f_row16_col17, #T_7898f_row18_col15 {\n",
       "  background-color: #eeeeee;\n",
       "  color: #000000;\n",
       "}\n",
       "#T_7898f_row7_col9, #T_7898f_row8_col9, #T_7898f_row14_col9 {\n",
       "  background-color: #555555;\n",
       "  color: #f1f1f1;\n",
       "}\n",
       "#T_7898f_row7_col20, #T_7898f_row8_col20, #T_7898f_row9_col20 {\n",
       "  background-color: #cccccc;\n",
       "  color: #000000;\n",
       "}\n",
       "#T_7898f_row8_col11 {\n",
       "  background-color: #0c0c0c;\n",
       "  color: #f1f1f1;\n",
       "}\n",
       "#T_7898f_row8_col12, #T_7898f_row8_col13 {\n",
       "  background-color: #646464;\n",
       "  color: #f1f1f1;\n",
       "}\n",
       "#T_7898f_row8_col14, #T_7898f_row8_col15, #T_7898f_row8_col16, #T_7898f_row9_col9 {\n",
       "  background-color: #ebebeb;\n",
       "  color: #000000;\n",
       "}\n",
       "#T_7898f_row9_col10 {\n",
       "  background-color: #e1e1e1;\n",
       "  color: #000000;\n",
       "}\n",
       "#T_7898f_row9_col11 {\n",
       "  background-color: #e5e5e5;\n",
       "  color: #000000;\n",
       "}\n",
       "#T_7898f_row9_col15 {\n",
       "  background-color: #f1f1f1;\n",
       "  color: #000000;\n",
       "}\n",
       "#T_7898f_row9_col16 {\n",
       "  background-color: #a2a2a2;\n",
       "  color: #f1f1f1;\n",
       "}\n",
       "#T_7898f_row9_col17 {\n",
       "  background-color: #0a0a0a;\n",
       "  color: #f1f1f1;\n",
       "}\n",
       "#T_7898f_row10_col14, #T_7898f_row18_col20, #T_7898f_row20_col13 {\n",
       "  background-color: #e0e0e0;\n",
       "  color: #000000;\n",
       "}\n",
       "#T_7898f_row10_col15 {\n",
       "  background-color: #383838;\n",
       "  color: #f1f1f1;\n",
       "}\n",
       "#T_7898f_row10_col19, #T_7898f_row16_col11, #T_7898f_row22_col9 {\n",
       "  background-color: #575757;\n",
       "  color: #f1f1f1;\n",
       "}\n",
       "#T_7898f_row10_col20, #T_7898f_row11_col19 {\n",
       "  background-color: #f5f5f5;\n",
       "  color: #000000;\n",
       "}\n",
       "#T_7898f_row11_col12, #T_7898f_row20_col12 {\n",
       "  background-color: #fefefe;\n",
       "  color: #000000;\n",
       "}\n",
       "#T_7898f_row11_col13, #T_7898f_row12_col11 {\n",
       "  background-color: #e9e9e9;\n",
       "  color: #000000;\n",
       "}\n",
       "#T_7898f_row11_col18 {\n",
       "  background-color: #393939;\n",
       "  color: #f1f1f1;\n",
       "}\n",
       "#T_7898f_row12_col10, #T_7898f_row17_col10 {\n",
       "  background-color: #fdfdfd;\n",
       "  color: #000000;\n",
       "}\n",
       "#T_7898f_row12_col12 {\n",
       "  background-color: #6c6c6c;\n",
       "  color: #f1f1f1;\n",
       "}\n",
       "#T_7898f_row12_col18 {\n",
       "  background-color: #1d1d1d;\n",
       "  color: #f1f1f1;\n",
       "}\n",
       "#T_7898f_row12_col19, #T_7898f_row15_col18, #T_7898f_row20_col7 {\n",
       "  background-color: #919191;\n",
       "  color: #f1f1f1;\n",
       "}\n",
       "#T_7898f_row12_col20 {\n",
       "  background-color: #fbfbfb;\n",
       "  color: #000000;\n",
       "}\n",
       "#T_7898f_row13_col9 {\n",
       "  background-color: #ababab;\n",
       "  color: #000000;\n",
       "}\n",
       "#T_7898f_row13_col10 {\n",
       "  background-color: #6e6e6e;\n",
       "  color: #f1f1f1;\n",
       "}\n",
       "#T_7898f_row13_col20 {\n",
       "  background-color: #767676;\n",
       "  color: #f1f1f1;\n",
       "}\n",
       "#T_7898f_row14_col17, #T_7898f_row21_col8 {\n",
       "  background-color: #888888;\n",
       "  color: #f1f1f1;\n",
       "}\n",
       "#T_7898f_row14_col18 {\n",
       "  background-color: #212121;\n",
       "  color: #f1f1f1;\n",
       "}\n",
       "#T_7898f_row14_col20 {\n",
       "  background-color: #171717;\n",
       "  color: #f1f1f1;\n",
       "}\n",
       "#T_7898f_row14_col21, #T_7898f_row15_col14 {\n",
       "  background-color: #8f8f8f;\n",
       "  color: #f1f1f1;\n",
       "}\n",
       "#T_7898f_row15_col9 {\n",
       "  background-color: #545454;\n",
       "  color: #f1f1f1;\n",
       "}\n",
       "#T_7898f_row15_col15 {\n",
       "  background-color: #cdcdcd;\n",
       "  color: #000000;\n",
       "}\n",
       "#T_7898f_row16_col9 {\n",
       "  background-color: #adadad;\n",
       "  color: #000000;\n",
       "}\n",
       "#T_7898f_row16_col10 {\n",
       "  background-color: #6f6f6f;\n",
       "  color: #f1f1f1;\n",
       "}\n",
       "#T_7898f_row16_col12 {\n",
       "  background-color: #d5d5d5;\n",
       "  color: #000000;\n",
       "}\n",
       "#T_7898f_row16_col13 {\n",
       "  background-color: #f9f9f9;\n",
       "  color: #000000;\n",
       "}\n",
       "#T_7898f_row16_col18 {\n",
       "  background-color: #232323;\n",
       "  color: #f1f1f1;\n",
       "}\n",
       "#T_7898f_row17_col11, #T_7898f_row21_col9 {\n",
       "  background-color: #fafafa;\n",
       "  color: #000000;\n",
       "}\n",
       "#T_7898f_row17_col17, #T_7898f_row18_col16 {\n",
       "  background-color: #434343;\n",
       "  color: #f1f1f1;\n",
       "}\n",
       "#T_7898f_row17_col20 {\n",
       "  background-color: #6b6b6b;\n",
       "  color: #f1f1f1;\n",
       "}\n",
       "#T_7898f_row17_col21 {\n",
       "  background-color: #f2f2f2;\n",
       "  color: #000000;\n",
       "}\n",
       "#T_7898f_row18_col17 {\n",
       "  background-color: #080808;\n",
       "  color: #f1f1f1;\n",
       "}\n",
       "#T_7898f_row18_col19, #T_7898f_row19_col18, #T_7898f_row20_col17 {\n",
       "  background-color: #151515;\n",
       "  color: #f1f1f1;\n",
       "}\n",
       "#T_7898f_row19_col15 {\n",
       "  background-color: #858585;\n",
       "  color: #f1f1f1;\n",
       "}\n",
       "#T_7898f_row19_col19 {\n",
       "  background-color: #cecece;\n",
       "  color: #000000;\n",
       "}\n",
       "#T_7898f_row20_col6 {\n",
       "  background-color: #535353;\n",
       "  color: #f1f1f1;\n",
       "}\n",
       "#T_7898f_row20_col14 {\n",
       "  background-color: #565656;\n",
       "  color: #f1f1f1;\n",
       "}\n",
       "#T_7898f_row20_col15 {\n",
       "  background-color: #050505;\n",
       "  color: #f1f1f1;\n",
       "}\n",
       "#T_7898f_row20_col18 {\n",
       "  background-color: #7f7f7f;\n",
       "  color: #f1f1f1;\n",
       "}\n",
       "#T_7898f_row21_col7 {\n",
       "  background-color: #181818;\n",
       "  color: #f1f1f1;\n",
       "}\n",
       "#T_7898f_row21_col10, #T_7898f_row23_col15 {\n",
       "  background-color: #fcfcfc;\n",
       "  color: #000000;\n",
       "}\n",
       "#T_7898f_row21_col11 {\n",
       "  background-color: #dfdfdf;\n",
       "  color: #000000;\n",
       "}\n",
       "#T_7898f_row21_col12 {\n",
       "  background-color: #5f5f5f;\n",
       "  color: #f1f1f1;\n",
       "}\n",
       "#T_7898f_row21_col16 {\n",
       "  background-color: #131313;\n",
       "  color: #f1f1f1;\n",
       "}\n",
       "#T_7898f_row21_col17 {\n",
       "  background-color: #cfcfcf;\n",
       "  color: #000000;\n",
       "}\n",
       "#T_7898f_row22_col6 {\n",
       "  background-color: #1f1f1f;\n",
       "  color: #f1f1f1;\n",
       "}\n",
       "#T_7898f_row22_col10 {\n",
       "  background-color: #626262;\n",
       "  color: #f1f1f1;\n",
       "}\n",
       "#T_7898f_row22_col15 {\n",
       "  background-color: #666666;\n",
       "  color: #f1f1f1;\n",
       "}\n",
       "#T_7898f_row22_col16 {\n",
       "  background-color: #dcdcdc;\n",
       "  color: #000000;\n",
       "}\n",
       "#T_7898f_row23_col7 {\n",
       "  background-color: #8e8e8e;\n",
       "  color: #f1f1f1;\n",
       "}\n",
       "#T_7898f_row23_col8 {\n",
       "  background-color: #030303;\n",
       "  color: #f1f1f1;\n",
       "}\n",
       "#T_7898f_row23_col13 {\n",
       "  background-color: #111111;\n",
       "  color: #f1f1f1;\n",
       "}\n",
       "#T_7898f_row23_col14 {\n",
       "  background-color: #afafaf;\n",
       "  color: #000000;\n",
       "}\n",
       "#T_7898f_row24_col8 {\n",
       "  background-color: #bdbdbd;\n",
       "  color: #000000;\n",
       "}\n",
       "#T_7898f_row24_col9 {\n",
       "  background-color: #292929;\n",
       "  color: #f1f1f1;\n",
       "}\n",
       "#T_7898f_row24_col11 {\n",
       "  background-color: #6a6a6a;\n",
       "  color: #f1f1f1;\n",
       "}\n",
       "#T_7898f_row24_col12 {\n",
       "  background-color: #a7a7a7;\n",
       "  color: #f1f1f1;\n",
       "}\n",
       "</style>\n",
       "<table id=\"T_7898f\">\n",
       "  <thead>\n",
       "    <tr>\n",
       "      <th class=\"blank level0\" >&nbsp;</th>\n",
       "      <th id=\"T_7898f_level0_col0\" class=\"col_heading level0 col0\" >0</th>\n",
       "      <th id=\"T_7898f_level0_col1\" class=\"col_heading level0 col1\" >1</th>\n",
       "      <th id=\"T_7898f_level0_col2\" class=\"col_heading level0 col2\" >2</th>\n",
       "      <th id=\"T_7898f_level0_col3\" class=\"col_heading level0 col3\" >3</th>\n",
       "      <th id=\"T_7898f_level0_col4\" class=\"col_heading level0 col4\" >4</th>\n",
       "      <th id=\"T_7898f_level0_col5\" class=\"col_heading level0 col5\" >5</th>\n",
       "      <th id=\"T_7898f_level0_col6\" class=\"col_heading level0 col6\" >6</th>\n",
       "      <th id=\"T_7898f_level0_col7\" class=\"col_heading level0 col7\" >7</th>\n",
       "      <th id=\"T_7898f_level0_col8\" class=\"col_heading level0 col8\" >8</th>\n",
       "      <th id=\"T_7898f_level0_col9\" class=\"col_heading level0 col9\" >9</th>\n",
       "      <th id=\"T_7898f_level0_col10\" class=\"col_heading level0 col10\" >10</th>\n",
       "      <th id=\"T_7898f_level0_col11\" class=\"col_heading level0 col11\" >11</th>\n",
       "      <th id=\"T_7898f_level0_col12\" class=\"col_heading level0 col12\" >12</th>\n",
       "      <th id=\"T_7898f_level0_col13\" class=\"col_heading level0 col13\" >13</th>\n",
       "      <th id=\"T_7898f_level0_col14\" class=\"col_heading level0 col14\" >14</th>\n",
       "      <th id=\"T_7898f_level0_col15\" class=\"col_heading level0 col15\" >15</th>\n",
       "      <th id=\"T_7898f_level0_col16\" class=\"col_heading level0 col16\" >16</th>\n",
       "      <th id=\"T_7898f_level0_col17\" class=\"col_heading level0 col17\" >17</th>\n",
       "      <th id=\"T_7898f_level0_col18\" class=\"col_heading level0 col18\" >18</th>\n",
       "      <th id=\"T_7898f_level0_col19\" class=\"col_heading level0 col19\" >19</th>\n",
       "      <th id=\"T_7898f_level0_col20\" class=\"col_heading level0 col20\" >20</th>\n",
       "      <th id=\"T_7898f_level0_col21\" class=\"col_heading level0 col21\" >21</th>\n",
       "      <th id=\"T_7898f_level0_col22\" class=\"col_heading level0 col22\" >22</th>\n",
       "      <th id=\"T_7898f_level0_col23\" class=\"col_heading level0 col23\" >23</th>\n",
       "      <th id=\"T_7898f_level0_col24\" class=\"col_heading level0 col24\" >24</th>\n",
       "      <th id=\"T_7898f_level0_col25\" class=\"col_heading level0 col25\" >25</th>\n",
       "      <th id=\"T_7898f_level0_col26\" class=\"col_heading level0 col26\" >26</th>\n",
       "      <th id=\"T_7898f_level0_col27\" class=\"col_heading level0 col27\" >27</th>\n",
       "    </tr>\n",
       "  </thead>\n",
       "  <tbody>\n",
       "    <tr>\n",
       "      <th id=\"T_7898f_level0_row0\" class=\"row_heading level0 row0\" >0</th>\n",
       "      <td id=\"T_7898f_row0_col0\" class=\"data row0 col0\" >0</td>\n",
       "      <td id=\"T_7898f_row0_col1\" class=\"data row0 col1\" >0</td>\n",
       "      <td id=\"T_7898f_row0_col2\" class=\"data row0 col2\" >0</td>\n",
       "      <td id=\"T_7898f_row0_col3\" class=\"data row0 col3\" >0</td>\n",
       "      <td id=\"T_7898f_row0_col4\" class=\"data row0 col4\" >0</td>\n",
       "      <td id=\"T_7898f_row0_col5\" class=\"data row0 col5\" >0</td>\n",
       "      <td id=\"T_7898f_row0_col6\" class=\"data row0 col6\" >0</td>\n",
       "      <td id=\"T_7898f_row0_col7\" class=\"data row0 col7\" >0</td>\n",
       "      <td id=\"T_7898f_row0_col8\" class=\"data row0 col8\" >0</td>\n",
       "      <td id=\"T_7898f_row0_col9\" class=\"data row0 col9\" >0</td>\n",
       "      <td id=\"T_7898f_row0_col10\" class=\"data row0 col10\" >0</td>\n",
       "      <td id=\"T_7898f_row0_col11\" class=\"data row0 col11\" >0</td>\n",
       "      <td id=\"T_7898f_row0_col12\" class=\"data row0 col12\" >0</td>\n",
       "      <td id=\"T_7898f_row0_col13\" class=\"data row0 col13\" >0</td>\n",
       "      <td id=\"T_7898f_row0_col14\" class=\"data row0 col14\" >0</td>\n",
       "      <td id=\"T_7898f_row0_col15\" class=\"data row0 col15\" >0</td>\n",
       "      <td id=\"T_7898f_row0_col16\" class=\"data row0 col16\" >0</td>\n",
       "      <td id=\"T_7898f_row0_col17\" class=\"data row0 col17\" >0</td>\n",
       "      <td id=\"T_7898f_row0_col18\" class=\"data row0 col18\" >0</td>\n",
       "      <td id=\"T_7898f_row0_col19\" class=\"data row0 col19\" >0</td>\n",
       "      <td id=\"T_7898f_row0_col20\" class=\"data row0 col20\" >0</td>\n",
       "      <td id=\"T_7898f_row0_col21\" class=\"data row0 col21\" >0</td>\n",
       "      <td id=\"T_7898f_row0_col22\" class=\"data row0 col22\" >0</td>\n",
       "      <td id=\"T_7898f_row0_col23\" class=\"data row0 col23\" >0</td>\n",
       "      <td id=\"T_7898f_row0_col24\" class=\"data row0 col24\" >0</td>\n",
       "      <td id=\"T_7898f_row0_col25\" class=\"data row0 col25\" >0</td>\n",
       "      <td id=\"T_7898f_row0_col26\" class=\"data row0 col26\" >0</td>\n",
       "      <td id=\"T_7898f_row0_col27\" class=\"data row0 col27\" >0</td>\n",
       "    </tr>\n",
       "    <tr>\n",
       "      <th id=\"T_7898f_level0_row1\" class=\"row_heading level0 row1\" >1</th>\n",
       "      <td id=\"T_7898f_row1_col0\" class=\"data row1 col0\" >0</td>\n",
       "      <td id=\"T_7898f_row1_col1\" class=\"data row1 col1\" >0</td>\n",
       "      <td id=\"T_7898f_row1_col2\" class=\"data row1 col2\" >0</td>\n",
       "      <td id=\"T_7898f_row1_col3\" class=\"data row1 col3\" >0</td>\n",
       "      <td id=\"T_7898f_row1_col4\" class=\"data row1 col4\" >0</td>\n",
       "      <td id=\"T_7898f_row1_col5\" class=\"data row1 col5\" >0</td>\n",
       "      <td id=\"T_7898f_row1_col6\" class=\"data row1 col6\" >0</td>\n",
       "      <td id=\"T_7898f_row1_col7\" class=\"data row1 col7\" >0</td>\n",
       "      <td id=\"T_7898f_row1_col8\" class=\"data row1 col8\" >0</td>\n",
       "      <td id=\"T_7898f_row1_col9\" class=\"data row1 col9\" >0</td>\n",
       "      <td id=\"T_7898f_row1_col10\" class=\"data row1 col10\" >0</td>\n",
       "      <td id=\"T_7898f_row1_col11\" class=\"data row1 col11\" >0</td>\n",
       "      <td id=\"T_7898f_row1_col12\" class=\"data row1 col12\" >0</td>\n",
       "      <td id=\"T_7898f_row1_col13\" class=\"data row1 col13\" >0</td>\n",
       "      <td id=\"T_7898f_row1_col14\" class=\"data row1 col14\" >0</td>\n",
       "      <td id=\"T_7898f_row1_col15\" class=\"data row1 col15\" >0</td>\n",
       "      <td id=\"T_7898f_row1_col16\" class=\"data row1 col16\" >0</td>\n",
       "      <td id=\"T_7898f_row1_col17\" class=\"data row1 col17\" >0</td>\n",
       "      <td id=\"T_7898f_row1_col18\" class=\"data row1 col18\" >0</td>\n",
       "      <td id=\"T_7898f_row1_col19\" class=\"data row1 col19\" >0</td>\n",
       "      <td id=\"T_7898f_row1_col20\" class=\"data row1 col20\" >0</td>\n",
       "      <td id=\"T_7898f_row1_col21\" class=\"data row1 col21\" >0</td>\n",
       "      <td id=\"T_7898f_row1_col22\" class=\"data row1 col22\" >0</td>\n",
       "      <td id=\"T_7898f_row1_col23\" class=\"data row1 col23\" >0</td>\n",
       "      <td id=\"T_7898f_row1_col24\" class=\"data row1 col24\" >0</td>\n",
       "      <td id=\"T_7898f_row1_col25\" class=\"data row1 col25\" >0</td>\n",
       "      <td id=\"T_7898f_row1_col26\" class=\"data row1 col26\" >0</td>\n",
       "      <td id=\"T_7898f_row1_col27\" class=\"data row1 col27\" >0</td>\n",
       "    </tr>\n",
       "    <tr>\n",
       "      <th id=\"T_7898f_level0_row2\" class=\"row_heading level0 row2\" >2</th>\n",
       "      <td id=\"T_7898f_row2_col0\" class=\"data row2 col0\" >0</td>\n",
       "      <td id=\"T_7898f_row2_col1\" class=\"data row2 col1\" >0</td>\n",
       "      <td id=\"T_7898f_row2_col2\" class=\"data row2 col2\" >0</td>\n",
       "      <td id=\"T_7898f_row2_col3\" class=\"data row2 col3\" >0</td>\n",
       "      <td id=\"T_7898f_row2_col4\" class=\"data row2 col4\" >0</td>\n",
       "      <td id=\"T_7898f_row2_col5\" class=\"data row2 col5\" >0</td>\n",
       "      <td id=\"T_7898f_row2_col6\" class=\"data row2 col6\" >0</td>\n",
       "      <td id=\"T_7898f_row2_col7\" class=\"data row2 col7\" >0</td>\n",
       "      <td id=\"T_7898f_row2_col8\" class=\"data row2 col8\" >0</td>\n",
       "      <td id=\"T_7898f_row2_col9\" class=\"data row2 col9\" >0</td>\n",
       "      <td id=\"T_7898f_row2_col10\" class=\"data row2 col10\" >0</td>\n",
       "      <td id=\"T_7898f_row2_col11\" class=\"data row2 col11\" >0</td>\n",
       "      <td id=\"T_7898f_row2_col12\" class=\"data row2 col12\" >0</td>\n",
       "      <td id=\"T_7898f_row2_col13\" class=\"data row2 col13\" >0</td>\n",
       "      <td id=\"T_7898f_row2_col14\" class=\"data row2 col14\" >0</td>\n",
       "      <td id=\"T_7898f_row2_col15\" class=\"data row2 col15\" >0</td>\n",
       "      <td id=\"T_7898f_row2_col16\" class=\"data row2 col16\" >0</td>\n",
       "      <td id=\"T_7898f_row2_col17\" class=\"data row2 col17\" >0</td>\n",
       "      <td id=\"T_7898f_row2_col18\" class=\"data row2 col18\" >0</td>\n",
       "      <td id=\"T_7898f_row2_col19\" class=\"data row2 col19\" >0</td>\n",
       "      <td id=\"T_7898f_row2_col20\" class=\"data row2 col20\" >0</td>\n",
       "      <td id=\"T_7898f_row2_col21\" class=\"data row2 col21\" >0</td>\n",
       "      <td id=\"T_7898f_row2_col22\" class=\"data row2 col22\" >0</td>\n",
       "      <td id=\"T_7898f_row2_col23\" class=\"data row2 col23\" >0</td>\n",
       "      <td id=\"T_7898f_row2_col24\" class=\"data row2 col24\" >0</td>\n",
       "      <td id=\"T_7898f_row2_col25\" class=\"data row2 col25\" >0</td>\n",
       "      <td id=\"T_7898f_row2_col26\" class=\"data row2 col26\" >0</td>\n",
       "      <td id=\"T_7898f_row2_col27\" class=\"data row2 col27\" >0</td>\n",
       "    </tr>\n",
       "    <tr>\n",
       "      <th id=\"T_7898f_level0_row3\" class=\"row_heading level0 row3\" >3</th>\n",
       "      <td id=\"T_7898f_row3_col0\" class=\"data row3 col0\" >0</td>\n",
       "      <td id=\"T_7898f_row3_col1\" class=\"data row3 col1\" >0</td>\n",
       "      <td id=\"T_7898f_row3_col2\" class=\"data row3 col2\" >0</td>\n",
       "      <td id=\"T_7898f_row3_col3\" class=\"data row3 col3\" >0</td>\n",
       "      <td id=\"T_7898f_row3_col4\" class=\"data row3 col4\" >0</td>\n",
       "      <td id=\"T_7898f_row3_col5\" class=\"data row3 col5\" >0</td>\n",
       "      <td id=\"T_7898f_row3_col6\" class=\"data row3 col6\" >0</td>\n",
       "      <td id=\"T_7898f_row3_col7\" class=\"data row3 col7\" >0</td>\n",
       "      <td id=\"T_7898f_row3_col8\" class=\"data row3 col8\" >0</td>\n",
       "      <td id=\"T_7898f_row3_col9\" class=\"data row3 col9\" >0</td>\n",
       "      <td id=\"T_7898f_row3_col10\" class=\"data row3 col10\" >0</td>\n",
       "      <td id=\"T_7898f_row3_col11\" class=\"data row3 col11\" >0</td>\n",
       "      <td id=\"T_7898f_row3_col12\" class=\"data row3 col12\" >0</td>\n",
       "      <td id=\"T_7898f_row3_col13\" class=\"data row3 col13\" >0</td>\n",
       "      <td id=\"T_7898f_row3_col14\" class=\"data row3 col14\" >0</td>\n",
       "      <td id=\"T_7898f_row3_col15\" class=\"data row3 col15\" >0</td>\n",
       "      <td id=\"T_7898f_row3_col16\" class=\"data row3 col16\" >0</td>\n",
       "      <td id=\"T_7898f_row3_col17\" class=\"data row3 col17\" >0</td>\n",
       "      <td id=\"T_7898f_row3_col18\" class=\"data row3 col18\" >0</td>\n",
       "      <td id=\"T_7898f_row3_col19\" class=\"data row3 col19\" >0</td>\n",
       "      <td id=\"T_7898f_row3_col20\" class=\"data row3 col20\" >0</td>\n",
       "      <td id=\"T_7898f_row3_col21\" class=\"data row3 col21\" >0</td>\n",
       "      <td id=\"T_7898f_row3_col22\" class=\"data row3 col22\" >0</td>\n",
       "      <td id=\"T_7898f_row3_col23\" class=\"data row3 col23\" >0</td>\n",
       "      <td id=\"T_7898f_row3_col24\" class=\"data row3 col24\" >0</td>\n",
       "      <td id=\"T_7898f_row3_col25\" class=\"data row3 col25\" >0</td>\n",
       "      <td id=\"T_7898f_row3_col26\" class=\"data row3 col26\" >0</td>\n",
       "      <td id=\"T_7898f_row3_col27\" class=\"data row3 col27\" >0</td>\n",
       "    </tr>\n",
       "    <tr>\n",
       "      <th id=\"T_7898f_level0_row4\" class=\"row_heading level0 row4\" >4</th>\n",
       "      <td id=\"T_7898f_row4_col0\" class=\"data row4 col0\" >0</td>\n",
       "      <td id=\"T_7898f_row4_col1\" class=\"data row4 col1\" >0</td>\n",
       "      <td id=\"T_7898f_row4_col2\" class=\"data row4 col2\" >0</td>\n",
       "      <td id=\"T_7898f_row4_col3\" class=\"data row4 col3\" >0</td>\n",
       "      <td id=\"T_7898f_row4_col4\" class=\"data row4 col4\" >0</td>\n",
       "      <td id=\"T_7898f_row4_col5\" class=\"data row4 col5\" >0</td>\n",
       "      <td id=\"T_7898f_row4_col6\" class=\"data row4 col6\" >0</td>\n",
       "      <td id=\"T_7898f_row4_col7\" class=\"data row4 col7\" >0</td>\n",
       "      <td id=\"T_7898f_row4_col8\" class=\"data row4 col8\" >0</td>\n",
       "      <td id=\"T_7898f_row4_col9\" class=\"data row4 col9\" >0</td>\n",
       "      <td id=\"T_7898f_row4_col10\" class=\"data row4 col10\" >0</td>\n",
       "      <td id=\"T_7898f_row4_col11\" class=\"data row4 col11\" >0</td>\n",
       "      <td id=\"T_7898f_row4_col12\" class=\"data row4 col12\" >0</td>\n",
       "      <td id=\"T_7898f_row4_col13\" class=\"data row4 col13\" >0</td>\n",
       "      <td id=\"T_7898f_row4_col14\" class=\"data row4 col14\" >0</td>\n",
       "      <td id=\"T_7898f_row4_col15\" class=\"data row4 col15\" >0</td>\n",
       "      <td id=\"T_7898f_row4_col16\" class=\"data row4 col16\" >0</td>\n",
       "      <td id=\"T_7898f_row4_col17\" class=\"data row4 col17\" >0</td>\n",
       "      <td id=\"T_7898f_row4_col18\" class=\"data row4 col18\" >0</td>\n",
       "      <td id=\"T_7898f_row4_col19\" class=\"data row4 col19\" >0</td>\n",
       "      <td id=\"T_7898f_row4_col20\" class=\"data row4 col20\" >0</td>\n",
       "      <td id=\"T_7898f_row4_col21\" class=\"data row4 col21\" >0</td>\n",
       "      <td id=\"T_7898f_row4_col22\" class=\"data row4 col22\" >0</td>\n",
       "      <td id=\"T_7898f_row4_col23\" class=\"data row4 col23\" >0</td>\n",
       "      <td id=\"T_7898f_row4_col24\" class=\"data row4 col24\" >0</td>\n",
       "      <td id=\"T_7898f_row4_col25\" class=\"data row4 col25\" >0</td>\n",
       "      <td id=\"T_7898f_row4_col26\" class=\"data row4 col26\" >0</td>\n",
       "      <td id=\"T_7898f_row4_col27\" class=\"data row4 col27\" >0</td>\n",
       "    </tr>\n",
       "    <tr>\n",
       "      <th id=\"T_7898f_level0_row5\" class=\"row_heading level0 row5\" >5</th>\n",
       "      <td id=\"T_7898f_row5_col0\" class=\"data row5 col0\" >0</td>\n",
       "      <td id=\"T_7898f_row5_col1\" class=\"data row5 col1\" >0</td>\n",
       "      <td id=\"T_7898f_row5_col2\" class=\"data row5 col2\" >0</td>\n",
       "      <td id=\"T_7898f_row5_col3\" class=\"data row5 col3\" >0</td>\n",
       "      <td id=\"T_7898f_row5_col4\" class=\"data row5 col4\" >0</td>\n",
       "      <td id=\"T_7898f_row5_col5\" class=\"data row5 col5\" >0</td>\n",
       "      <td id=\"T_7898f_row5_col6\" class=\"data row5 col6\" >0</td>\n",
       "      <td id=\"T_7898f_row5_col7\" class=\"data row5 col7\" >0</td>\n",
       "      <td id=\"T_7898f_row5_col8\" class=\"data row5 col8\" >0</td>\n",
       "      <td id=\"T_7898f_row5_col9\" class=\"data row5 col9\" >0</td>\n",
       "      <td id=\"T_7898f_row5_col10\" class=\"data row5 col10\" >104</td>\n",
       "      <td id=\"T_7898f_row5_col11\" class=\"data row5 col11\" >253</td>\n",
       "      <td id=\"T_7898f_row5_col12\" class=\"data row5 col12\" >253</td>\n",
       "      <td id=\"T_7898f_row5_col13\" class=\"data row5 col13\" >253</td>\n",
       "      <td id=\"T_7898f_row5_col14\" class=\"data row5 col14\" >255</td>\n",
       "      <td id=\"T_7898f_row5_col15\" class=\"data row5 col15\" >253</td>\n",
       "      <td id=\"T_7898f_row5_col16\" class=\"data row5 col16\" >253</td>\n",
       "      <td id=\"T_7898f_row5_col17\" class=\"data row5 col17\" >253</td>\n",
       "      <td id=\"T_7898f_row5_col18\" class=\"data row5 col18\" >218</td>\n",
       "      <td id=\"T_7898f_row5_col19\" class=\"data row5 col19\" >32</td>\n",
       "      <td id=\"T_7898f_row5_col20\" class=\"data row5 col20\" >0</td>\n",
       "      <td id=\"T_7898f_row5_col21\" class=\"data row5 col21\" >0</td>\n",
       "      <td id=\"T_7898f_row5_col22\" class=\"data row5 col22\" >0</td>\n",
       "      <td id=\"T_7898f_row5_col23\" class=\"data row5 col23\" >0</td>\n",
       "      <td id=\"T_7898f_row5_col24\" class=\"data row5 col24\" >0</td>\n",
       "      <td id=\"T_7898f_row5_col25\" class=\"data row5 col25\" >0</td>\n",
       "      <td id=\"T_7898f_row5_col26\" class=\"data row5 col26\" >0</td>\n",
       "      <td id=\"T_7898f_row5_col27\" class=\"data row5 col27\" >0</td>\n",
       "    </tr>\n",
       "    <tr>\n",
       "      <th id=\"T_7898f_level0_row6\" class=\"row_heading level0 row6\" >6</th>\n",
       "      <td id=\"T_7898f_row6_col0\" class=\"data row6 col0\" >0</td>\n",
       "      <td id=\"T_7898f_row6_col1\" class=\"data row6 col1\" >0</td>\n",
       "      <td id=\"T_7898f_row6_col2\" class=\"data row6 col2\" >0</td>\n",
       "      <td id=\"T_7898f_row6_col3\" class=\"data row6 col3\" >0</td>\n",
       "      <td id=\"T_7898f_row6_col4\" class=\"data row6 col4\" >0</td>\n",
       "      <td id=\"T_7898f_row6_col5\" class=\"data row6 col5\" >0</td>\n",
       "      <td id=\"T_7898f_row6_col6\" class=\"data row6 col6\" >0</td>\n",
       "      <td id=\"T_7898f_row6_col7\" class=\"data row6 col7\" >0</td>\n",
       "      <td id=\"T_7898f_row6_col8\" class=\"data row6 col8\" >0</td>\n",
       "      <td id=\"T_7898f_row6_col9\" class=\"data row6 col9\" >178</td>\n",
       "      <td id=\"T_7898f_row6_col10\" class=\"data row6 col10\" >248</td>\n",
       "      <td id=\"T_7898f_row6_col11\" class=\"data row6 col11\" >252</td>\n",
       "      <td id=\"T_7898f_row6_col12\" class=\"data row6 col12\" >252</td>\n",
       "      <td id=\"T_7898f_row6_col13\" class=\"data row6 col13\" >252</td>\n",
       "      <td id=\"T_7898f_row6_col14\" class=\"data row6 col14\" >253</td>\n",
       "      <td id=\"T_7898f_row6_col15\" class=\"data row6 col15\" >252</td>\n",
       "      <td id=\"T_7898f_row6_col16\" class=\"data row6 col16\" >252</td>\n",
       "      <td id=\"T_7898f_row6_col17\" class=\"data row6 col17\" >252</td>\n",
       "      <td id=\"T_7898f_row6_col18\" class=\"data row6 col18\" >252</td>\n",
       "      <td id=\"T_7898f_row6_col19\" class=\"data row6 col19\" >215</td>\n",
       "      <td id=\"T_7898f_row6_col20\" class=\"data row6 col20\" >34</td>\n",
       "      <td id=\"T_7898f_row6_col21\" class=\"data row6 col21\" >0</td>\n",
       "      <td id=\"T_7898f_row6_col22\" class=\"data row6 col22\" >0</td>\n",
       "      <td id=\"T_7898f_row6_col23\" class=\"data row6 col23\" >0</td>\n",
       "      <td id=\"T_7898f_row6_col24\" class=\"data row6 col24\" >0</td>\n",
       "      <td id=\"T_7898f_row6_col25\" class=\"data row6 col25\" >0</td>\n",
       "      <td id=\"T_7898f_row6_col26\" class=\"data row6 col26\" >0</td>\n",
       "      <td id=\"T_7898f_row6_col27\" class=\"data row6 col27\" >0</td>\n",
       "    </tr>\n",
       "    <tr>\n",
       "      <th id=\"T_7898f_level0_row7\" class=\"row_heading level0 row7\" >7</th>\n",
       "      <td id=\"T_7898f_row7_col0\" class=\"data row7 col0\" >0</td>\n",
       "      <td id=\"T_7898f_row7_col1\" class=\"data row7 col1\" >0</td>\n",
       "      <td id=\"T_7898f_row7_col2\" class=\"data row7 col2\" >0</td>\n",
       "      <td id=\"T_7898f_row7_col3\" class=\"data row7 col3\" >0</td>\n",
       "      <td id=\"T_7898f_row7_col4\" class=\"data row7 col4\" >0</td>\n",
       "      <td id=\"T_7898f_row7_col5\" class=\"data row7 col5\" >0</td>\n",
       "      <td id=\"T_7898f_row7_col6\" class=\"data row7 col6\" >0</td>\n",
       "      <td id=\"T_7898f_row7_col7\" class=\"data row7 col7\" >0</td>\n",
       "      <td id=\"T_7898f_row7_col8\" class=\"data row7 col8\" >0</td>\n",
       "      <td id=\"T_7898f_row7_col9\" class=\"data row7 col9\" >186</td>\n",
       "      <td id=\"T_7898f_row7_col10\" class=\"data row7 col10\" >252</td>\n",
       "      <td id=\"T_7898f_row7_col11\" class=\"data row7 col11\" >252</td>\n",
       "      <td id=\"T_7898f_row7_col12\" class=\"data row7 col12\" >252</td>\n",
       "      <td id=\"T_7898f_row7_col13\" class=\"data row7 col13\" >252</td>\n",
       "      <td id=\"T_7898f_row7_col14\" class=\"data row7 col14\" >253</td>\n",
       "      <td id=\"T_7898f_row7_col15\" class=\"data row7 col15\" >252</td>\n",
       "      <td id=\"T_7898f_row7_col16\" class=\"data row7 col16\" >252</td>\n",
       "      <td id=\"T_7898f_row7_col17\" class=\"data row7 col17\" >252</td>\n",
       "      <td id=\"T_7898f_row7_col18\" class=\"data row7 col18\" >252</td>\n",
       "      <td id=\"T_7898f_row7_col19\" class=\"data row7 col19\" >252</td>\n",
       "      <td id=\"T_7898f_row7_col20\" class=\"data row7 col20\" >79</td>\n",
       "      <td id=\"T_7898f_row7_col21\" class=\"data row7 col21\" >0</td>\n",
       "      <td id=\"T_7898f_row7_col22\" class=\"data row7 col22\" >0</td>\n",
       "      <td id=\"T_7898f_row7_col23\" class=\"data row7 col23\" >0</td>\n",
       "      <td id=\"T_7898f_row7_col24\" class=\"data row7 col24\" >0</td>\n",
       "      <td id=\"T_7898f_row7_col25\" class=\"data row7 col25\" >0</td>\n",
       "      <td id=\"T_7898f_row7_col26\" class=\"data row7 col26\" >0</td>\n",
       "      <td id=\"T_7898f_row7_col27\" class=\"data row7 col27\" >0</td>\n",
       "    </tr>\n",
       "    <tr>\n",
       "      <th id=\"T_7898f_level0_row8\" class=\"row_heading level0 row8\" >8</th>\n",
       "      <td id=\"T_7898f_row8_col0\" class=\"data row8 col0\" >0</td>\n",
       "      <td id=\"T_7898f_row8_col1\" class=\"data row8 col1\" >0</td>\n",
       "      <td id=\"T_7898f_row8_col2\" class=\"data row8 col2\" >0</td>\n",
       "      <td id=\"T_7898f_row8_col3\" class=\"data row8 col3\" >0</td>\n",
       "      <td id=\"T_7898f_row8_col4\" class=\"data row8 col4\" >0</td>\n",
       "      <td id=\"T_7898f_row8_col5\" class=\"data row8 col5\" >0</td>\n",
       "      <td id=\"T_7898f_row8_col6\" class=\"data row8 col6\" >0</td>\n",
       "      <td id=\"T_7898f_row8_col7\" class=\"data row8 col7\" >0</td>\n",
       "      <td id=\"T_7898f_row8_col8\" class=\"data row8 col8\" >0</td>\n",
       "      <td id=\"T_7898f_row8_col9\" class=\"data row8 col9\" >186</td>\n",
       "      <td id=\"T_7898f_row8_col10\" class=\"data row8 col10\" >252</td>\n",
       "      <td id=\"T_7898f_row8_col11\" class=\"data row8 col11\" >243</td>\n",
       "      <td id=\"T_7898f_row8_col12\" class=\"data row8 col12\" >172</td>\n",
       "      <td id=\"T_7898f_row8_col13\" class=\"data row8 col13\" >172</td>\n",
       "      <td id=\"T_7898f_row8_col14\" class=\"data row8 col14\" >39</td>\n",
       "      <td id=\"T_7898f_row8_col15\" class=\"data row8 col15\" >39</td>\n",
       "      <td id=\"T_7898f_row8_col16\" class=\"data row8 col16\" >39</td>\n",
       "      <td id=\"T_7898f_row8_col17\" class=\"data row8 col17\" >219</td>\n",
       "      <td id=\"T_7898f_row8_col18\" class=\"data row8 col18\" >252</td>\n",
       "      <td id=\"T_7898f_row8_col19\" class=\"data row8 col19\" >252</td>\n",
       "      <td id=\"T_7898f_row8_col20\" class=\"data row8 col20\" >79</td>\n",
       "      <td id=\"T_7898f_row8_col21\" class=\"data row8 col21\" >0</td>\n",
       "      <td id=\"T_7898f_row8_col22\" class=\"data row8 col22\" >0</td>\n",
       "      <td id=\"T_7898f_row8_col23\" class=\"data row8 col23\" >0</td>\n",
       "      <td id=\"T_7898f_row8_col24\" class=\"data row8 col24\" >0</td>\n",
       "      <td id=\"T_7898f_row8_col25\" class=\"data row8 col25\" >0</td>\n",
       "      <td id=\"T_7898f_row8_col26\" class=\"data row8 col26\" >0</td>\n",
       "      <td id=\"T_7898f_row8_col27\" class=\"data row8 col27\" >0</td>\n",
       "    </tr>\n",
       "    <tr>\n",
       "      <th id=\"T_7898f_level0_row9\" class=\"row_heading level0 row9\" >9</th>\n",
       "      <td id=\"T_7898f_row9_col0\" class=\"data row9 col0\" >0</td>\n",
       "      <td id=\"T_7898f_row9_col1\" class=\"data row9 col1\" >0</td>\n",
       "      <td id=\"T_7898f_row9_col2\" class=\"data row9 col2\" >0</td>\n",
       "      <td id=\"T_7898f_row9_col3\" class=\"data row9 col3\" >0</td>\n",
       "      <td id=\"T_7898f_row9_col4\" class=\"data row9 col4\" >0</td>\n",
       "      <td id=\"T_7898f_row9_col5\" class=\"data row9 col5\" >0</td>\n",
       "      <td id=\"T_7898f_row9_col6\" class=\"data row9 col6\" >0</td>\n",
       "      <td id=\"T_7898f_row9_col7\" class=\"data row9 col7\" >0</td>\n",
       "      <td id=\"T_7898f_row9_col8\" class=\"data row9 col8\" >0</td>\n",
       "      <td id=\"T_7898f_row9_col9\" class=\"data row9 col9\" >39</td>\n",
       "      <td id=\"T_7898f_row9_col10\" class=\"data row9 col10\" >53</td>\n",
       "      <td id=\"T_7898f_row9_col11\" class=\"data row9 col11\" >47</td>\n",
       "      <td id=\"T_7898f_row9_col12\" class=\"data row9 col12\" >0</td>\n",
       "      <td id=\"T_7898f_row9_col13\" class=\"data row9 col13\" >0</td>\n",
       "      <td id=\"T_7898f_row9_col14\" class=\"data row9 col14\" >0</td>\n",
       "      <td id=\"T_7898f_row9_col15\" class=\"data row9 col15\" >29</td>\n",
       "      <td id=\"T_7898f_row9_col16\" class=\"data row9 col16\" >117</td>\n",
       "      <td id=\"T_7898f_row9_col17\" class=\"data row9 col17\" >244</td>\n",
       "      <td id=\"T_7898f_row9_col18\" class=\"data row9 col18\" >252</td>\n",
       "      <td id=\"T_7898f_row9_col19\" class=\"data row9 col19\" >252</td>\n",
       "      <td id=\"T_7898f_row9_col20\" class=\"data row9 col20\" >79</td>\n",
       "      <td id=\"T_7898f_row9_col21\" class=\"data row9 col21\" >0</td>\n",
       "      <td id=\"T_7898f_row9_col22\" class=\"data row9 col22\" >0</td>\n",
       "      <td id=\"T_7898f_row9_col23\" class=\"data row9 col23\" >0</td>\n",
       "      <td id=\"T_7898f_row9_col24\" class=\"data row9 col24\" >0</td>\n",
       "      <td id=\"T_7898f_row9_col25\" class=\"data row9 col25\" >0</td>\n",
       "      <td id=\"T_7898f_row9_col26\" class=\"data row9 col26\" >0</td>\n",
       "      <td id=\"T_7898f_row9_col27\" class=\"data row9 col27\" >0</td>\n",
       "    </tr>\n",
       "    <tr>\n",
       "      <th id=\"T_7898f_level0_row10\" class=\"row_heading level0 row10\" >10</th>\n",
       "      <td id=\"T_7898f_row10_col0\" class=\"data row10 col0\" >0</td>\n",
       "      <td id=\"T_7898f_row10_col1\" class=\"data row10 col1\" >0</td>\n",
       "      <td id=\"T_7898f_row10_col2\" class=\"data row10 col2\" >0</td>\n",
       "      <td id=\"T_7898f_row10_col3\" class=\"data row10 col3\" >0</td>\n",
       "      <td id=\"T_7898f_row10_col4\" class=\"data row10 col4\" >0</td>\n",
       "      <td id=\"T_7898f_row10_col5\" class=\"data row10 col5\" >0</td>\n",
       "      <td id=\"T_7898f_row10_col6\" class=\"data row10 col6\" >0</td>\n",
       "      <td id=\"T_7898f_row10_col7\" class=\"data row10 col7\" >0</td>\n",
       "      <td id=\"T_7898f_row10_col8\" class=\"data row10 col8\" >0</td>\n",
       "      <td id=\"T_7898f_row10_col9\" class=\"data row10 col9\" >0</td>\n",
       "      <td id=\"T_7898f_row10_col10\" class=\"data row10 col10\" >0</td>\n",
       "      <td id=\"T_7898f_row10_col11\" class=\"data row10 col11\" >0</td>\n",
       "      <td id=\"T_7898f_row10_col12\" class=\"data row10 col12\" >0</td>\n",
       "      <td id=\"T_7898f_row10_col13\" class=\"data row10 col13\" >0</td>\n",
       "      <td id=\"T_7898f_row10_col14\" class=\"data row10 col14\" >54</td>\n",
       "      <td id=\"T_7898f_row10_col15\" class=\"data row10 col15\" >208</td>\n",
       "      <td id=\"T_7898f_row10_col16\" class=\"data row10 col16\" >252</td>\n",
       "      <td id=\"T_7898f_row10_col17\" class=\"data row10 col17\" >252</td>\n",
       "      <td id=\"T_7898f_row10_col18\" class=\"data row10 col18\" >252</td>\n",
       "      <td id=\"T_7898f_row10_col19\" class=\"data row10 col19\" >184</td>\n",
       "      <td id=\"T_7898f_row10_col20\" class=\"data row10 col20\" >21</td>\n",
       "      <td id=\"T_7898f_row10_col21\" class=\"data row10 col21\" >0</td>\n",
       "      <td id=\"T_7898f_row10_col22\" class=\"data row10 col22\" >0</td>\n",
       "      <td id=\"T_7898f_row10_col23\" class=\"data row10 col23\" >0</td>\n",
       "      <td id=\"T_7898f_row10_col24\" class=\"data row10 col24\" >0</td>\n",
       "      <td id=\"T_7898f_row10_col25\" class=\"data row10 col25\" >0</td>\n",
       "      <td id=\"T_7898f_row10_col26\" class=\"data row10 col26\" >0</td>\n",
       "      <td id=\"T_7898f_row10_col27\" class=\"data row10 col27\" >0</td>\n",
       "    </tr>\n",
       "    <tr>\n",
       "      <th id=\"T_7898f_level0_row11\" class=\"row_heading level0 row11\" >11</th>\n",
       "      <td id=\"T_7898f_row11_col0\" class=\"data row11 col0\" >0</td>\n",
       "      <td id=\"T_7898f_row11_col1\" class=\"data row11 col1\" >0</td>\n",
       "      <td id=\"T_7898f_row11_col2\" class=\"data row11 col2\" >0</td>\n",
       "      <td id=\"T_7898f_row11_col3\" class=\"data row11 col3\" >0</td>\n",
       "      <td id=\"T_7898f_row11_col4\" class=\"data row11 col4\" >0</td>\n",
       "      <td id=\"T_7898f_row11_col5\" class=\"data row11 col5\" >0</td>\n",
       "      <td id=\"T_7898f_row11_col6\" class=\"data row11 col6\" >0</td>\n",
       "      <td id=\"T_7898f_row11_col7\" class=\"data row11 col7\" >0</td>\n",
       "      <td id=\"T_7898f_row11_col8\" class=\"data row11 col8\" >0</td>\n",
       "      <td id=\"T_7898f_row11_col9\" class=\"data row11 col9\" >0</td>\n",
       "      <td id=\"T_7898f_row11_col10\" class=\"data row11 col10\" >0</td>\n",
       "      <td id=\"T_7898f_row11_col11\" class=\"data row11 col11\" >0</td>\n",
       "      <td id=\"T_7898f_row11_col12\" class=\"data row11 col12\" >3</td>\n",
       "      <td id=\"T_7898f_row11_col13\" class=\"data row11 col13\" >41</td>\n",
       "      <td id=\"T_7898f_row11_col14\" class=\"data row11 col14\" >253</td>\n",
       "      <td id=\"T_7898f_row11_col15\" class=\"data row11 col15\" >252</td>\n",
       "      <td id=\"T_7898f_row11_col16\" class=\"data row11 col16\" >252</td>\n",
       "      <td id=\"T_7898f_row11_col17\" class=\"data row11 col17\" >252</td>\n",
       "      <td id=\"T_7898f_row11_col18\" class=\"data row11 col18\" >206</td>\n",
       "      <td id=\"T_7898f_row11_col19\" class=\"data row11 col19\" >21</td>\n",
       "      <td id=\"T_7898f_row11_col20\" class=\"data row11 col20\" >0</td>\n",
       "      <td id=\"T_7898f_row11_col21\" class=\"data row11 col21\" >0</td>\n",
       "      <td id=\"T_7898f_row11_col22\" class=\"data row11 col22\" >0</td>\n",
       "      <td id=\"T_7898f_row11_col23\" class=\"data row11 col23\" >0</td>\n",
       "      <td id=\"T_7898f_row11_col24\" class=\"data row11 col24\" >0</td>\n",
       "      <td id=\"T_7898f_row11_col25\" class=\"data row11 col25\" >0</td>\n",
       "      <td id=\"T_7898f_row11_col26\" class=\"data row11 col26\" >0</td>\n",
       "      <td id=\"T_7898f_row11_col27\" class=\"data row11 col27\" >0</td>\n",
       "    </tr>\n",
       "    <tr>\n",
       "      <th id=\"T_7898f_level0_row12\" class=\"row_heading level0 row12\" >12</th>\n",
       "      <td id=\"T_7898f_row12_col0\" class=\"data row12 col0\" >0</td>\n",
       "      <td id=\"T_7898f_row12_col1\" class=\"data row12 col1\" >0</td>\n",
       "      <td id=\"T_7898f_row12_col2\" class=\"data row12 col2\" >0</td>\n",
       "      <td id=\"T_7898f_row12_col3\" class=\"data row12 col3\" >0</td>\n",
       "      <td id=\"T_7898f_row12_col4\" class=\"data row12 col4\" >0</td>\n",
       "      <td id=\"T_7898f_row12_col5\" class=\"data row12 col5\" >0</td>\n",
       "      <td id=\"T_7898f_row12_col6\" class=\"data row12 col6\" >0</td>\n",
       "      <td id=\"T_7898f_row12_col7\" class=\"data row12 col7\" >0</td>\n",
       "      <td id=\"T_7898f_row12_col8\" class=\"data row12 col8\" >0</td>\n",
       "      <td id=\"T_7898f_row12_col9\" class=\"data row12 col9\" >0</td>\n",
       "      <td id=\"T_7898f_row12_col10\" class=\"data row12 col10\" >5</td>\n",
       "      <td id=\"T_7898f_row12_col11\" class=\"data row12 col11\" >41</td>\n",
       "      <td id=\"T_7898f_row12_col12\" class=\"data row12 col12\" >165</td>\n",
       "      <td id=\"T_7898f_row12_col13\" class=\"data row12 col13\" >252</td>\n",
       "      <td id=\"T_7898f_row12_col14\" class=\"data row12 col14\" >253</td>\n",
       "      <td id=\"T_7898f_row12_col15\" class=\"data row12 col15\" >252</td>\n",
       "      <td id=\"T_7898f_row12_col16\" class=\"data row12 col16\" >252</td>\n",
       "      <td id=\"T_7898f_row12_col17\" class=\"data row12 col17\" >252</td>\n",
       "      <td id=\"T_7898f_row12_col18\" class=\"data row12 col18\" >227</td>\n",
       "      <td id=\"T_7898f_row12_col19\" class=\"data row12 col19\" >131</td>\n",
       "      <td id=\"T_7898f_row12_col20\" class=\"data row12 col20\" >9</td>\n",
       "      <td id=\"T_7898f_row12_col21\" class=\"data row12 col21\" >0</td>\n",
       "      <td id=\"T_7898f_row12_col22\" class=\"data row12 col22\" >0</td>\n",
       "      <td id=\"T_7898f_row12_col23\" class=\"data row12 col23\" >0</td>\n",
       "      <td id=\"T_7898f_row12_col24\" class=\"data row12 col24\" >0</td>\n",
       "      <td id=\"T_7898f_row12_col25\" class=\"data row12 col25\" >0</td>\n",
       "      <td id=\"T_7898f_row12_col26\" class=\"data row12 col26\" >0</td>\n",
       "      <td id=\"T_7898f_row12_col27\" class=\"data row12 col27\" >0</td>\n",
       "    </tr>\n",
       "    <tr>\n",
       "      <th id=\"T_7898f_level0_row13\" class=\"row_heading level0 row13\" >13</th>\n",
       "      <td id=\"T_7898f_row13_col0\" class=\"data row13 col0\" >0</td>\n",
       "      <td id=\"T_7898f_row13_col1\" class=\"data row13 col1\" >0</td>\n",
       "      <td id=\"T_7898f_row13_col2\" class=\"data row13 col2\" >0</td>\n",
       "      <td id=\"T_7898f_row13_col3\" class=\"data row13 col3\" >0</td>\n",
       "      <td id=\"T_7898f_row13_col4\" class=\"data row13 col4\" >0</td>\n",
       "      <td id=\"T_7898f_row13_col5\" class=\"data row13 col5\" >0</td>\n",
       "      <td id=\"T_7898f_row13_col6\" class=\"data row13 col6\" >0</td>\n",
       "      <td id=\"T_7898f_row13_col7\" class=\"data row13 col7\" >0</td>\n",
       "      <td id=\"T_7898f_row13_col8\" class=\"data row13 col8\" >0</td>\n",
       "      <td id=\"T_7898f_row13_col9\" class=\"data row13 col9\" >109</td>\n",
       "      <td id=\"T_7898f_row13_col10\" class=\"data row13 col10\" >163</td>\n",
       "      <td id=\"T_7898f_row13_col11\" class=\"data row13 col11\" >252</td>\n",
       "      <td id=\"T_7898f_row13_col12\" class=\"data row13 col12\" >252</td>\n",
       "      <td id=\"T_7898f_row13_col13\" class=\"data row13 col13\" >252</td>\n",
       "      <td id=\"T_7898f_row13_col14\" class=\"data row13 col14\" >253</td>\n",
       "      <td id=\"T_7898f_row13_col15\" class=\"data row13 col15\" >252</td>\n",
       "      <td id=\"T_7898f_row13_col16\" class=\"data row13 col16\" >252</td>\n",
       "      <td id=\"T_7898f_row13_col17\" class=\"data row13 col17\" >252</td>\n",
       "      <td id=\"T_7898f_row13_col18\" class=\"data row13 col18\" >252</td>\n",
       "      <td id=\"T_7898f_row13_col19\" class=\"data row13 col19\" >252</td>\n",
       "      <td id=\"T_7898f_row13_col20\" class=\"data row13 col20\" >156</td>\n",
       "      <td id=\"T_7898f_row13_col21\" class=\"data row13 col21\" >0</td>\n",
       "      <td id=\"T_7898f_row13_col22\" class=\"data row13 col22\" >0</td>\n",
       "      <td id=\"T_7898f_row13_col23\" class=\"data row13 col23\" >0</td>\n",
       "      <td id=\"T_7898f_row13_col24\" class=\"data row13 col24\" >0</td>\n",
       "      <td id=\"T_7898f_row13_col25\" class=\"data row13 col25\" >0</td>\n",
       "      <td id=\"T_7898f_row13_col26\" class=\"data row13 col26\" >0</td>\n",
       "      <td id=\"T_7898f_row13_col27\" class=\"data row13 col27\" >0</td>\n",
       "    </tr>\n",
       "    <tr>\n",
       "      <th id=\"T_7898f_level0_row14\" class=\"row_heading level0 row14\" >14</th>\n",
       "      <td id=\"T_7898f_row14_col0\" class=\"data row14 col0\" >0</td>\n",
       "      <td id=\"T_7898f_row14_col1\" class=\"data row14 col1\" >0</td>\n",
       "      <td id=\"T_7898f_row14_col2\" class=\"data row14 col2\" >0</td>\n",
       "      <td id=\"T_7898f_row14_col3\" class=\"data row14 col3\" >0</td>\n",
       "      <td id=\"T_7898f_row14_col4\" class=\"data row14 col4\" >0</td>\n",
       "      <td id=\"T_7898f_row14_col5\" class=\"data row14 col5\" >0</td>\n",
       "      <td id=\"T_7898f_row14_col6\" class=\"data row14 col6\" >0</td>\n",
       "      <td id=\"T_7898f_row14_col7\" class=\"data row14 col7\" >0</td>\n",
       "      <td id=\"T_7898f_row14_col8\" class=\"data row14 col8\" >0</td>\n",
       "      <td id=\"T_7898f_row14_col9\" class=\"data row14 col9\" >186</td>\n",
       "      <td id=\"T_7898f_row14_col10\" class=\"data row14 col10\" >252</td>\n",
       "      <td id=\"T_7898f_row14_col11\" class=\"data row14 col11\" >252</td>\n",
       "      <td id=\"T_7898f_row14_col12\" class=\"data row14 col12\" >252</td>\n",
       "      <td id=\"T_7898f_row14_col13\" class=\"data row14 col13\" >252</td>\n",
       "      <td id=\"T_7898f_row14_col14\" class=\"data row14 col14\" >253</td>\n",
       "      <td id=\"T_7898f_row14_col15\" class=\"data row14 col15\" >252</td>\n",
       "      <td id=\"T_7898f_row14_col16\" class=\"data row14 col16\" >252</td>\n",
       "      <td id=\"T_7898f_row14_col17\" class=\"data row14 col17\" >139</td>\n",
       "      <td id=\"T_7898f_row14_col18\" class=\"data row14 col18\" >224</td>\n",
       "      <td id=\"T_7898f_row14_col19\" class=\"data row14 col19\" >252</td>\n",
       "      <td id=\"T_7898f_row14_col20\" class=\"data row14 col20\" >233</td>\n",
       "      <td id=\"T_7898f_row14_col21\" class=\"data row14 col21\" >49</td>\n",
       "      <td id=\"T_7898f_row14_col22\" class=\"data row14 col22\" >0</td>\n",
       "      <td id=\"T_7898f_row14_col23\" class=\"data row14 col23\" >0</td>\n",
       "      <td id=\"T_7898f_row14_col24\" class=\"data row14 col24\" >0</td>\n",
       "      <td id=\"T_7898f_row14_col25\" class=\"data row14 col25\" >0</td>\n",
       "      <td id=\"T_7898f_row14_col26\" class=\"data row14 col26\" >0</td>\n",
       "      <td id=\"T_7898f_row14_col27\" class=\"data row14 col27\" >0</td>\n",
       "    </tr>\n",
       "    <tr>\n",
       "      <th id=\"T_7898f_level0_row15\" class=\"row_heading level0 row15\" >15</th>\n",
       "      <td id=\"T_7898f_row15_col0\" class=\"data row15 col0\" >0</td>\n",
       "      <td id=\"T_7898f_row15_col1\" class=\"data row15 col1\" >0</td>\n",
       "      <td id=\"T_7898f_row15_col2\" class=\"data row15 col2\" >0</td>\n",
       "      <td id=\"T_7898f_row15_col3\" class=\"data row15 col3\" >0</td>\n",
       "      <td id=\"T_7898f_row15_col4\" class=\"data row15 col4\" >0</td>\n",
       "      <td id=\"T_7898f_row15_col5\" class=\"data row15 col5\" >0</td>\n",
       "      <td id=\"T_7898f_row15_col6\" class=\"data row15 col6\" >0</td>\n",
       "      <td id=\"T_7898f_row15_col7\" class=\"data row15 col7\" >0</td>\n",
       "      <td id=\"T_7898f_row15_col8\" class=\"data row15 col8\" >0</td>\n",
       "      <td id=\"T_7898f_row15_col9\" class=\"data row15 col9\" >187</td>\n",
       "      <td id=\"T_7898f_row15_col10\" class=\"data row15 col10\" >253</td>\n",
       "      <td id=\"T_7898f_row15_col11\" class=\"data row15 col11\" >253</td>\n",
       "      <td id=\"T_7898f_row15_col12\" class=\"data row15 col12\" >253</td>\n",
       "      <td id=\"T_7898f_row15_col13\" class=\"data row15 col13\" >253</td>\n",
       "      <td id=\"T_7898f_row15_col14\" class=\"data row15 col14\" >134</td>\n",
       "      <td id=\"T_7898f_row15_col15\" class=\"data row15 col15\" >77</td>\n",
       "      <td id=\"T_7898f_row15_col16\" class=\"data row15 col16\" >0</td>\n",
       "      <td id=\"T_7898f_row15_col17\" class=\"data row15 col17\" >0</td>\n",
       "      <td id=\"T_7898f_row15_col18\" class=\"data row15 col18\" >130</td>\n",
       "      <td id=\"T_7898f_row15_col19\" class=\"data row15 col19\" >253</td>\n",
       "      <td id=\"T_7898f_row15_col20\" class=\"data row15 col20\" >253</td>\n",
       "      <td id=\"T_7898f_row15_col21\" class=\"data row15 col21\" >93</td>\n",
       "      <td id=\"T_7898f_row15_col22\" class=\"data row15 col22\" >0</td>\n",
       "      <td id=\"T_7898f_row15_col23\" class=\"data row15 col23\" >0</td>\n",
       "      <td id=\"T_7898f_row15_col24\" class=\"data row15 col24\" >0</td>\n",
       "      <td id=\"T_7898f_row15_col25\" class=\"data row15 col25\" >0</td>\n",
       "      <td id=\"T_7898f_row15_col26\" class=\"data row15 col26\" >0</td>\n",
       "      <td id=\"T_7898f_row15_col27\" class=\"data row15 col27\" >0</td>\n",
       "    </tr>\n",
       "    <tr>\n",
       "      <th id=\"T_7898f_level0_row16\" class=\"row_heading level0 row16\" >16</th>\n",
       "      <td id=\"T_7898f_row16_col0\" class=\"data row16 col0\" >0</td>\n",
       "      <td id=\"T_7898f_row16_col1\" class=\"data row16 col1\" >0</td>\n",
       "      <td id=\"T_7898f_row16_col2\" class=\"data row16 col2\" >0</td>\n",
       "      <td id=\"T_7898f_row16_col3\" class=\"data row16 col3\" >0</td>\n",
       "      <td id=\"T_7898f_row16_col4\" class=\"data row16 col4\" >0</td>\n",
       "      <td id=\"T_7898f_row16_col5\" class=\"data row16 col5\" >0</td>\n",
       "      <td id=\"T_7898f_row16_col6\" class=\"data row16 col6\" >0</td>\n",
       "      <td id=\"T_7898f_row16_col7\" class=\"data row16 col7\" >0</td>\n",
       "      <td id=\"T_7898f_row16_col8\" class=\"data row16 col8\" >0</td>\n",
       "      <td id=\"T_7898f_row16_col9\" class=\"data row16 col9\" >108</td>\n",
       "      <td id=\"T_7898f_row16_col10\" class=\"data row16 col10\" >162</td>\n",
       "      <td id=\"T_7898f_row16_col11\" class=\"data row16 col11\" >184</td>\n",
       "      <td id=\"T_7898f_row16_col12\" class=\"data row16 col12\" >68</td>\n",
       "      <td id=\"T_7898f_row16_col13\" class=\"data row16 col13\" >13</td>\n",
       "      <td id=\"T_7898f_row16_col14\" class=\"data row16 col14\" >0</td>\n",
       "      <td id=\"T_7898f_row16_col15\" class=\"data row16 col15\" >0</td>\n",
       "      <td id=\"T_7898f_row16_col16\" class=\"data row16 col16\" >0</td>\n",
       "      <td id=\"T_7898f_row16_col17\" class=\"data row16 col17\" >34</td>\n",
       "      <td id=\"T_7898f_row16_col18\" class=\"data row16 col18\" >222</td>\n",
       "      <td id=\"T_7898f_row16_col19\" class=\"data row16 col19\" >252</td>\n",
       "      <td id=\"T_7898f_row16_col20\" class=\"data row16 col20\" >252</td>\n",
       "      <td id=\"T_7898f_row16_col21\" class=\"data row16 col21\" >93</td>\n",
       "      <td id=\"T_7898f_row16_col22\" class=\"data row16 col22\" >0</td>\n",
       "      <td id=\"T_7898f_row16_col23\" class=\"data row16 col23\" >0</td>\n",
       "      <td id=\"T_7898f_row16_col24\" class=\"data row16 col24\" >0</td>\n",
       "      <td id=\"T_7898f_row16_col25\" class=\"data row16 col25\" >0</td>\n",
       "      <td id=\"T_7898f_row16_col26\" class=\"data row16 col26\" >0</td>\n",
       "      <td id=\"T_7898f_row16_col27\" class=\"data row16 col27\" >0</td>\n",
       "    </tr>\n",
       "    <tr>\n",
       "      <th id=\"T_7898f_level0_row17\" class=\"row_heading level0 row17\" >17</th>\n",
       "      <td id=\"T_7898f_row17_col0\" class=\"data row17 col0\" >0</td>\n",
       "      <td id=\"T_7898f_row17_col1\" class=\"data row17 col1\" >0</td>\n",
       "      <td id=\"T_7898f_row17_col2\" class=\"data row17 col2\" >0</td>\n",
       "      <td id=\"T_7898f_row17_col3\" class=\"data row17 col3\" >0</td>\n",
       "      <td id=\"T_7898f_row17_col4\" class=\"data row17 col4\" >0</td>\n",
       "      <td id=\"T_7898f_row17_col5\" class=\"data row17 col5\" >0</td>\n",
       "      <td id=\"T_7898f_row17_col6\" class=\"data row17 col6\" >0</td>\n",
       "      <td id=\"T_7898f_row17_col7\" class=\"data row17 col7\" >0</td>\n",
       "      <td id=\"T_7898f_row17_col8\" class=\"data row17 col8\" >0</td>\n",
       "      <td id=\"T_7898f_row17_col9\" class=\"data row17 col9\" >0</td>\n",
       "      <td id=\"T_7898f_row17_col10\" class=\"data row17 col10\" >5</td>\n",
       "      <td id=\"T_7898f_row17_col11\" class=\"data row17 col11\" >10</td>\n",
       "      <td id=\"T_7898f_row17_col12\" class=\"data row17 col12\" >0</td>\n",
       "      <td id=\"T_7898f_row17_col13\" class=\"data row17 col13\" >0</td>\n",
       "      <td id=\"T_7898f_row17_col14\" class=\"data row17 col14\" >0</td>\n",
       "      <td id=\"T_7898f_row17_col15\" class=\"data row17 col15\" >0</td>\n",
       "      <td id=\"T_7898f_row17_col16\" class=\"data row17 col16\" >0</td>\n",
       "      <td id=\"T_7898f_row17_col17\" class=\"data row17 col17\" >200</td>\n",
       "      <td id=\"T_7898f_row17_col18\" class=\"data row17 col18\" >252</td>\n",
       "      <td id=\"T_7898f_row17_col19\" class=\"data row17 col19\" >252</td>\n",
       "      <td id=\"T_7898f_row17_col20\" class=\"data row17 col20\" >166</td>\n",
       "      <td id=\"T_7898f_row17_col21\" class=\"data row17 col21\" >10</td>\n",
       "      <td id=\"T_7898f_row17_col22\" class=\"data row17 col22\" >0</td>\n",
       "      <td id=\"T_7898f_row17_col23\" class=\"data row17 col23\" >0</td>\n",
       "      <td id=\"T_7898f_row17_col24\" class=\"data row17 col24\" >0</td>\n",
       "      <td id=\"T_7898f_row17_col25\" class=\"data row17 col25\" >0</td>\n",
       "      <td id=\"T_7898f_row17_col26\" class=\"data row17 col26\" >0</td>\n",
       "      <td id=\"T_7898f_row17_col27\" class=\"data row17 col27\" >0</td>\n",
       "    </tr>\n",
       "    <tr>\n",
       "      <th id=\"T_7898f_level0_row18\" class=\"row_heading level0 row18\" >18</th>\n",
       "      <td id=\"T_7898f_row18_col0\" class=\"data row18 col0\" >0</td>\n",
       "      <td id=\"T_7898f_row18_col1\" class=\"data row18 col1\" >0</td>\n",
       "      <td id=\"T_7898f_row18_col2\" class=\"data row18 col2\" >0</td>\n",
       "      <td id=\"T_7898f_row18_col3\" class=\"data row18 col3\" >0</td>\n",
       "      <td id=\"T_7898f_row18_col4\" class=\"data row18 col4\" >0</td>\n",
       "      <td id=\"T_7898f_row18_col5\" class=\"data row18 col5\" >0</td>\n",
       "      <td id=\"T_7898f_row18_col6\" class=\"data row18 col6\" >0</td>\n",
       "      <td id=\"T_7898f_row18_col7\" class=\"data row18 col7\" >0</td>\n",
       "      <td id=\"T_7898f_row18_col8\" class=\"data row18 col8\" >0</td>\n",
       "      <td id=\"T_7898f_row18_col9\" class=\"data row18 col9\" >0</td>\n",
       "      <td id=\"T_7898f_row18_col10\" class=\"data row18 col10\" >0</td>\n",
       "      <td id=\"T_7898f_row18_col11\" class=\"data row18 col11\" >0</td>\n",
       "      <td id=\"T_7898f_row18_col12\" class=\"data row18 col12\" >0</td>\n",
       "      <td id=\"T_7898f_row18_col13\" class=\"data row18 col13\" >0</td>\n",
       "      <td id=\"T_7898f_row18_col14\" class=\"data row18 col14\" >0</td>\n",
       "      <td id=\"T_7898f_row18_col15\" class=\"data row18 col15\" >34</td>\n",
       "      <td id=\"T_7898f_row18_col16\" class=\"data row18 col16\" >200</td>\n",
       "      <td id=\"T_7898f_row18_col17\" class=\"data row18 col17\" >246</td>\n",
       "      <td id=\"T_7898f_row18_col18\" class=\"data row18 col18\" >252</td>\n",
       "      <td id=\"T_7898f_row18_col19\" class=\"data row18 col19\" >235</td>\n",
       "      <td id=\"T_7898f_row18_col20\" class=\"data row18 col20\" >54</td>\n",
       "      <td id=\"T_7898f_row18_col21\" class=\"data row18 col21\" >0</td>\n",
       "      <td id=\"T_7898f_row18_col22\" class=\"data row18 col22\" >0</td>\n",
       "      <td id=\"T_7898f_row18_col23\" class=\"data row18 col23\" >0</td>\n",
       "      <td id=\"T_7898f_row18_col24\" class=\"data row18 col24\" >0</td>\n",
       "      <td id=\"T_7898f_row18_col25\" class=\"data row18 col25\" >0</td>\n",
       "      <td id=\"T_7898f_row18_col26\" class=\"data row18 col26\" >0</td>\n",
       "      <td id=\"T_7898f_row18_col27\" class=\"data row18 col27\" >0</td>\n",
       "    </tr>\n",
       "    <tr>\n",
       "      <th id=\"T_7898f_level0_row19\" class=\"row_heading level0 row19\" >19</th>\n",
       "      <td id=\"T_7898f_row19_col0\" class=\"data row19 col0\" >0</td>\n",
       "      <td id=\"T_7898f_row19_col1\" class=\"data row19 col1\" >0</td>\n",
       "      <td id=\"T_7898f_row19_col2\" class=\"data row19 col2\" >0</td>\n",
       "      <td id=\"T_7898f_row19_col3\" class=\"data row19 col3\" >0</td>\n",
       "      <td id=\"T_7898f_row19_col4\" class=\"data row19 col4\" >0</td>\n",
       "      <td id=\"T_7898f_row19_col5\" class=\"data row19 col5\" >0</td>\n",
       "      <td id=\"T_7898f_row19_col6\" class=\"data row19 col6\" >0</td>\n",
       "      <td id=\"T_7898f_row19_col7\" class=\"data row19 col7\" >0</td>\n",
       "      <td id=\"T_7898f_row19_col8\" class=\"data row19 col8\" >0</td>\n",
       "      <td id=\"T_7898f_row19_col9\" class=\"data row19 col9\" >0</td>\n",
       "      <td id=\"T_7898f_row19_col10\" class=\"data row19 col10\" >0</td>\n",
       "      <td id=\"T_7898f_row19_col11\" class=\"data row19 col11\" >0</td>\n",
       "      <td id=\"T_7898f_row19_col12\" class=\"data row19 col12\" >0</td>\n",
       "      <td id=\"T_7898f_row19_col13\" class=\"data row19 col13\" >0</td>\n",
       "      <td id=\"T_7898f_row19_col14\" class=\"data row19 col14\" >0</td>\n",
       "      <td id=\"T_7898f_row19_col15\" class=\"data row19 col15\" >142</td>\n",
       "      <td id=\"T_7898f_row19_col16\" class=\"data row19 col16\" >252</td>\n",
       "      <td id=\"T_7898f_row19_col17\" class=\"data row19 col17\" >252</td>\n",
       "      <td id=\"T_7898f_row19_col18\" class=\"data row19 col18\" >234</td>\n",
       "      <td id=\"T_7898f_row19_col19\" class=\"data row19 col19\" >76</td>\n",
       "      <td id=\"T_7898f_row19_col20\" class=\"data row19 col20\" >0</td>\n",
       "      <td id=\"T_7898f_row19_col21\" class=\"data row19 col21\" >0</td>\n",
       "      <td id=\"T_7898f_row19_col22\" class=\"data row19 col22\" >0</td>\n",
       "      <td id=\"T_7898f_row19_col23\" class=\"data row19 col23\" >0</td>\n",
       "      <td id=\"T_7898f_row19_col24\" class=\"data row19 col24\" >0</td>\n",
       "      <td id=\"T_7898f_row19_col25\" class=\"data row19 col25\" >0</td>\n",
       "      <td id=\"T_7898f_row19_col26\" class=\"data row19 col26\" >0</td>\n",
       "      <td id=\"T_7898f_row19_col27\" class=\"data row19 col27\" >0</td>\n",
       "    </tr>\n",
       "    <tr>\n",
       "      <th id=\"T_7898f_level0_row20\" class=\"row_heading level0 row20\" >20</th>\n",
       "      <td id=\"T_7898f_row20_col0\" class=\"data row20 col0\" >0</td>\n",
       "      <td id=\"T_7898f_row20_col1\" class=\"data row20 col1\" >0</td>\n",
       "      <td id=\"T_7898f_row20_col2\" class=\"data row20 col2\" >0</td>\n",
       "      <td id=\"T_7898f_row20_col3\" class=\"data row20 col3\" >0</td>\n",
       "      <td id=\"T_7898f_row20_col4\" class=\"data row20 col4\" >0</td>\n",
       "      <td id=\"T_7898f_row20_col5\" class=\"data row20 col5\" >0</td>\n",
       "      <td id=\"T_7898f_row20_col6\" class=\"data row20 col6\" >168</td>\n",
       "      <td id=\"T_7898f_row20_col7\" class=\"data row20 col7\" >128</td>\n",
       "      <td id=\"T_7898f_row20_col8\" class=\"data row20 col8\" >0</td>\n",
       "      <td id=\"T_7898f_row20_col9\" class=\"data row20 col9\" >0</td>\n",
       "      <td id=\"T_7898f_row20_col10\" class=\"data row20 col10\" >0</td>\n",
       "      <td id=\"T_7898f_row20_col11\" class=\"data row20 col11\" >0</td>\n",
       "      <td id=\"T_7898f_row20_col12\" class=\"data row20 col12\" >3</td>\n",
       "      <td id=\"T_7898f_row20_col13\" class=\"data row20 col13\" >54</td>\n",
       "      <td id=\"T_7898f_row20_col14\" class=\"data row20 col14\" >187</td>\n",
       "      <td id=\"T_7898f_row20_col15\" class=\"data row20 col15\" >249</td>\n",
       "      <td id=\"T_7898f_row20_col16\" class=\"data row20 col16\" >252</td>\n",
       "      <td id=\"T_7898f_row20_col17\" class=\"data row20 col17\" >235</td>\n",
       "      <td id=\"T_7898f_row20_col18\" class=\"data row20 col18\" >146</td>\n",
       "      <td id=\"T_7898f_row20_col19\" class=\"data row20 col19\" >0</td>\n",
       "      <td id=\"T_7898f_row20_col20\" class=\"data row20 col20\" >0</td>\n",
       "      <td id=\"T_7898f_row20_col21\" class=\"data row20 col21\" >0</td>\n",
       "      <td id=\"T_7898f_row20_col22\" class=\"data row20 col22\" >0</td>\n",
       "      <td id=\"T_7898f_row20_col23\" class=\"data row20 col23\" >0</td>\n",
       "      <td id=\"T_7898f_row20_col24\" class=\"data row20 col24\" >0</td>\n",
       "      <td id=\"T_7898f_row20_col25\" class=\"data row20 col25\" >0</td>\n",
       "      <td id=\"T_7898f_row20_col26\" class=\"data row20 col26\" >0</td>\n",
       "      <td id=\"T_7898f_row20_col27\" class=\"data row20 col27\" >0</td>\n",
       "    </tr>\n",
       "    <tr>\n",
       "      <th id=\"T_7898f_level0_row21\" class=\"row_heading level0 row21\" >21</th>\n",
       "      <td id=\"T_7898f_row21_col0\" class=\"data row21 col0\" >0</td>\n",
       "      <td id=\"T_7898f_row21_col1\" class=\"data row21 col1\" >0</td>\n",
       "      <td id=\"T_7898f_row21_col2\" class=\"data row21 col2\" >0</td>\n",
       "      <td id=\"T_7898f_row21_col3\" class=\"data row21 col3\" >0</td>\n",
       "      <td id=\"T_7898f_row21_col4\" class=\"data row21 col4\" >0</td>\n",
       "      <td id=\"T_7898f_row21_col5\" class=\"data row21 col5\" >0</td>\n",
       "      <td id=\"T_7898f_row21_col6\" class=\"data row21 col6\" >226</td>\n",
       "      <td id=\"T_7898f_row21_col7\" class=\"data row21 col7\" >227</td>\n",
       "      <td id=\"T_7898f_row21_col8\" class=\"data row21 col8\" >138</td>\n",
       "      <td id=\"T_7898f_row21_col9\" class=\"data row21 col9\" >11</td>\n",
       "      <td id=\"T_7898f_row21_col10\" class=\"data row21 col10\" >7</td>\n",
       "      <td id=\"T_7898f_row21_col11\" class=\"data row21 col11\" >55</td>\n",
       "      <td id=\"T_7898f_row21_col12\" class=\"data row21 col12\" >177</td>\n",
       "      <td id=\"T_7898f_row21_col13\" class=\"data row21 col13\" >252</td>\n",
       "      <td id=\"T_7898f_row21_col14\" class=\"data row21 col14\" >253</td>\n",
       "      <td id=\"T_7898f_row21_col15\" class=\"data row21 col15\" >252</td>\n",
       "      <td id=\"T_7898f_row21_col16\" class=\"data row21 col16\" >237</td>\n",
       "      <td id=\"T_7898f_row21_col17\" class=\"data row21 col17\" >75</td>\n",
       "      <td id=\"T_7898f_row21_col18\" class=\"data row21 col18\" >0</td>\n",
       "      <td id=\"T_7898f_row21_col19\" class=\"data row21 col19\" >0</td>\n",
       "      <td id=\"T_7898f_row21_col20\" class=\"data row21 col20\" >0</td>\n",
       "      <td id=\"T_7898f_row21_col21\" class=\"data row21 col21\" >0</td>\n",
       "      <td id=\"T_7898f_row21_col22\" class=\"data row21 col22\" >0</td>\n",
       "      <td id=\"T_7898f_row21_col23\" class=\"data row21 col23\" >0</td>\n",
       "      <td id=\"T_7898f_row21_col24\" class=\"data row21 col24\" >0</td>\n",
       "      <td id=\"T_7898f_row21_col25\" class=\"data row21 col25\" >0</td>\n",
       "      <td id=\"T_7898f_row21_col26\" class=\"data row21 col26\" >0</td>\n",
       "      <td id=\"T_7898f_row21_col27\" class=\"data row21 col27\" >0</td>\n",
       "    </tr>\n",
       "    <tr>\n",
       "      <th id=\"T_7898f_level0_row22\" class=\"row_heading level0 row22\" >22</th>\n",
       "      <td id=\"T_7898f_row22_col0\" class=\"data row22 col0\" >0</td>\n",
       "      <td id=\"T_7898f_row22_col1\" class=\"data row22 col1\" >0</td>\n",
       "      <td id=\"T_7898f_row22_col2\" class=\"data row22 col2\" >0</td>\n",
       "      <td id=\"T_7898f_row22_col3\" class=\"data row22 col3\" >0</td>\n",
       "      <td id=\"T_7898f_row22_col4\" class=\"data row22 col4\" >0</td>\n",
       "      <td id=\"T_7898f_row22_col5\" class=\"data row22 col5\" >0</td>\n",
       "      <td id=\"T_7898f_row22_col6\" class=\"data row22 col6\" >202</td>\n",
       "      <td id=\"T_7898f_row22_col7\" class=\"data row22 col7\" >248</td>\n",
       "      <td id=\"T_7898f_row22_col8\" class=\"data row22 col8\" >252</td>\n",
       "      <td id=\"T_7898f_row22_col9\" class=\"data row22 col9\" >184</td>\n",
       "      <td id=\"T_7898f_row22_col10\" class=\"data row22 col10\" >174</td>\n",
       "      <td id=\"T_7898f_row22_col11\" class=\"data row22 col11\" >252</td>\n",
       "      <td id=\"T_7898f_row22_col12\" class=\"data row22 col12\" >252</td>\n",
       "      <td id=\"T_7898f_row22_col13\" class=\"data row22 col13\" >252</td>\n",
       "      <td id=\"T_7898f_row22_col14\" class=\"data row22 col14\" >253</td>\n",
       "      <td id=\"T_7898f_row22_col15\" class=\"data row22 col15\" >170</td>\n",
       "      <td id=\"T_7898f_row22_col16\" class=\"data row22 col16\" >59</td>\n",
       "      <td id=\"T_7898f_row22_col17\" class=\"data row22 col17\" >0</td>\n",
       "      <td id=\"T_7898f_row22_col18\" class=\"data row22 col18\" >0</td>\n",
       "      <td id=\"T_7898f_row22_col19\" class=\"data row22 col19\" >0</td>\n",
       "      <td id=\"T_7898f_row22_col20\" class=\"data row22 col20\" >0</td>\n",
       "      <td id=\"T_7898f_row22_col21\" class=\"data row22 col21\" >0</td>\n",
       "      <td id=\"T_7898f_row22_col22\" class=\"data row22 col22\" >0</td>\n",
       "      <td id=\"T_7898f_row22_col23\" class=\"data row22 col23\" >0</td>\n",
       "      <td id=\"T_7898f_row22_col24\" class=\"data row22 col24\" >0</td>\n",
       "      <td id=\"T_7898f_row22_col25\" class=\"data row22 col25\" >0</td>\n",
       "      <td id=\"T_7898f_row22_col26\" class=\"data row22 col26\" >0</td>\n",
       "      <td id=\"T_7898f_row22_col27\" class=\"data row22 col27\" >0</td>\n",
       "    </tr>\n",
       "    <tr>\n",
       "      <th id=\"T_7898f_level0_row23\" class=\"row_heading level0 row23\" >23</th>\n",
       "      <td id=\"T_7898f_row23_col0\" class=\"data row23 col0\" >0</td>\n",
       "      <td id=\"T_7898f_row23_col1\" class=\"data row23 col1\" >0</td>\n",
       "      <td id=\"T_7898f_row23_col2\" class=\"data row23 col2\" >0</td>\n",
       "      <td id=\"T_7898f_row23_col3\" class=\"data row23 col3\" >0</td>\n",
       "      <td id=\"T_7898f_row23_col4\" class=\"data row23 col4\" >0</td>\n",
       "      <td id=\"T_7898f_row23_col5\" class=\"data row23 col5\" >0</td>\n",
       "      <td id=\"T_7898f_row23_col6\" class=\"data row23 col6\" >0</td>\n",
       "      <td id=\"T_7898f_row23_col7\" class=\"data row23 col7\" >131</td>\n",
       "      <td id=\"T_7898f_row23_col8\" class=\"data row23 col8\" >249</td>\n",
       "      <td id=\"T_7898f_row23_col9\" class=\"data row23 col9\" >252</td>\n",
       "      <td id=\"T_7898f_row23_col10\" class=\"data row23 col10\" >252</td>\n",
       "      <td id=\"T_7898f_row23_col11\" class=\"data row23 col11\" >252</td>\n",
       "      <td id=\"T_7898f_row23_col12\" class=\"data row23 col12\" >251</td>\n",
       "      <td id=\"T_7898f_row23_col13\" class=\"data row23 col13\" >238</td>\n",
       "      <td id=\"T_7898f_row23_col14\" class=\"data row23 col14\" >107</td>\n",
       "      <td id=\"T_7898f_row23_col15\" class=\"data row23 col15\" >6</td>\n",
       "      <td id=\"T_7898f_row23_col16\" class=\"data row23 col16\" >0</td>\n",
       "      <td id=\"T_7898f_row23_col17\" class=\"data row23 col17\" >0</td>\n",
       "      <td id=\"T_7898f_row23_col18\" class=\"data row23 col18\" >0</td>\n",
       "      <td id=\"T_7898f_row23_col19\" class=\"data row23 col19\" >0</td>\n",
       "      <td id=\"T_7898f_row23_col20\" class=\"data row23 col20\" >0</td>\n",
       "      <td id=\"T_7898f_row23_col21\" class=\"data row23 col21\" >0</td>\n",
       "      <td id=\"T_7898f_row23_col22\" class=\"data row23 col22\" >0</td>\n",
       "      <td id=\"T_7898f_row23_col23\" class=\"data row23 col23\" >0</td>\n",
       "      <td id=\"T_7898f_row23_col24\" class=\"data row23 col24\" >0</td>\n",
       "      <td id=\"T_7898f_row23_col25\" class=\"data row23 col25\" >0</td>\n",
       "      <td id=\"T_7898f_row23_col26\" class=\"data row23 col26\" >0</td>\n",
       "      <td id=\"T_7898f_row23_col27\" class=\"data row23 col27\" >0</td>\n",
       "    </tr>\n",
       "    <tr>\n",
       "      <th id=\"T_7898f_level0_row24\" class=\"row_heading level0 row24\" >24</th>\n",
       "      <td id=\"T_7898f_row24_col0\" class=\"data row24 col0\" >0</td>\n",
       "      <td id=\"T_7898f_row24_col1\" class=\"data row24 col1\" >0</td>\n",
       "      <td id=\"T_7898f_row24_col2\" class=\"data row24 col2\" >0</td>\n",
       "      <td id=\"T_7898f_row24_col3\" class=\"data row24 col3\" >0</td>\n",
       "      <td id=\"T_7898f_row24_col4\" class=\"data row24 col4\" >0</td>\n",
       "      <td id=\"T_7898f_row24_col5\" class=\"data row24 col5\" >0</td>\n",
       "      <td id=\"T_7898f_row24_col6\" class=\"data row24 col6\" >0</td>\n",
       "      <td id=\"T_7898f_row24_col7\" class=\"data row24 col7\" >0</td>\n",
       "      <td id=\"T_7898f_row24_col8\" class=\"data row24 col8\" >95</td>\n",
       "      <td id=\"T_7898f_row24_col9\" class=\"data row24 col9\" >217</td>\n",
       "      <td id=\"T_7898f_row24_col10\" class=\"data row24 col10\" >252</td>\n",
       "      <td id=\"T_7898f_row24_col11\" class=\"data row24 col11\" >167</td>\n",
       "      <td id=\"T_7898f_row24_col12\" class=\"data row24 col12\" >113</td>\n",
       "      <td id=\"T_7898f_row24_col13\" class=\"data row24 col13\" >0</td>\n",
       "      <td id=\"T_7898f_row24_col14\" class=\"data row24 col14\" >0</td>\n",
       "      <td id=\"T_7898f_row24_col15\" class=\"data row24 col15\" >0</td>\n",
       "      <td id=\"T_7898f_row24_col16\" class=\"data row24 col16\" >0</td>\n",
       "      <td id=\"T_7898f_row24_col17\" class=\"data row24 col17\" >0</td>\n",
       "      <td id=\"T_7898f_row24_col18\" class=\"data row24 col18\" >0</td>\n",
       "      <td id=\"T_7898f_row24_col19\" class=\"data row24 col19\" >0</td>\n",
       "      <td id=\"T_7898f_row24_col20\" class=\"data row24 col20\" >0</td>\n",
       "      <td id=\"T_7898f_row24_col21\" class=\"data row24 col21\" >0</td>\n",
       "      <td id=\"T_7898f_row24_col22\" class=\"data row24 col22\" >0</td>\n",
       "      <td id=\"T_7898f_row24_col23\" class=\"data row24 col23\" >0</td>\n",
       "      <td id=\"T_7898f_row24_col24\" class=\"data row24 col24\" >0</td>\n",
       "      <td id=\"T_7898f_row24_col25\" class=\"data row24 col25\" >0</td>\n",
       "      <td id=\"T_7898f_row24_col26\" class=\"data row24 col26\" >0</td>\n",
       "      <td id=\"T_7898f_row24_col27\" class=\"data row24 col27\" >0</td>\n",
       "    </tr>\n",
       "    <tr>\n",
       "      <th id=\"T_7898f_level0_row25\" class=\"row_heading level0 row25\" >25</th>\n",
       "      <td id=\"T_7898f_row25_col0\" class=\"data row25 col0\" >0</td>\n",
       "      <td id=\"T_7898f_row25_col1\" class=\"data row25 col1\" >0</td>\n",
       "      <td id=\"T_7898f_row25_col2\" class=\"data row25 col2\" >0</td>\n",
       "      <td id=\"T_7898f_row25_col3\" class=\"data row25 col3\" >0</td>\n",
       "      <td id=\"T_7898f_row25_col4\" class=\"data row25 col4\" >0</td>\n",
       "      <td id=\"T_7898f_row25_col5\" class=\"data row25 col5\" >0</td>\n",
       "      <td id=\"T_7898f_row25_col6\" class=\"data row25 col6\" >0</td>\n",
       "      <td id=\"T_7898f_row25_col7\" class=\"data row25 col7\" >0</td>\n",
       "      <td id=\"T_7898f_row25_col8\" class=\"data row25 col8\" >0</td>\n",
       "      <td id=\"T_7898f_row25_col9\" class=\"data row25 col9\" >0</td>\n",
       "      <td id=\"T_7898f_row25_col10\" class=\"data row25 col10\" >0</td>\n",
       "      <td id=\"T_7898f_row25_col11\" class=\"data row25 col11\" >0</td>\n",
       "      <td id=\"T_7898f_row25_col12\" class=\"data row25 col12\" >0</td>\n",
       "      <td id=\"T_7898f_row25_col13\" class=\"data row25 col13\" >0</td>\n",
       "      <td id=\"T_7898f_row25_col14\" class=\"data row25 col14\" >0</td>\n",
       "      <td id=\"T_7898f_row25_col15\" class=\"data row25 col15\" >0</td>\n",
       "      <td id=\"T_7898f_row25_col16\" class=\"data row25 col16\" >0</td>\n",
       "      <td id=\"T_7898f_row25_col17\" class=\"data row25 col17\" >0</td>\n",
       "      <td id=\"T_7898f_row25_col18\" class=\"data row25 col18\" >0</td>\n",
       "      <td id=\"T_7898f_row25_col19\" class=\"data row25 col19\" >0</td>\n",
       "      <td id=\"T_7898f_row25_col20\" class=\"data row25 col20\" >0</td>\n",
       "      <td id=\"T_7898f_row25_col21\" class=\"data row25 col21\" >0</td>\n",
       "      <td id=\"T_7898f_row25_col22\" class=\"data row25 col22\" >0</td>\n",
       "      <td id=\"T_7898f_row25_col23\" class=\"data row25 col23\" >0</td>\n",
       "      <td id=\"T_7898f_row25_col24\" class=\"data row25 col24\" >0</td>\n",
       "      <td id=\"T_7898f_row25_col25\" class=\"data row25 col25\" >0</td>\n",
       "      <td id=\"T_7898f_row25_col26\" class=\"data row25 col26\" >0</td>\n",
       "      <td id=\"T_7898f_row25_col27\" class=\"data row25 col27\" >0</td>\n",
       "    </tr>\n",
       "    <tr>\n",
       "      <th id=\"T_7898f_level0_row26\" class=\"row_heading level0 row26\" >26</th>\n",
       "      <td id=\"T_7898f_row26_col0\" class=\"data row26 col0\" >0</td>\n",
       "      <td id=\"T_7898f_row26_col1\" class=\"data row26 col1\" >0</td>\n",
       "      <td id=\"T_7898f_row26_col2\" class=\"data row26 col2\" >0</td>\n",
       "      <td id=\"T_7898f_row26_col3\" class=\"data row26 col3\" >0</td>\n",
       "      <td id=\"T_7898f_row26_col4\" class=\"data row26 col4\" >0</td>\n",
       "      <td id=\"T_7898f_row26_col5\" class=\"data row26 col5\" >0</td>\n",
       "      <td id=\"T_7898f_row26_col6\" class=\"data row26 col6\" >0</td>\n",
       "      <td id=\"T_7898f_row26_col7\" class=\"data row26 col7\" >0</td>\n",
       "      <td id=\"T_7898f_row26_col8\" class=\"data row26 col8\" >0</td>\n",
       "      <td id=\"T_7898f_row26_col9\" class=\"data row26 col9\" >0</td>\n",
       "      <td id=\"T_7898f_row26_col10\" class=\"data row26 col10\" >0</td>\n",
       "      <td id=\"T_7898f_row26_col11\" class=\"data row26 col11\" >0</td>\n",
       "      <td id=\"T_7898f_row26_col12\" class=\"data row26 col12\" >0</td>\n",
       "      <td id=\"T_7898f_row26_col13\" class=\"data row26 col13\" >0</td>\n",
       "      <td id=\"T_7898f_row26_col14\" class=\"data row26 col14\" >0</td>\n",
       "      <td id=\"T_7898f_row26_col15\" class=\"data row26 col15\" >0</td>\n",
       "      <td id=\"T_7898f_row26_col16\" class=\"data row26 col16\" >0</td>\n",
       "      <td id=\"T_7898f_row26_col17\" class=\"data row26 col17\" >0</td>\n",
       "      <td id=\"T_7898f_row26_col18\" class=\"data row26 col18\" >0</td>\n",
       "      <td id=\"T_7898f_row26_col19\" class=\"data row26 col19\" >0</td>\n",
       "      <td id=\"T_7898f_row26_col20\" class=\"data row26 col20\" >0</td>\n",
       "      <td id=\"T_7898f_row26_col21\" class=\"data row26 col21\" >0</td>\n",
       "      <td id=\"T_7898f_row26_col22\" class=\"data row26 col22\" >0</td>\n",
       "      <td id=\"T_7898f_row26_col23\" class=\"data row26 col23\" >0</td>\n",
       "      <td id=\"T_7898f_row26_col24\" class=\"data row26 col24\" >0</td>\n",
       "      <td id=\"T_7898f_row26_col25\" class=\"data row26 col25\" >0</td>\n",
       "      <td id=\"T_7898f_row26_col26\" class=\"data row26 col26\" >0</td>\n",
       "      <td id=\"T_7898f_row26_col27\" class=\"data row26 col27\" >0</td>\n",
       "    </tr>\n",
       "    <tr>\n",
       "      <th id=\"T_7898f_level0_row27\" class=\"row_heading level0 row27\" >27</th>\n",
       "      <td id=\"T_7898f_row27_col0\" class=\"data row27 col0\" >0</td>\n",
       "      <td id=\"T_7898f_row27_col1\" class=\"data row27 col1\" >0</td>\n",
       "      <td id=\"T_7898f_row27_col2\" class=\"data row27 col2\" >0</td>\n",
       "      <td id=\"T_7898f_row27_col3\" class=\"data row27 col3\" >0</td>\n",
       "      <td id=\"T_7898f_row27_col4\" class=\"data row27 col4\" >0</td>\n",
       "      <td id=\"T_7898f_row27_col5\" class=\"data row27 col5\" >0</td>\n",
       "      <td id=\"T_7898f_row27_col6\" class=\"data row27 col6\" >0</td>\n",
       "      <td id=\"T_7898f_row27_col7\" class=\"data row27 col7\" >0</td>\n",
       "      <td id=\"T_7898f_row27_col8\" class=\"data row27 col8\" >0</td>\n",
       "      <td id=\"T_7898f_row27_col9\" class=\"data row27 col9\" >0</td>\n",
       "      <td id=\"T_7898f_row27_col10\" class=\"data row27 col10\" >0</td>\n",
       "      <td id=\"T_7898f_row27_col11\" class=\"data row27 col11\" >0</td>\n",
       "      <td id=\"T_7898f_row27_col12\" class=\"data row27 col12\" >0</td>\n",
       "      <td id=\"T_7898f_row27_col13\" class=\"data row27 col13\" >0</td>\n",
       "      <td id=\"T_7898f_row27_col14\" class=\"data row27 col14\" >0</td>\n",
       "      <td id=\"T_7898f_row27_col15\" class=\"data row27 col15\" >0</td>\n",
       "      <td id=\"T_7898f_row27_col16\" class=\"data row27 col16\" >0</td>\n",
       "      <td id=\"T_7898f_row27_col17\" class=\"data row27 col17\" >0</td>\n",
       "      <td id=\"T_7898f_row27_col18\" class=\"data row27 col18\" >0</td>\n",
       "      <td id=\"T_7898f_row27_col19\" class=\"data row27 col19\" >0</td>\n",
       "      <td id=\"T_7898f_row27_col20\" class=\"data row27 col20\" >0</td>\n",
       "      <td id=\"T_7898f_row27_col21\" class=\"data row27 col21\" >0</td>\n",
       "      <td id=\"T_7898f_row27_col22\" class=\"data row27 col22\" >0</td>\n",
       "      <td id=\"T_7898f_row27_col23\" class=\"data row27 col23\" >0</td>\n",
       "      <td id=\"T_7898f_row27_col24\" class=\"data row27 col24\" >0</td>\n",
       "      <td id=\"T_7898f_row27_col25\" class=\"data row27 col25\" >0</td>\n",
       "      <td id=\"T_7898f_row27_col26\" class=\"data row27 col26\" >0</td>\n",
       "      <td id=\"T_7898f_row27_col27\" class=\"data row27 col27\" >0</td>\n",
       "    </tr>\n",
       "  </tbody>\n",
       "</table>\n"
      ],
      "text/plain": [
       "<pandas.io.formats.style.Styler at 0x7f04065201a0>"
      ]
     },
     "execution_count": 9,
     "metadata": {},
     "output_type": "execute_result"
    }
   ],
   "source": [
    "import pandas as pd\n",
    "im3_tensor = tensor(im3)\n",
    "df  = pd.DataFrame(im3_tensor.numpy())\n",
    "df.style.background_gradient(cmap='Greys')"
   ]
  },
  {
   "cell_type": "markdown",
   "id": "926c4a61",
   "metadata": {},
   "source": [
    "for our simple model is to get the average of pixel values for each of our two\n",
    "groups. In the process of doing this"
   ]
  },
  {
   "cell_type": "code",
   "execution_count": 10,
   "id": "5b99f262",
   "metadata": {},
   "outputs": [
    {
     "data": {
      "text/plain": [
       "(6265, 6131)"
      ]
     },
     "execution_count": 10,
     "metadata": {},
     "output_type": "execute_result"
    }
   ],
   "source": [
    "seven_tensors = [tensor(Image.open(o)) for o in sevens]\n",
    "three_tensors = [tensor(Image.open(o)) for o in threes]\n",
    "len(seven_tensors),len(three_tensors)"
   ]
  },
  {
   "cell_type": "code",
   "execution_count": 11,
   "id": "335b2633",
   "metadata": {},
   "outputs": [
    {
     "data": {
      "text/plain": [
       "(<Axes: >, <Axes: >)"
      ]
     },
     "execution_count": 11,
     "metadata": {},
     "output_type": "execute_result"
    },
    {
     "data": {
      "image/png": "[encoded data removed]",
      "text/plain": [
       "<Figure size 100x100 with 1 Axes>"
      ]
     },
     "metadata": {},
     "output_type": "display_data"
    },
    {
     "data": {
      "image/png": "[encoded data removed]",
      "text/plain": [
       "<Figure size 100x100 with 1 Axes>"
      ]
     },
     "metadata": {},
     "output_type": "display_data"
    }
   ],
   "source": [
    "show_image(seven_tensors[0]),show_image(three_tensors[0])"
   ]
  },
  {
   "cell_type": "markdown",
   "id": "b631af76",
   "metadata": {},
   "source": [
    "For every pixel position, we want to compute the average over all the images of the\n",
    "intensity of that pixel. To do this, we first combine all the images in this list into a\n",
    "single three-dimensional tensor. The most common way to describe such a tensor is\n",
    "to call it a rank-3 tensor."
   ]
  },
  {
   "cell_type": "markdown",
   "id": "b5320f01",
   "metadata": {},
   "source": [
    "Some operations in PyTorch, such as taking a mean, require us to cast our integer\n",
    "types to float types. Since we’ll be needing this later, we’ll also cast our stacked tensor\n",
    "to float now. Casting in PyTorch is as simple as writing the name of the type you\n",
    "wish to cast to, and treating it as a method."
   ]
  },
  {
   "cell_type": "code",
   "execution_count": 12,
   "id": "3598cba3",
   "metadata": {},
   "outputs": [
    {
     "data": {
      "text/plain": [
       "(torch.Size([6265, 28, 28]), torch.Size([6131, 28, 28]))"
      ]
     },
     "execution_count": 12,
     "metadata": {},
     "output_type": "execute_result"
    }
   ],
   "source": [
    "import torch\n",
    "stacked_sevens = torch.stack(seven_tensors).float()/255\n",
    "stacked_threes = torch.stack(three_tensors).float()/255\n",
    "stacked_sevens.shape,stacked_threes.shape"
   ]
  },
  {
   "cell_type": "code",
   "execution_count": 13,
   "id": "1e611eb4",
   "metadata": {},
   "outputs": [
    {
     "data": {
      "text/plain": [
       "3"
      ]
     },
     "execution_count": 13,
     "metadata": {},
     "output_type": "execute_result"
    }
   ],
   "source": [
    "#to find the rank of the tensors\n",
    "stacked_threes.ndim"
   ]
  },
  {
   "cell_type": "markdown",
   "id": "fc579c11",
   "metadata": {},
   "source": [
    "Finally, we can compute what the ideal 3 looks like. We calculate the mean of all the\n",
    "image tensors by taking the mean along dimension 0 of our stacked, rank-3 tensor.\n",
    "This is the dimension that indexes over all the images."
   ]
  },
  {
   "cell_type": "code",
   "execution_count": 14,
   "id": "96df4dcd",
   "metadata": {},
   "outputs": [
    {
     "data": {
      "text/plain": [
       "(<Axes: title={'center': 'mean of all threes'}>,\n",
       " <Axes: title={'center': 'Mean of all sevens'}>)"
      ]
     },
     "execution_count": 14,
     "metadata": {},
     "output_type": "execute_result"
    },
    {
     "data": {
      "image/png": "[encoded data removed]",
      "text/plain": [
       "<Figure size 100x100 with 1 Axes>"
      ]
     },
     "metadata": {},
     "output_type": "display_data"
    },
    {
     "data": {
      "image/png": "[encoded data removed]",
      "text/plain": [
       "<Figure size 100x100 with 1 Axes>"
      ]
     },
     "metadata": {},
     "output_type": "display_data"
    }
   ],
   "source": [
    "mean3= stacked_threes.mean(0)\n",
    "mean7 = stacked_sevens.mean(0)\n",
    "#according to the model these should be the ideal didgits\n",
    "show_image(mean3,title=\"mean of all threes\"),show_image(mean7,title=\"Mean of all sevens\")"
   ]
  },
  {
   "cell_type": "code",
   "execution_count": 15,
   "id": "33dfc1d9",
   "metadata": {},
   "outputs": [
    {
     "data": {
      "text/plain": [
       "<Axes: title={'center': 'This is what a sample three looks like'}>"
      ]
     },
     "execution_count": 15,
     "metadata": {},
     "output_type": "execute_result"
    },
    {
     "data": {
      "image/png": "[encoded data removed]",
      "text/plain": [
       "<Figure size 100x100 with 1 Axes>"
      ]
     },
     "metadata": {},
     "output_type": "display_data"
    }
   ],
   "source": [
    "#here is a simple sample of three\n",
    "a3 = stacked_threes[1]\n",
    "show_image(a3,title=\"This is what a sample three looks like\")"
   ]
  },
  {
   "cell_type": "markdown",
   "id": "67c4d0d5",
   "metadata": {},
   "source": [
    "now what we need to do is measure the diatance of rach sample of mean three and mean sevens\n",
    "Take the mean of the absolute value of differences (absolute value is the function\n",
    "that replaces negative values with positive values). This is called the mean abso‐\n",
    "lute difference or L1 norm.\n",
    "• Take the mean of the square of differences (which makes everything positive) and\n",
    "then take the square root (which undoes the squaring). This is called the root\n",
    "mean squared error (RMSE) or L2 norm."
   ]
  },
  {
   "cell_type": "code",
   "execution_count": 16,
   "id": "c0f749dd",
   "metadata": {},
   "outputs": [
    {
     "data": {
      "text/plain": [
       "(tensor(0.1114), tensor(0.2021))"
      ]
     },
     "execution_count": 16,
     "metadata": {},
     "output_type": "execute_result"
    }
   ],
   "source": [
    "#lets try both of these methods now\n",
    "dist_3_abs = (a3-mean3).abs().mean()\n",
    "dist_3_sqr = (a3-mean3).pow(2).mean().sqrt()\n",
    "dist_3_abs,dist_3_sqr"
   ]
  },
  {
   "cell_type": "code",
   "execution_count": 17,
   "id": "2e7d176d",
   "metadata": {},
   "outputs": [
    {
     "data": {
      "text/plain": [
       "(tensor(0.1586), tensor(0.3021))"
      ]
     },
     "execution_count": 17,
     "metadata": {},
     "output_type": "execute_result"
    }
   ],
   "source": [
    "#lets try the diffence between the 2\n",
    "dist_7_abs = (a3 - mean7).abs().mean()\n",
    "dist_7_sqr = ((a3 - mean7)**2).mean().sqrt()\n",
    "dist_7_abs,dist_7_sqr"
   ]
  },
  {
   "cell_type": "code",
   "execution_count": 18,
   "id": "c7146977",
   "metadata": {},
   "outputs": [
    {
     "data": {
      "text/plain": [
       "(tensor(0.1114), tensor(0.2021))"
      ]
     },
     "execution_count": 18,
     "metadata": {},
     "output_type": "execute_result"
    }
   ],
   "source": [
    "#these things are already there in pytorch .This is called l1 losses for abs means and MSE for the squared errors.The diffrence bwtween them is just that MSE penalizes errors more often than L1\n",
    "F.l1_loss(a3,mean3),F.mse_loss(a3,mean3).sqrt()"
   ]
  },
  {
   "cell_type": "markdown",
   "id": "a106d36e",
   "metadata": {},
   "source": [
    "Lets take a bit of look at tensors in pytorch"
   ]
  },
  {
   "cell_type": "code",
   "execution_count": 19,
   "id": "b11b1c63",
   "metadata": {},
   "outputs": [
    {
     "data": {
      "text/plain": [
       "(array([[1, 2, 3],\n",
       "        [4, 5, 6]]),\n",
       " tensor([[1, 2, 3],\n",
       "         [4, 5, 6]]))"
      ]
     },
     "execution_count": 19,
     "metadata": {},
     "output_type": "execute_result"
    }
   ],
   "source": [
    "data = [[1,2,3],[4,5,6]]\n",
    "arr = array(data)\n",
    "tns = tensor(data)\n",
    "arr,tns"
   ]
  },
  {
   "cell_type": "code",
   "execution_count": 20,
   "id": "155e1110",
   "metadata": {},
   "outputs": [
    {
     "data": {
      "text/plain": [
       "(tensor([[1, 2, 3]]), tensor([2, 5]), tensor([[1, 2, 3]]))"
      ]
     },
     "execution_count": 20,
     "metadata": {},
     "output_type": "execute_result"
    }
   ],
   "source": [
    "tns[:1],tns[:,1],tns[:1,:]"
   ]
  },
  {
   "cell_type": "code",
   "execution_count": 21,
   "id": "5e97a788",
   "metadata": {},
   "outputs": [
    {
     "data": {
      "text/plain": [
       "(tensor([5, 6]),\n",
       " tensor([[2, 3, 4],\n",
       "         [5, 6, 7]]),\n",
       " torch.int64)"
      ]
     },
     "execution_count": 21,
     "metadata": {},
     "output_type": "execute_result"
    }
   ],
   "source": [
    "tns[1,1:3],tns+1,tns.dtype"
   ]
  },
  {
   "cell_type": "code",
   "execution_count": 22,
   "id": "6f929e87",
   "metadata": {},
   "outputs": [
    {
     "data": {
      "text/plain": [
       "(torch.Size([1010, 28, 28]), torch.Size([1028, 28, 28]))"
      ]
     },
     "execution_count": 22,
     "metadata": {},
     "output_type": "execute_result"
    }
   ],
   "source": [
    "valid_3_tens = torch.stack([tensor(Image.open(o))\n",
    "    for o in (path/'valid'/'3').ls()])\n",
    "valid_3_tens = valid_3_tens.float()/255\n",
    "valid_7_tens = torch.stack([tensor(Image.open(o))\n",
    "    for o in (path/'valid'/'7').ls()])\n",
    "valid_7_tens = valid_7_tens.float()/255\n",
    "valid_3_tens.shape,valid_7_tens.shape"
   ]
  },
  {
   "cell_type": "code",
   "execution_count": 23,
   "id": "2c37f7d3",
   "metadata": {},
   "outputs": [
    {
     "data": {
      "text/plain": [
       "tensor(0.1114)"
      ]
     },
     "execution_count": 23,
     "metadata": {},
     "output_type": "execute_result"
    }
   ],
   "source": [
    "def mnist_distance(a,b): return (a-b).abs().mean((-1,-2))\n",
    "mnist_distance(a3, mean3)"
   ]
  },
  {
   "cell_type": "code",
   "execution_count": 24,
   "id": "d0815c24",
   "metadata": {},
   "outputs": [
    {
     "data": {
      "text/plain": [
       "(tensor([0.1086, 0.1092, 0.1124,  ..., 0.1368, 0.1382, 0.1187]),\n",
       " torch.Size([1010]))"
      ]
     },
     "execution_count": 24,
     "metadata": {},
     "output_type": "execute_result"
    }
   ],
   "source": [
    "valid_3_dist = mnist_distance(valid_3_tens, mean3)\n",
    "valid_3_dist, valid_3_dist.shape"
   ]
  },
  {
   "cell_type": "code",
   "execution_count": 25,
   "id": "6763d7f5",
   "metadata": {},
   "outputs": [
    {
     "data": {
      "text/plain": [
       "(tensor(True), tensor(True), tensor(False))"
      ]
     },
     "execution_count": 25,
     "metadata": {},
     "output_type": "execute_result"
    }
   ],
   "source": [
    "#now lets predict the number whther it is 3 or 7 based on the distance that we have calculated\n",
    "def is_3(x): return mnist_distance(x,mean3) < mnist_distance(x,mean7)\n",
    "is_3(a3),is_3(valid_3_tens[0]),is_3(valid_7_tens[0])"
   ]
  },
  {
   "cell_type": "code",
   "execution_count": 26,
   "id": "557d0a45",
   "metadata": {},
   "outputs": [
    {
     "data": {
      "text/plain": [
       "tensor([True, True, True,  ..., True, True, True])"
      ]
     },
     "execution_count": 26,
     "metadata": {},
     "output_type": "execute_result"
    }
   ],
   "source": [
    "#by boradcasting we can do the same with complete set of tensors\n",
    "is_3(valid_3_tens)"
   ]
  },
  {
   "cell_type": "code",
   "execution_count": 27,
   "id": "58304411",
   "metadata": {},
   "outputs": [
    {
     "data": {
      "text/plain": [
       "(tensor(0.9168), tensor(0.9854), tensor(0.9511))"
      ]
     },
     "execution_count": 27,
     "metadata": {},
     "output_type": "execute_result"
    }
   ],
   "source": [
    "accuracy_3s = is_3(valid_3_tens).float().mean()\n",
    "accuracy_7s = (1 - is_3(valid_7_tens).float()).mean()\n",
    "accuracy_3s,accuracy_7s,(accuracy_7s+accuracy_3s)/2"
   ]
  },
  {
   "cell_type": "markdown",
   "id": "9550d21f",
   "metadata": {},
   "source": [
    "Our pixel similarity approach does not really do this. We\n",
    "do not have any kind of weight assignment, or any way of improving based on testing\n",
    "the effectiveness of a weight assignment. In other words, we can’t really improve our\n",
    "pixel similarity approach by modifying a set of parameters.\n",
    "Instead of trying to find the similarity between an image and an “ideal image,” we\n",
    "could instead look at each individual pixel and come up with a set of weights for each,\n",
    "such that the highest weights are associated with those pixels most likely to be black\n",
    "for a particular category.\n",
    "\n",
    "For instance, pixels toward the bottom right are not very\n",
    "likely to be activated for a 7, so they should have a low weight for a 7, but they are\n",
    "likely to be activated for an 8, so they should have a high weight for an 8.\n",
    "\n",
    "\n",
    "\n",
    "Here we are assuming that X is the image, represented as a vector—in other words,\n",
    "with all of the rows stacked up end to end into a single long line. And we are assum\n",
    "ing that the weights are a vector W."
   ]
  },
  {
   "cell_type": "code",
   "execution_count": 28,
   "id": "d3867616",
   "metadata": {},
   "outputs": [],
   "source": [
    "def pr_8(X,W): return (X*W).sum()\n"
   ]
  },
  {
   "cell_type": "markdown",
   "id": "c402a5b7",
   "metadata": {},
   "source": [
    "We want to find the specific values for the vector W that cause the result of our func‐\n",
    "tion to be high for those images that are 8s, and low for those images that are not.\n",
    "Searching for the best vector W is a way to search for the best function for recognizing\n",
    "8s."
   ]
  },
  {
   "attachments": {
    "image.png": {
     "image/png": "[encoded data removed]"
    }
   },
   "cell_type": "markdown",
   "id": "61983bec",
   "metadata": {},
   "source": [
    "To be more specific, here are the steps required to turn this function into a machine\n",
    "learning classifier:\n",
    "1. Initialize the weights.\n",
    "2. For each image, use these weights to predict whether it appears to be a 3 or a 7.\n",
    "3. Based on these predictions, calculate how good the model is (its loss).\n",
    "4. Calculate the gradient, which measures for each weight how changing that weight\n",
    "would change the loss.\n",
    "5. Step (that is, change) all the weights based on that calculation.\n",
    "6. Go back to step 2 and repeat the process.\n",
    "7. Iterate until you decide to stop the training process (for instance, because the\n",
    "model is good enough or you don’t want to wait any longer).\n",
    "![image.png](attachment:image.png)"
   ]
  },
  {
   "cell_type": "code",
   "execution_count": 29,
   "id": "12b3bd6a",
   "metadata": {},
   "outputs": [
    {
     "data": {
      "image/png": "[encoded data removed]",
      "text/plain": [
       "<Figure size 600x400 with 1 Axes>"
      ]
     },
     "metadata": {},
     "output_type": "display_data"
    }
   ],
   "source": [
    "def f(x): \n",
    "    return x**2\n",
    "\n",
    "import numpy as np\n",
    "import matplotlib.pyplot as plt\n",
    "\n",
    "def plot_function(func, x_label='x', y_label='y', \n",
    "                  x_range=(-10, 10), num_points=1000, \n",
    "                  points=None):\n",
    "    x = np.linspace(x_range[0], x_range[1], num_points)\n",
    "    y = func(x)\n",
    "\n",
    "    plt.figure(figsize=(6, 4))\n",
    "    plt.plot(x, y, label=f\"{y_label} = {func.__name__ if hasattr(func, '__name__') else 'f(x)'}\")\n",
    "\n",
    "    if points:\n",
    "        if all(isinstance(p, (int, float)) for p in points):\n",
    "            points = [(px, func(px)) for px in points]\n",
    "        px, py = zip(*points)\n",
    "        plt.scatter(px, py, color='red', label='Points of Interest', zorder=5)\n",
    "\n",
    "    plt.xlabel(x_label)\n",
    "    plt.ylabel(y_label)\n",
    "    plt.grid(True)\n",
    "    plt.legend()\n",
    "    plt.show()\n",
    "\n",
    "plot_function(f, 'x', 'x**2', x_range=(-5, 5), points=[-1.5, 0, 2])\n"
   ]
  },
  {
   "cell_type": "code",
   "execution_count": null,
   "id": "b3634348",
   "metadata": {},
   "outputs": [],
   "source": []
  },
  {
   "attachments": {
    "image.png": {
     "image/png": "[encoded data removed]"
    }
   },
   "cell_type": "markdown",
   "id": "720f1086",
   "metadata": {},
   "source": [
    "Nearly all approaches start with the basic\n",
    "idea of multiplying the gradient by some small number, called the learning rate (LR).\n",
    "The learning rate is often a number between 0.001 and 0.1, although it could be any‐\n",
    "thing. Often people select a learning rate just by trying a few, and finding which\n",
    "results in the best model after training (we’ll show you a better approach later in this\n",
    "book, called the learning rate finder).\n",
    "\n",
    "w -= w.grad * lr\n",
    "\n",
    "![image.png](attachment:image.png)"
   ]
  },
  {
   "cell_type": "code",
   "execution_count": 30,
   "id": "3483739f",
   "metadata": {},
   "outputs": [
    {
     "data": {
      "image/png": "[encoded data removed]",
      "text/plain": [
       "<Figure size 640x480 with 1 Axes>"
      ]
     },
     "metadata": {},
     "output_type": "display_data"
    }
   ],
   "source": [
    "#ok now lets just try to implement a simpleSGD with an example\n",
    "time = torch.arange(0,20).float(); time\n",
    "speed = torch.randn(20)*3 + 0.75*(time-9.5)**2 + 1\n",
    "plt.scatter(time,speed);"
   ]
  },
  {
   "cell_type": "code",
   "execution_count": 31,
   "id": "53994bbf",
   "metadata": {},
   "outputs": [
    {
     "data": {
      "image/png": "[encoded data removed]",
      "text/plain": [
       "<Figure size 640x480 with 1 Axes>"
      ]
     },
     "metadata": {},
     "output_type": "display_data"
    }
   ],
   "source": [
    "def f(t, params):\n",
    "    a, b, c = params\n",
    "    return a * t ** 2 + (b * t) + c\n",
    "\n",
    "def mse(preds, targets):\n",
    "    return ((preds - targets) ** 2).mean()\n",
    "\n",
    "# now let's initialize the variables with some random values\n",
    "params = torch.randn(3, requires_grad=True)\n",
    "preds = f(time, params)\n",
    "\n",
    "def show_preds(preds):\n",
    "    fig, ax = plt.subplots()\n",
    "    ax.scatter(time, speed)\n",
    "    ax.scatter(time, preds.detach().numpy(), color='red')\n",
    "    ax.set_ylim(-300, 100)\n",
    "\n",
    "show_preds(preds)"
   ]
  },
  {
   "cell_type": "code",
   "execution_count": 32,
   "id": "620f0624",
   "metadata": {},
   "outputs": [
    {
     "data": {
      "text/plain": [
       "tensor(6584.6733, grad_fn=<MeanBackward0>)"
      ]
     },
     "execution_count": 32,
     "metadata": {},
     "output_type": "execute_result"
    }
   ],
   "source": [
    "#now lets calculate the loss\n",
    "loss = mse(preds,speed)\n",
    "#now our goal is to minimize this\n",
    "loss"
   ]
  },
  {
   "cell_type": "code",
   "execution_count": 33,
   "id": "cccd5d89",
   "metadata": {},
   "outputs": [],
   "source": [
    "params.grad"
   ]
  },
  {
   "cell_type": "code",
   "execution_count": 34,
   "id": "8cc892f8",
   "metadata": {},
   "outputs": [],
   "source": [
    "#now we can imporve these gradients as well\n",
    "lr = 1e-5\n",
    "if params.grad is not None:\n",
    "    params.data -= params.grad * lr\n",
    "params.grad = None"
   ]
  },
  {
   "cell_type": "code",
   "execution_count": null,
   "id": "e15ff843",
   "metadata": {},
   "outputs": [],
   "source": []
  },
  {
   "cell_type": "code",
   "execution_count": 35,
   "id": "c5256375",
   "metadata": {},
   "outputs": [
    {
     "data": {
      "image/png": "[encoded data removed]",
      "text/plain": [
       "<Figure size 640x480 with 1 Axes>"
      ]
     },
     "metadata": {},
     "output_type": "display_data"
    }
   ],
   "source": [
    "preds = f(time,params)\n",
    "mse(preds, speed)\n",
    "show_preds(preds)"
   ]
  },
  {
   "cell_type": "code",
   "execution_count": 36,
   "id": "41a5d049",
   "metadata": {},
   "outputs": [],
   "source": [
    "#So all we have to do is repeat this process untill we get it right.\n",
    "def apply_steps(params,prn = True):\n",
    "    preds = f(time, params)\n",
    "    loss = mse(preds, speed)\n",
    "    if prn: print(loss.item())\n",
    "    loss.backward()\n",
    "    params.data -= params.grad * lr\n",
    "    params.grad = None\n",
    "    return preds"
   ]
  },
  {
   "cell_type": "code",
   "execution_count": 37,
   "id": "ac4f2293",
   "metadata": {},
   "outputs": [
    {
     "data": {
      "image/png": "[encoded data removed]",
      "text/plain": [
       "<Figure size 2000x600 with 10 Axes>"
      ]
     },
     "metadata": {},
     "output_type": "display_data"
    }
   ],
   "source": [
    "# now we just have to repeat the steps some times and show them in a grid\n",
    "num_steps = 10\n",
    "cols = 5\n",
    "rows = (num_steps + cols - 1) // cols\n",
    "fig, axs = plt.subplots(rows, cols, figsize=(cols*4, rows*3))\n",
    "axs = axs.flatten()\n",
    "for i in range(num_steps):\n",
    "    preds = apply_steps(params, prn=False)\n",
    "    ax = axs[i]\n",
    "    ax.scatter(time, speed)\n",
    "    ax.scatter(time, preds.detach().numpy(), color='red')\n",
    "    ax.set_ylim(-300, 100)\n",
    "    ax.set_title(f'Step {i+1}')\n",
    "for j in range(num_steps, len(axs)):\n",
    "    fig.delaxes(axs[j])\n",
    "plt.tight_layout()\n",
    "plt.show()"
   ]
  },
  {
   "cell_type": "markdown",
   "id": "e8b56139",
   "metadata": {},
   "source": [
    "We already have our xs—that is, our independent variables, the images themselves.\n",
    "We’ll concatenate them all into a single tensor, and also change them from a list of\n",
    "matrices (a rank-3 tensor) to a list of vectors (a rank-2 tensor). We can do this using\n",
    "view, which is a PyTorch method that changes the shape of a tensor without changing\n",
    "its contents."
   ]
  },
  {
   "cell_type": "code",
   "execution_count": 38,
   "id": "a63df44f",
   "metadata": {},
   "outputs": [
    {
     "data": {
      "text/plain": [
       "(torch.Size([12396, 784]), torch.Size([12396]))"
      ]
     },
     "execution_count": 38,
     "metadata": {},
     "output_type": "execute_result"
    }
   ],
   "source": [
    "train_x = torch.cat([stacked_threes, stacked_sevens]).view(-1, 28*28)\n",
    "train_y = tensor([1]*len(threes)+[0]*len(sevens))\n",
    "train_x.shape,train_y.shape"
   ]
  },
  {
   "cell_type": "code",
   "execution_count": 39,
   "id": "615668ce",
   "metadata": {},
   "outputs": [
    {
     "data": {
      "text/plain": [
       "(torch.Size([784]), tensor(1), 12396)"
      ]
     },
     "execution_count": 39,
     "metadata": {},
     "output_type": "execute_result"
    }
   ],
   "source": [
    "dset  = list(zip(train_x,train_y))\n",
    "x,y = dset[0]\n",
    "x.shape,y,len(dset)"
   ]
  },
  {
   "cell_type": "code",
   "execution_count": 40,
   "id": "d9b69057",
   "metadata": {},
   "outputs": [],
   "source": [
    "#initializing parmas with some random weigths\n",
    "def init_params(size, std=1.0): return (torch.randn(size)*std).requires_grad_()\n",
    "weights = init_params((28*28,1))\n",
    "bias = init_params(1)\n"
   ]
  },
  {
   "cell_type": "markdown",
   "id": "6f5a3668",
   "metadata": {},
   "source": [
    "\n",
    "In neural networks, the w in the equation y=w*x+b is called the weights, and the b is\n",
    "called the bias. Together, the weights and bias make up the parameters."
   ]
  },
  {
   "cell_type": "code",
   "execution_count": 41,
   "id": "4ee35ce8",
   "metadata": {},
   "outputs": [
    {
     "data": {
      "text/plain": [
       "tensor([16.7600], grad_fn=<AddBackward0>)"
      ]
     },
     "execution_count": 41,
     "metadata": {},
     "output_type": "execute_result"
    }
   ],
   "source": [
    "(train_x[0]*weights.T).sum() + bias\n"
   ]
  },
  {
   "cell_type": "code",
   "execution_count": 42,
   "id": "8b0ec5d8",
   "metadata": {},
   "outputs": [
    {
     "data": {
      "text/plain": [
       "tensor([[16.7600],\n",
       "        [13.1931],\n",
       "        [ 7.2390],\n",
       "        ...,\n",
       "        [14.7573],\n",
       "        [ 8.2220],\n",
       "        [10.8478]], grad_fn=<AddBackward0>)"
      ]
     },
     "execution_count": 42,
     "metadata": {},
     "output_type": "execute_result"
    }
   ],
   "source": [
    "def linear1(xb): return xb@weights + bias\n",
    "preds = linear1(train_x)\n",
    "preds"
   ]
  },
  {
   "cell_type": "markdown",
   "id": "b223fbb3",
   "metadata": {},
   "source": [
    "Let’s check our accuracy. To decide if an output represents a 3 or a 7, we can just\n",
    "check whether it’s greater than 0, so our accuracy for each item can be calculated\n",
    "(using broadcasting, so no loops!) as follows:"
   ]
  },
  {
   "cell_type": "code",
   "execution_count": 43,
   "id": "3f801c73",
   "metadata": {},
   "outputs": [
    {
     "data": {
      "text/plain": [
       "tensor([[ True,  True,  True,  ..., False, False, False],\n",
       "        [ True,  True,  True,  ..., False, False, False],\n",
       "        [ True,  True,  True,  ..., False, False, False],\n",
       "        ...,\n",
       "        [ True,  True,  True,  ..., False, False, False],\n",
       "        [ True,  True,  True,  ..., False, False, False],\n",
       "        [ True,  True,  True,  ..., False, False, False]])"
      ]
     },
     "execution_count": 43,
     "metadata": {},
     "output_type": "execute_result"
    }
   ],
   "source": [
    "corrects = (preds>0.0).float() == train_y\n",
    "corrects"
   ]
  },
  {
   "cell_type": "code",
   "execution_count": 44,
   "id": "f687a220",
   "metadata": {},
   "outputs": [
    {
     "data": {
      "text/plain": [
       "0.49494126439094543"
      ]
     },
     "execution_count": 44,
     "metadata": {},
     "output_type": "execute_result"
    }
   ],
   "source": [
    "corrects.float().mean().item()"
   ]
  },
  {
   "cell_type": "code",
   "execution_count": 45,
   "id": "d1694978",
   "metadata": {},
   "outputs": [
    {
     "name": "stdout",
     "output_type": "stream",
     "text": [
      "0.49494126439094543\n"
     ]
    }
   ],
   "source": [
    "with torch.no_grad():\n",
    "    weights[0] *= 1.0001\n",
    "\n",
    "preds = linear1(train_x)\n",
    "acc = ((preds > 0.0).float() == train_y).float().mean().item()\n",
    "print(acc)\n"
   ]
  },
  {
   "cell_type": "markdown",
   "id": "97b96149",
   "metadata": {},
   "source": [
    "now we need to measure our loss function\n"
   ]
  },
  {
   "cell_type": "code",
   "execution_count": 46,
   "id": "4440cb8d",
   "metadata": {},
   "outputs": [],
   "source": [
    "def mnist_loss(predictions, targets):\n",
    "    return torch.where(targets==1, 1-predictions, predictions).mean()"
   ]
  },
  {
   "cell_type": "code",
   "execution_count": 47,
   "id": "fbe4f776",
   "metadata": {},
   "outputs": [],
   "source": [
    "#now lets add sigmoid to the function\n",
    "def mnist_loss(predictions, targets):\n",
    "    predictions = predictions.sigmoid()\n",
    "    return torch.where(targets==1, 1-predictions, predictions).mean()"
   ]
  },
  {
   "cell_type": "code",
   "execution_count": 48,
   "id": "85856b71",
   "metadata": {},
   "outputs": [
    {
     "data": {
      "text/plain": [
       "tensor(0.5050, grad_fn=<MeanBackward0>)"
      ]
     },
     "execution_count": 48,
     "metadata": {},
     "output_type": "execute_result"
    }
   ],
   "source": [
    "mnist_loss(preds,train_y)"
   ]
  },
  {
   "cell_type": "markdown",
   "id": "9929551e",
   "metadata": {},
   "source": [
    "Now that we have a loss function suitable for driving SGD, we can consider some of\n",
    "the details involved in the next phase of the learning process, which is to change or\n",
    "update the weights based on the gradients. This is called an optimization step.\n",
    "\n",
    "To take an optimization step, we need to calculate the loss over one or more data\n",
    "items. How many should we use? We could calculate it for the whole dataset and take\n",
    "the average, or we could calculate it for a single data item. But neither of these is ideal.\n",
    "Calculating it for the whole dataset would take a long time. Calculating it for a single\n",
    "item would not use much information, so it would result in an imprecise and unsta‐\n",
    "ble gradient. You’d be going to the trouble of updating the weights, but taking into\n",
    "account only how that would improve the model’s performance on that single item.\n",
    "So instead we compromise: we calculate the average loss for a few data items at a\n",
    "time. This is called a mini-batch.\n",
    "\n",
    "A DataLoader can take any Python collection and turn it into an iterator over many\n",
    "batches, like so:"
   ]
  },
  {
   "cell_type": "code",
   "execution_count": 49,
   "id": "7e3fc075",
   "metadata": {},
   "outputs": [],
   "source": [
    "coll = range(15)\n",
    "dl = DataLoader(coll, batch_size=5, shuffle=True)\n"
   ]
  },
  {
   "cell_type": "code",
   "execution_count": 50,
   "id": "6b090435",
   "metadata": {},
   "outputs": [
    {
     "data": {
      "text/plain": [
       "torch.Size([4, 784])"
      ]
     },
     "execution_count": 50,
     "metadata": {},
     "output_type": "execute_result"
    }
   ],
   "source": [
    "#Let’s create a mini-batch of size 4 for testing:\n",
    "batch = train_x[:4]\n",
    "batch.shape"
   ]
  },
  {
   "cell_type": "code",
   "execution_count": 51,
   "id": "6cc5de5a",
   "metadata": {},
   "outputs": [
    {
     "data": {
      "text/plain": [
       "(tensor(0.0038, grad_fn=<MeanBackward0>),\n",
       " tensor([[16.7600],\n",
       "         [13.1931],\n",
       "         [ 7.2390],\n",
       "         [ 4.2086]], grad_fn=<AddBackward0>))"
      ]
     },
     "execution_count": 51,
     "metadata": {},
     "output_type": "execute_result"
    }
   ],
   "source": [
    "preds = linear1(batch)\n",
    "loss = mnist_loss(preds, train_y[:4])\n",
    "loss,preds"
   ]
  },
  {
   "cell_type": "code",
   "execution_count": 52,
   "id": "5900d589",
   "metadata": {},
   "outputs": [
    {
     "data": {
      "text/plain": [
       "(tensor(-0.0007), tensor([-0.0038]))"
      ]
     },
     "execution_count": 52,
     "metadata": {},
     "output_type": "execute_result"
    }
   ],
   "source": [
    "def calc_grad(xb,yb,model):\n",
    "    preds = model(xb)\n",
    "    loss = mnist_loss(preds,yb)\n",
    "    loss.backward()\n",
    "calc_grad(batch, train_y[:4], linear1)\n",
    "weights.grad.mean(),bias.grad"
   ]
  },
  {
   "cell_type": "code",
   "execution_count": 53,
   "id": "ef4917f2",
   "metadata": {},
   "outputs": [],
   "source": [
    "def train_epoch(model,lr,params):\n",
    "    for xb,yb in dl:\n",
    "        calc_grad(xb,yb,model)\n",
    "        for p in params:\n",
    "            p.data-=p.grad*lr\n",
    "            p.grad.zero_()"
   ]
  },
  {
   "cell_type": "code",
   "execution_count": 54,
   "id": "66122095",
   "metadata": {},
   "outputs": [
    {
     "data": {
      "text/plain": [
       "(tensor([[True, True, True, True],\n",
       "         [True, True, True, True],\n",
       "         [True, True, True, True],\n",
       "         [True, True, True, True]]),\n",
       " tensor(1.))"
      ]
     },
     "execution_count": 54,
     "metadata": {},
     "output_type": "execute_result"
    }
   ],
   "source": [
    "def batch_accuracy(xb,yb):\n",
    "    preds = xb.sigmoid()\n",
    "    correct = (preds>0.5)==yb\n",
    "    return correct.float().mean()\n",
    "(preds>0.0).float() == train_y[:4],batch_accuracy(linear1(batch), train_y[:4])\n"
   ]
  },
  {
   "cell_type": "code",
   "execution_count": 55,
   "id": "ef038246",
   "metadata": {},
   "outputs": [],
   "source": [
    "import torch\n",
    "from torch.utils.data import DataLoader\n",
    "\n",
    "# Fake data\n",
    "train_x = torch.randn(15, 3)\n",
    "train_y = torch.randint(0, 2, (15, 1)).float()\n",
    "\n",
    "dataset = list(zip(train_x, train_y))\n",
    "dl = DataLoader(dataset, batch_size=5, shuffle=True)\n",
    "\n",
    "# Parameters\n",
    "weights = torch.randn(3, 1, requires_grad=True)\n",
    "bias = torch.zeros(1, requires_grad=True)\n",
    "\n",
    "def linear1(xb):\n",
    "    return xb @ weights + bias\n",
    "\n",
    "loss_fn = torch.nn.BCEWithLogitsLoss()\n",
    "\n",
    "def calc_grad(xb, yb, model):\n",
    "    preds = model(xb)\n",
    "    loss = loss_fn(preds, yb)\n",
    "    loss.backward()\n",
    "\n",
    "def batch_accuracy(preds, yb):\n",
    "    preds = preds.sigmoid()\n",
    "    return ((preds > 0.5) == yb).float().mean()\n",
    "\n",
    "# def train_epoch(model, lr, params):\n",
    "#     for xb, yb in dl:\n",
    "#         calc_grad(xb, yb, model)\n",
    "#         for p in params:\n",
    "#             p.data -= p.grad * lr\n",
    "#             p.grad.zero_()\n",
    "\n",
    "def validate_epoch(model):\n",
    "    accs = [batch_accuracy(model(xb), yb) for xb, yb in dl]\n",
    "    return round(torch.stack(accs).mean().item(), 4)\n",
    "\n"
   ]
  },
  {
   "cell_type": "code",
   "execution_count": 56,
   "id": "b62c3ddc",
   "metadata": {},
   "outputs": [
    {
     "name": "stdout",
     "output_type": "stream",
     "text": [
      "Epoch 1: 0.5333\n",
      "Epoch 2: 0.5333\n",
      "Epoch 3: 0.5333\n",
      "Epoch 4: 0.6\n",
      "Epoch 5: 0.6\n",
      "Epoch 6: 0.6\n",
      "Epoch 7: 0.6\n",
      "Epoch 8: 0.6\n",
      "Epoch 9: 0.6\n",
      "Epoch 10: 0.6\n",
      "Epoch 11: 0.6\n",
      "Epoch 12: 0.6\n",
      "Epoch 13: 0.6\n",
      "Epoch 14: 0.6\n",
      "Epoch 15: 0.6\n",
      "Epoch 16: 0.6\n",
      "Epoch 17: 0.6\n",
      "Epoch 18: 0.7333\n",
      "Epoch 19: 0.7333\n",
      "Epoch 20: 0.6667\n"
     ]
    }
   ],
   "source": [
    "# Training\n",
    "lr = 0.1\n",
    "params = [weights, bias]\n",
    "\n",
    "def train_epoch(model, lr, params):\n",
    "    for xb, yb in dl:\n",
    "        # calculate loss & grads\n",
    "        calc_grad(xb, yb, model)\n",
    "\n",
    "        # manual gradient descent update\n",
    "        with torch.no_grad():\n",
    "            for p in params:\n",
    "                p -= p.grad * lr\n",
    "                p.grad.zero_()\n",
    "\n",
    "for epoch in range(20):\n",
    "    train_epoch(linear1, lr, params)\n",
    "    print(f\"Epoch {epoch+1}: {validate_epoch(linear1)}\")\n"
   ]
  },
  {
   "cell_type": "markdown",
   "id": "fe186be6",
   "metadata": {},
   "source": [
    "nn.Linear does the same thing as our init_params and linear together. It contains\n",
    "both the weights and biases in a single class. Here’s how we replicate our model from\n",
    "the previous section:"
   ]
  },
  {
   "cell_type": "code",
   "execution_count": 57,
   "id": "33f28e51",
   "metadata": {},
   "outputs": [
    {
     "name": "stdout",
     "output_type": "stream",
     "text": [
      "torch.Size([1, 784]) torch.Size([1])\n",
      "torch.Size([1, 784])\n",
      "torch.Size([1])\n"
     ]
    }
   ],
   "source": [
    "import torch.nn as nn\n",
    "\n",
    "linear_model = nn.Linear(28*28, 1)\n",
    "\n",
    "# Option 1: unpack explicitly\n",
    "w, b = list(linear_model.parameters())\n",
    "print(w.shape, b.shape)   # torch.Size([1, 784]) torch.Size([1])\n",
    "\n",
    "# Option 2: access directly\n",
    "print(linear_model.weight.shape)  # [1, 784]\n",
    "print(linear_model.bias.shape)    # [1]\n"
   ]
  },
  {
   "cell_type": "markdown",
   "id": "ec0409e1",
   "metadata": {},
   "source": [
    "Now lets create an optimizer"
   ]
  },
  {
   "cell_type": "code",
   "execution_count": 58,
   "id": "6a67662e",
   "metadata": {},
   "outputs": [
    {
     "name": "stdout",
     "output_type": "stream",
     "text": [
      "torch.Size([1, 784])\n",
      "torch.Size([1])\n"
     ]
    }
   ],
   "source": [
    "class BasicOptim:\n",
    "    def __init__(self, params, lr=0.01):\n",
    "        # Convert params generator into a list so we can iterate multiple times\n",
    "        self.params = list(params)\n",
    "        self.lr = lr\n",
    "\n",
    "    def step(self, *args, **kwargs):\n",
    "        # Gradient descent update\n",
    "        for p in self.params:\n",
    "            if p.grad is not None:   # avoid NoneType errors\n",
    "                p.data -= self.lr * p.grad\n",
    "\n",
    "    def zero_grad(self):\n",
    "        # Reset gradients (same as optimizer.zero_grad())\n",
    "        for p in self.params:\n",
    "            p.grad = None\n",
    "\n",
    "# Example use\n",
    "linear_model = nn.Linear(28*28, 1)  # fresh model\n",
    "opt = BasicOptim(linear_model.parameters(), lr=0.01)\n",
    "\n",
    "print(opt.params[0].shape)  # weight\n",
    "print(opt.params[1].shape)  # bias\n"
   ]
  },
  {
   "cell_type": "code",
   "execution_count": 59,
   "id": "34dea0a4",
   "metadata": {},
   "outputs": [
    {
     "name": "stdout",
     "output_type": "stream",
     "text": [
      "Epoch 1: 0.5333\n",
      "Epoch 2: 0.5333\n",
      "Epoch 3: 0.5333\n",
      "Epoch 4: 0.5333\n",
      "Epoch 5: 0.5333\n",
      "Epoch 6: 0.5333\n",
      "Epoch 7: 0.4667\n",
      "Epoch 8: 0.4667\n",
      "Epoch 9: 0.4667\n",
      "Epoch 10: 0.6\n",
      "Epoch 11: 0.6\n",
      "Epoch 12: 0.6\n",
      "Epoch 13: 0.6667\n",
      "Epoch 14: 0.6667\n",
      "Epoch 15: 0.6667\n",
      "Epoch 16: 0.6667\n",
      "Epoch 17: 0.6667\n",
      "Epoch 18: 0.6667\n",
      "Epoch 19: 0.6\n",
      "Epoch 20: 0.5333\n"
     ]
    }
   ],
   "source": [
    "# Raw parameters\n",
    "weights = torch.randn(3, 1, requires_grad=True)\n",
    "bias = torch.zeros(1, requires_grad=True)\n",
    "\n",
    "def linear1(xb):\n",
    "    return xb @ weights + bias\n",
    "\n",
    "def train_epoch(model, lr, params):\n",
    "    for xb, yb in dl:\n",
    "        calc_grad(xb, yb, model)\n",
    "        with torch.no_grad():\n",
    "            for p in params:\n",
    "                p -= lr * p.grad\n",
    "                p.grad.zero_()\n",
    "\n",
    "def train_model(model, epochs, lr, params):\n",
    "    for i in range(epochs):\n",
    "        train_epoch(model, lr, params)\n",
    "        print(f\"Epoch {i+1}: {validate_epoch(model)}\")\n",
    "\n",
    "# Run training\n",
    "params = [weights, bias]\n",
    "train_model(linear1, 20, 0.1, params)\n"
   ]
  },
  {
   "cell_type": "code",
   "execution_count": 60,
   "id": "f77fc29f",
   "metadata": {},
   "outputs": [
    {
     "data": {
      "text/plain": [
       "0.5333"
      ]
     },
     "execution_count": 60,
     "metadata": {},
     "output_type": "execute_result"
    }
   ],
   "source": [
    "validate_epoch(linear1)"
   ]
  },
  {
   "cell_type": "code",
   "execution_count": 61,
   "id": "1f8f9175",
   "metadata": {},
   "outputs": [
    {
     "name": "stdout",
     "output_type": "stream",
     "text": [
      "Epoch 1: 0.6719\n",
      "Epoch 2: 0.7422\n",
      "Epoch 3: 0.7578\n",
      "Epoch 4: 0.7891\n",
      "Epoch 5: 0.8203\n",
      "Epoch 6: 0.7891\n",
      "Epoch 7: 0.8672\n",
      "Epoch 8: 0.9453\n",
      "Epoch 9: 0.9609\n",
      "Epoch 10: 0.9297\n",
      "Epoch 11: 0.9922\n",
      "Epoch 12: 1.0\n",
      "Epoch 13: 1.0\n",
      "Epoch 14: 1.0\n",
      "Epoch 15: 1.0\n",
      "Epoch 16: 1.0\n",
      "Epoch 17: 1.0\n",
      "Epoch 18: 1.0\n",
      "Epoch 19: 1.0\n",
      "Epoch 20: 1.0\n"
     ]
    }
   ],
   "source": [
    "import torch\n",
    "from torch import nn\n",
    "from torch.optim import SGD\n",
    "from torch.utils.data import DataLoader\n",
    "\n",
    "# Fake dataset (28*28 flattened images → binary labels)\n",
    "train_x = torch.randn(100, 28*28)   # 100 samples, each 784 features\n",
    "train_y = torch.randint(0, 2, (100, 1)).float()\n",
    "dataset = list(zip(train_x, train_y))\n",
    "dl = DataLoader(dataset, batch_size=32, shuffle=True)\n",
    "\n",
    "# Define model (same as linear1 but using nn.Linear)\n",
    "linear_model = nn.Linear(28*28, 1)\n",
    "\n",
    "# Loss\n",
    "loss_fn = nn.BCEWithLogitsLoss()\n",
    "\n",
    "# Optimizer\n",
    "opt = SGD(linear_model.parameters(), lr=0.01)\n",
    "\n",
    "def calc_grad(xb, yb, model):\n",
    "    preds = model(xb)\n",
    "    loss = loss_fn(preds, yb)\n",
    "    loss.backward()\n",
    "\n",
    "def batch_accuracy(preds, yb):\n",
    "    preds = preds.sigmoid()\n",
    "    return ((preds > 0.5) == yb).float().mean()\n",
    "\n",
    "def train_epoch(model, opt):\n",
    "    for xb, yb in dl:\n",
    "        calc_grad(xb, yb, model)\n",
    "        opt.step()\n",
    "        opt.zero_grad()\n",
    "\n",
    "def validate_epoch(model):\n",
    "    accs = [batch_accuracy(model(xb), yb) for xb, yb in dl]\n",
    "    return round(torch.stack(accs).mean().item(), 4)\n",
    "\n",
    "def train_model(model, epochs, opt):\n",
    "    for i in range(epochs):\n",
    "        train_epoch(model, opt)\n",
    "        print(f\"Epoch {i+1}: {validate_epoch(model)}\")\n",
    "\n",
    "train_model(linear_model, 20, opt)\n"
   ]
  },
  {
   "cell_type": "markdown",
   "id": "b5157145",
   "metadata": {},
   "source": [
    "fastai also provides Learner.fit, which we can use instead of train_model. To create\n",
    "a Learner, we first need to create a DataLoaders, by passing in our training and vali‐\n",
    "dation DataLoaders:"
   ]
  },
  {
   "cell_type": "code",
   "execution_count": 62,
   "id": "b3ea34a9",
   "metadata": {},
   "outputs": [],
   "source": [
    "from fastai.optimizer import SGD  \n",
    "from fastai.learner import Learner\n",
    "from fastai.data.core import DataLoaders\n",
    "\n",
    "dls = DataLoaders(dl, dl)  \n",
    "learn = Learner(\n",
    "    dls,\n",
    "    nn.Linear(28*28, 1),\n",
    "    opt_func=SGD,  \n",
    "    loss_func=mnist_loss,\n",
    "    metrics=batch_accuracy\n",
    ")\n",
    "\n"
   ]
  },
  {
   "cell_type": "code",
   "execution_count": 63,
   "id": "9b19dd47",
   "metadata": {},
   "outputs": [
    {
     "data": {
      "text/html": [
       "\n",
       "<style>\n",
       "    /* Turns off some styling */\n",
       "    progress {\n",
       "        /* gets rid of default border in Firefox and Opera. */\n",
       "        border: none;\n",
       "        /* Needs to be in here for Safari polyfill so background images work as expected. */\n",
       "        background-size: auto;\n",
       "    }\n",
       "    progress:not([value]), progress:not([value])::-webkit-progress-bar {\n",
       "        background: repeating-linear-gradient(45deg, #7e7e7e, #7e7e7e 10px, #5c5c5c 10px, #5c5c5c 20px);\n",
       "    }\n",
       "    .progress-bar-interrupted, .progress-bar-interrupted::-webkit-progress-bar {\n",
       "        background: #F44336;\n",
       "    }\n",
       "</style>\n"
      ],
      "text/plain": [
       "<IPython.core.display.HTML object>"
      ]
     },
     "metadata": {},
     "output_type": "display_data"
    },
    {
     "data": {
      "text/html": [
       "<table border=\"1\" class=\"dataframe\">\n",
       "  <thead>\n",
       "    <tr style=\"text-align: left;\">\n",
       "      <th>epoch</th>\n",
       "      <th>train_loss</th>\n",
       "      <th>valid_loss</th>\n",
       "      <th>batch_accuracy</th>\n",
       "      <th>time</th>\n",
       "    </tr>\n",
       "  </thead>\n",
       "  <tbody>\n",
       "    <tr>\n",
       "      <td>0</td>\n",
       "      <td>0.468780</td>\n",
       "      <td>0.354023</td>\n",
       "      <td>0.800000</td>\n",
       "      <td>00:00</td>\n",
       "    </tr>\n",
       "    <tr>\n",
       "      <td>1</td>\n",
       "      <td>0.418117</td>\n",
       "      <td>0.257483</td>\n",
       "      <td>0.930000</td>\n",
       "      <td>00:00</td>\n",
       "    </tr>\n",
       "    <tr>\n",
       "      <td>2</td>\n",
       "      <td>0.355281</td>\n",
       "      <td>0.191108</td>\n",
       "      <td>0.970000</td>\n",
       "      <td>00:00</td>\n",
       "    </tr>\n",
       "    <tr>\n",
       "      <td>3</td>\n",
       "      <td>0.309776</td>\n",
       "      <td>0.145192</td>\n",
       "      <td>0.970000</td>\n",
       "      <td>00:00</td>\n",
       "    </tr>\n",
       "    <tr>\n",
       "      <td>4</td>\n",
       "      <td>0.267828</td>\n",
       "      <td>0.114382</td>\n",
       "      <td>0.990000</td>\n",
       "      <td>00:00</td>\n",
       "    </tr>\n",
       "    <tr>\n",
       "      <td>5</td>\n",
       "      <td>0.236056</td>\n",
       "      <td>0.091050</td>\n",
       "      <td>0.990000</td>\n",
       "      <td>00:00</td>\n",
       "    </tr>\n",
       "    <tr>\n",
       "      <td>6</td>\n",
       "      <td>0.210117</td>\n",
       "      <td>0.074982</td>\n",
       "      <td>1.000000</td>\n",
       "      <td>00:00</td>\n",
       "    </tr>\n",
       "    <tr>\n",
       "      <td>7</td>\n",
       "      <td>0.187926</td>\n",
       "      <td>0.062774</td>\n",
       "      <td>1.000000</td>\n",
       "      <td>00:00</td>\n",
       "    </tr>\n",
       "    <tr>\n",
       "      <td>8</td>\n",
       "      <td>0.168271</td>\n",
       "      <td>0.054518</td>\n",
       "      <td>1.000000</td>\n",
       "      <td>00:00</td>\n",
       "    </tr>\n",
       "    <tr>\n",
       "      <td>9</td>\n",
       "      <td>0.152864</td>\n",
       "      <td>0.047223</td>\n",
       "      <td>1.000000</td>\n",
       "      <td>00:00</td>\n",
       "    </tr>\n",
       "  </tbody>\n",
       "</table>"
      ],
      "text/plain": [
       "<IPython.core.display.HTML object>"
      ]
     },
     "metadata": {},
     "output_type": "display_data"
    }
   ],
   "source": [
    "learn.fit(10, lr=lr)"
   ]
  },
  {
   "cell_type": "markdown",
   "id": "d4352d41",
   "metadata": {},
   "source": [
    "A linear classifier\n",
    "is constrained in terms of what it can do. To make it a bit more complex (and able to\n",
    "handle more tasks), we need to add something nonlinear (i.e., different from ax+b)\n",
    "between two linear classifiers—this is what gives us a neural network.\n",
    "Here is the entire definition of a basic neural network:"
   ]
  },
  {
   "cell_type": "code",
   "execution_count": 64,
   "id": "8f61235a",
   "metadata": {},
   "outputs": [],
   "source": [
    "w1 = init_params((28*28,30))\n",
    "b1 = init_params(30)\n",
    "w2 = init_params((30,1))\n",
    "b2 = init_params(1)"
   ]
  },
  {
   "cell_type": "code",
   "execution_count": 65,
   "id": "1df6275b",
   "metadata": {},
   "outputs": [],
   "source": [
    "def simple_net(xb):\n",
    "    res = xb@w1 + b1\n",
    "    res = res.max(tensor(0.0))\n",
    "    res = res@w2+b2\n",
    "    return res\n"
   ]
  },
  {
   "cell_type": "code",
   "execution_count": 66,
   "id": "6f5f16a3",
   "metadata": {},
   "outputs": [
    {
     "data": {
      "image/png": "[encoded data removed]",
      "text/plain": [
       "<Figure size 600x400 with 1 Axes>"
      ]
     },
     "metadata": {},
     "output_type": "display_data"
    }
   ],
   "source": [
    "import torch\n",
    "import torch.nn.functional as F\n",
    "def plot_function(func, x_label='x', y_label='y', \n",
    "                  x_range=(-10, 10), num_points=1000, \n",
    "                  points=None):\n",
    "    x = torch.linspace(x_range[0], x_range[1], num_points)\n",
    "    y = func(x)\n",
    "\n",
    "    plt.figure(figsize=(6, 4))\n",
    "    plt.plot(x.numpy(), y.numpy(), label=f\"{y_label} = {func.__name__ if hasattr(func, '__name__') else 'f(x)'}\")\n",
    "\n",
    "    if points:\n",
    "        if all(isinstance(p, (int, float)) for p in points):\n",
    "            points = [(px, func(px)) for px in points]\n",
    "        px, py = zip(*points)\n",
    "        plt.scatter(px, py, color='red', label='Points of Interest', zorder=5)\n",
    "\n",
    "    plt.xlabel(x_label)\n",
    "    plt.ylabel(y_label)\n",
    "    plt.grid(True)\n",
    "    plt.legend()\n",
    "    plt.show()\n",
    "plot_function(F.relu)"
   ]
  },
  {
   "cell_type": "code",
   "execution_count": 67,
   "id": "010df0ea",
   "metadata": {},
   "outputs": [],
   "source": [
    "#this is the code in pytorch\n",
    "simple_net = nn.Sequential(\n",
    "nn.Linear(28*28,30),\n",
    "nn.ReLU(),\n",
    "nn.Linear(30,1)\n",
    ")"
   ]
  },
  {
   "cell_type": "markdown",
   "id": "2f696ea2",
   "metadata": {},
   "source": []
  },
  {
   "cell_type": "code",
   "execution_count": 68,
   "id": "fa9f3b6d",
   "metadata": {},
   "outputs": [
    {
     "data": {
      "text/html": [
       "\n",
       "<style>\n",
       "    /* Turns off some styling */\n",
       "    progress {\n",
       "        /* gets rid of default border in Firefox and Opera. */\n",
       "        border: none;\n",
       "        /* Needs to be in here for Safari polyfill so background images work as expected. */\n",
       "        background-size: auto;\n",
       "    }\n",
       "    progress:not([value]), progress:not([value])::-webkit-progress-bar {\n",
       "        background: repeating-linear-gradient(45deg, #7e7e7e, #7e7e7e 10px, #5c5c5c 10px, #5c5c5c 20px);\n",
       "    }\n",
       "    .progress-bar-interrupted, .progress-bar-interrupted::-webkit-progress-bar {\n",
       "        background: #F44336;\n",
       "    }\n",
       "</style>\n"
      ],
      "text/plain": [
       "<IPython.core.display.HTML object>"
      ]
     },
     "metadata": {},
     "output_type": "display_data"
    },
    {
     "data": {
      "text/html": [
       "<table border=\"1\" class=\"dataframe\">\n",
       "  <thead>\n",
       "    <tr style=\"text-align: left;\">\n",
       "      <th>epoch</th>\n",
       "      <th>train_loss</th>\n",
       "      <th>valid_loss</th>\n",
       "      <th>batch_accuracy</th>\n",
       "      <th>time</th>\n",
       "    </tr>\n",
       "  </thead>\n",
       "  <tbody>\n",
       "    <tr>\n",
       "      <td>0</td>\n",
       "      <td>0.500692</td>\n",
       "      <td>0.469623</td>\n",
       "      <td>0.590000</td>\n",
       "      <td>00:00</td>\n",
       "    </tr>\n",
       "    <tr>\n",
       "      <td>1</td>\n",
       "      <td>0.489112</td>\n",
       "      <td>0.441983</td>\n",
       "      <td>0.680000</td>\n",
       "      <td>00:00</td>\n",
       "    </tr>\n",
       "    <tr>\n",
       "      <td>2</td>\n",
       "      <td>0.476072</td>\n",
       "      <td>0.413911</td>\n",
       "      <td>0.770000</td>\n",
       "      <td>00:00</td>\n",
       "    </tr>\n",
       "    <tr>\n",
       "      <td>3</td>\n",
       "      <td>0.460041</td>\n",
       "      <td>0.382883</td>\n",
       "      <td>0.820000</td>\n",
       "      <td>00:00</td>\n",
       "    </tr>\n",
       "    <tr>\n",
       "      <td>4</td>\n",
       "      <td>0.444048</td>\n",
       "      <td>0.348890</td>\n",
       "      <td>0.900000</td>\n",
       "      <td>00:00</td>\n",
       "    </tr>\n",
       "    <tr>\n",
       "      <td>5</td>\n",
       "      <td>0.423184</td>\n",
       "      <td>0.310791</td>\n",
       "      <td>0.940000</td>\n",
       "      <td>00:00</td>\n",
       "    </tr>\n",
       "    <tr>\n",
       "      <td>6</td>\n",
       "      <td>0.403722</td>\n",
       "      <td>0.269591</td>\n",
       "      <td>0.980000</td>\n",
       "      <td>00:00</td>\n",
       "    </tr>\n",
       "    <tr>\n",
       "      <td>7</td>\n",
       "      <td>0.377679</td>\n",
       "      <td>0.231654</td>\n",
       "      <td>0.980000</td>\n",
       "      <td>00:00</td>\n",
       "    </tr>\n",
       "    <tr>\n",
       "      <td>8</td>\n",
       "      <td>0.354742</td>\n",
       "      <td>0.196211</td>\n",
       "      <td>0.980000</td>\n",
       "      <td>00:00</td>\n",
       "    </tr>\n",
       "    <tr>\n",
       "      <td>9</td>\n",
       "      <td>0.333589</td>\n",
       "      <td>0.164244</td>\n",
       "      <td>1.000000</td>\n",
       "      <td>00:00</td>\n",
       "    </tr>\n",
       "    <tr>\n",
       "      <td>10</td>\n",
       "      <td>0.307885</td>\n",
       "      <td>0.138612</td>\n",
       "      <td>1.000000</td>\n",
       "      <td>00:00</td>\n",
       "    </tr>\n",
       "    <tr>\n",
       "      <td>11</td>\n",
       "      <td>0.285590</td>\n",
       "      <td>0.115511</td>\n",
       "      <td>1.000000</td>\n",
       "      <td>00:00</td>\n",
       "    </tr>\n",
       "    <tr>\n",
       "      <td>12</td>\n",
       "      <td>0.266086</td>\n",
       "      <td>0.097236</td>\n",
       "      <td>1.000000</td>\n",
       "      <td>00:00</td>\n",
       "    </tr>\n",
       "    <tr>\n",
       "      <td>13</td>\n",
       "      <td>0.246851</td>\n",
       "      <td>0.081388</td>\n",
       "      <td>1.000000</td>\n",
       "      <td>00:00</td>\n",
       "    </tr>\n",
       "    <tr>\n",
       "      <td>14</td>\n",
       "      <td>0.228981</td>\n",
       "      <td>0.068199</td>\n",
       "      <td>1.000000</td>\n",
       "      <td>00:00</td>\n",
       "    </tr>\n",
       "    <tr>\n",
       "      <td>15</td>\n",
       "      <td>0.211150</td>\n",
       "      <td>0.058968</td>\n",
       "      <td>1.000000</td>\n",
       "      <td>00:00</td>\n",
       "    </tr>\n",
       "    <tr>\n",
       "      <td>16</td>\n",
       "      <td>0.194751</td>\n",
       "      <td>0.051418</td>\n",
       "      <td>1.000000</td>\n",
       "      <td>00:00</td>\n",
       "    </tr>\n",
       "    <tr>\n",
       "      <td>17</td>\n",
       "      <td>0.180636</td>\n",
       "      <td>0.044281</td>\n",
       "      <td>1.000000</td>\n",
       "      <td>00:00</td>\n",
       "    </tr>\n",
       "    <tr>\n",
       "      <td>18</td>\n",
       "      <td>0.167315</td>\n",
       "      <td>0.038705</td>\n",
       "      <td>1.000000</td>\n",
       "      <td>00:00</td>\n",
       "    </tr>\n",
       "    <tr>\n",
       "      <td>19</td>\n",
       "      <td>0.154471</td>\n",
       "      <td>0.034611</td>\n",
       "      <td>1.000000</td>\n",
       "      <td>00:00</td>\n",
       "    </tr>\n",
       "    <tr>\n",
       "      <td>20</td>\n",
       "      <td>0.143446</td>\n",
       "      <td>0.030516</td>\n",
       "      <td>1.000000</td>\n",
       "      <td>00:00</td>\n",
       "    </tr>\n",
       "    <tr>\n",
       "      <td>21</td>\n",
       "      <td>0.133067</td>\n",
       "      <td>0.027286</td>\n",
       "      <td>1.000000</td>\n",
       "      <td>00:00</td>\n",
       "    </tr>\n",
       "    <tr>\n",
       "      <td>22</td>\n",
       "      <td>0.123117</td>\n",
       "      <td>0.024817</td>\n",
       "      <td>1.000000</td>\n",
       "      <td>00:00</td>\n",
       "    </tr>\n",
       "    <tr>\n",
       "      <td>23</td>\n",
       "      <td>0.114958</td>\n",
       "      <td>0.021945</td>\n",
       "      <td>1.000000</td>\n",
       "      <td>00:00</td>\n",
       "    </tr>\n",
       "    <tr>\n",
       "      <td>24</td>\n",
       "      <td>0.106617</td>\n",
       "      <td>0.020091</td>\n",
       "      <td>1.000000</td>\n",
       "      <td>00:00</td>\n",
       "    </tr>\n",
       "    <tr>\n",
       "      <td>25</td>\n",
       "      <td>0.098777</td>\n",
       "      <td>0.018575</td>\n",
       "      <td>1.000000</td>\n",
       "      <td>00:00</td>\n",
       "    </tr>\n",
       "    <tr>\n",
       "      <td>26</td>\n",
       "      <td>0.091645</td>\n",
       "      <td>0.017229</td>\n",
       "      <td>1.000000</td>\n",
       "      <td>00:00</td>\n",
       "    </tr>\n",
       "    <tr>\n",
       "      <td>27</td>\n",
       "      <td>0.085197</td>\n",
       "      <td>0.015944</td>\n",
       "      <td>1.000000</td>\n",
       "      <td>00:00</td>\n",
       "    </tr>\n",
       "    <tr>\n",
       "      <td>28</td>\n",
       "      <td>0.079351</td>\n",
       "      <td>0.014747</td>\n",
       "      <td>1.000000</td>\n",
       "      <td>00:00</td>\n",
       "    </tr>\n",
       "    <tr>\n",
       "      <td>29</td>\n",
       "      <td>0.073821</td>\n",
       "      <td>0.013764</td>\n",
       "      <td>1.000000</td>\n",
       "      <td>00:00</td>\n",
       "    </tr>\n",
       "    <tr>\n",
       "      <td>30</td>\n",
       "      <td>0.068645</td>\n",
       "      <td>0.012954</td>\n",
       "      <td>1.000000</td>\n",
       "      <td>00:00</td>\n",
       "    </tr>\n",
       "    <tr>\n",
       "      <td>31</td>\n",
       "      <td>0.063947</td>\n",
       "      <td>0.012165</td>\n",
       "      <td>1.000000</td>\n",
       "      <td>00:00</td>\n",
       "    </tr>\n",
       "    <tr>\n",
       "      <td>32</td>\n",
       "      <td>0.059733</td>\n",
       "      <td>0.011368</td>\n",
       "      <td>1.000000</td>\n",
       "      <td>00:00</td>\n",
       "    </tr>\n",
       "    <tr>\n",
       "      <td>33</td>\n",
       "      <td>0.055719</td>\n",
       "      <td>0.010709</td>\n",
       "      <td>1.000000</td>\n",
       "      <td>00:00</td>\n",
       "    </tr>\n",
       "    <tr>\n",
       "      <td>34</td>\n",
       "      <td>0.052095</td>\n",
       "      <td>0.009994</td>\n",
       "      <td>1.000000</td>\n",
       "      <td>00:00</td>\n",
       "    </tr>\n",
       "    <tr>\n",
       "      <td>35</td>\n",
       "      <td>0.048568</td>\n",
       "      <td>0.009514</td>\n",
       "      <td>1.000000</td>\n",
       "      <td>00:00</td>\n",
       "    </tr>\n",
       "    <tr>\n",
       "      <td>36</td>\n",
       "      <td>0.045355</td>\n",
       "      <td>0.009045</td>\n",
       "      <td>1.000000</td>\n",
       "      <td>00:00</td>\n",
       "    </tr>\n",
       "    <tr>\n",
       "      <td>37</td>\n",
       "      <td>0.042349</td>\n",
       "      <td>0.008642</td>\n",
       "      <td>1.000000</td>\n",
       "      <td>00:00</td>\n",
       "    </tr>\n",
       "    <tr>\n",
       "      <td>38</td>\n",
       "      <td>0.039789</td>\n",
       "      <td>0.008145</td>\n",
       "      <td>1.000000</td>\n",
       "      <td>00:00</td>\n",
       "    </tr>\n",
       "    <tr>\n",
       "      <td>39</td>\n",
       "      <td>0.037191</td>\n",
       "      <td>0.007808</td>\n",
       "      <td>1.000000</td>\n",
       "      <td>00:00</td>\n",
       "    </tr>\n",
       "  </tbody>\n",
       "</table>"
      ],
      "text/plain": [
       "<IPython.core.display.HTML object>"
      ]
     },
     "metadata": {},
     "output_type": "display_data"
    }
   ],
   "source": [
    "learn = Learner(dls,simple_net,opt_func=SGD,loss_func=mnist_loss,metrics=batch_accuracy)\n",
    "learn.fit(40,0.1)"
   ]
  },
  {
   "cell_type": "code",
   "execution_count": 69,
   "id": "203bc3bd",
   "metadata": {},
   "outputs": [
    {
     "data": {
      "text/plain": [
       "[<matplotlib.lines.Line2D at 0x7f04042679d0>]"
      ]
     },
     "execution_count": 69,
     "metadata": {},
     "output_type": "execute_result"
    },
    {
     "data": {
      "image/png": "[encoded data removed]",
      "text/plain": [
       "<Figure size 640x480 with 1 Axes>"
      ]
     },
     "metadata": {},
     "output_type": "display_data"
    }
   ],
   "source": [
    "plt.plot(L(learn.recorder.values).itemgot(2))"
   ]
  },
  {
   "cell_type": "code",
   "execution_count": 70,
   "id": "5309804d",
   "metadata": {},
   "outputs": [
    {
     "name": "stdout",
     "output_type": "stream",
     "text": [
      "[[0.5006921291351318, 0.4696231484413147, 0.5899999737739563], [0.48911216855049133, 0.4419829845428467, 0.6800000071525574], [0.47607171535491943, 0.4139108955860138, 0.7699999809265137], [0.46004149317741394, 0.3828834295272827, 0.8199999928474426]]\n",
      "final accuracy 1.0\n"
     ]
    }
   ],
   "source": [
    "print(learn.recorder.values[:4])\n",
    "print(f\"final accuracy {learn.recorder.values[-1][2]}\")\n"
   ]
  },
  {
   "cell_type": "code",
   "execution_count": 71,
   "id": "c84a6b50",
   "metadata": {},
   "outputs": [
    {
     "name": "stderr",
     "output_type": "stream",
     "text": [
      "/usr/lib/python3.13/site-packages/fastai/vision/learner.py:303: UserWarning: `cnn_learner` has been renamed to `vision_learner` -- please update your code\n",
      "  warn(\"`cnn_learner` has been renamed to `vision_learner` -- please update your code\")\n"
     ]
    },
    {
     "data": {
      "text/html": [
       "\n",
       "<style>\n",
       "    /* Turns off some styling */\n",
       "    progress {\n",
       "        /* gets rid of default border in Firefox and Opera. */\n",
       "        border: none;\n",
       "        /* Needs to be in here for Safari polyfill so background images work as expected. */\n",
       "        background-size: auto;\n",
       "    }\n",
       "    progress:not([value]), progress:not([value])::-webkit-progress-bar {\n",
       "        background: repeating-linear-gradient(45deg, #7e7e7e, #7e7e7e 10px, #5c5c5c 10px, #5c5c5c 20px);\n",
       "    }\n",
       "    .progress-bar-interrupted, .progress-bar-interrupted::-webkit-progress-bar {\n",
       "        background: #F44336;\n",
       "    }\n",
       "</style>\n"
      ],
      "text/plain": [
       "<IPython.core.display.HTML object>"
      ]
     },
     "metadata": {},
     "output_type": "display_data"
    },
    {
     "data": {
      "text/html": [
       "<table border=\"1\" class=\"dataframe\">\n",
       "  <thead>\n",
       "    <tr style=\"text-align: left;\">\n",
       "      <th>epoch</th>\n",
       "      <th>train_loss</th>\n",
       "      <th>valid_loss</th>\n",
       "      <th>accuracy</th>\n",
       "      <th>time</th>\n",
       "    </tr>\n",
       "  </thead>\n",
       "  <tbody>\n",
       "    <tr>\n",
       "      <td>0</td>\n",
       "      <td>0.137579</td>\n",
       "      <td>0.022487</td>\n",
       "      <td>0.995584</td>\n",
       "      <td>01:35</td>\n",
       "    </tr>\n",
       "  </tbody>\n",
       "</table>"
      ],
      "text/plain": [
       "<IPython.core.display.HTML object>"
      ]
     },
     "metadata": {},
     "output_type": "display_data"
    }
   ],
   "source": [
    "#this is what happens when we train i ton ore complex model as we increaee rhe accuracy just keeps on increasing\n",
    "\n",
    "dls = ImageDataLoaders.from_folder(path)\n",
    "learn = cnn_learner(dls, resnet18, pretrained=False,\n",
    "loss_func=F.cross_entropy, metrics=accuracy)\n",
    "learn.fit_one_cycle(1, 0.1)"
   ]
  }
 ],
 "metadata": {
  "kernelspec": {
   "display_name": "Python 3 (ipykernel)",
   "language": "python",
   "name": "python3"
  },
  "language_info": {
   "codemirror_mode": {
    "name": "ipython",
    "version": 3
   },
   "file_extension": ".py",
   "mimetype": "text/x-python",
   "name": "python",
   "nbconvert_exporter": "python",
   "pygments_lexer": "ipython3",
   "version": "3.13.5"
  }
 },
 "nbformat": 4,
 "nbformat_minor": 5
}
